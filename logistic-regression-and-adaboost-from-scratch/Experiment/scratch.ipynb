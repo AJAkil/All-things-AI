{
 "cells": [
  {
   "cell_type": "code",
   "execution_count": 1,
   "metadata": {
    "collapsed": true
   },
   "outputs": [],
   "source": [
    "import pprint as pp\n",
    "import pandas as pd\n",
    "import numpy as np\n",
    "import matplotlib.pyplot as plt\n",
    "from sklearn import preprocessing\n",
    "from sklearn.model_selection import train_test_split\n",
    "import argparse\n",
    "from sklearn.preprocessing import MinMaxScaler, StandardScaler, KBinsDiscretizer\n",
    "from sklearn.metrics import accuracy_score\n",
    "np.random.seed(111)"
   ]
  },
  {
   "cell_type": "code",
   "execution_count": 2,
   "outputs": [],
   "source": [
    "class Utility:\n",
    "\n",
    "    @staticmethod\n",
    "    def get_whitespace_count(df):\n",
    "        columns = df.columns\n",
    "        dict = {}\n",
    "        for col in columns:\n",
    "            dict[col] = df[col].str.isspace().sum() if df[col].dtype == 'object' else -1\n",
    "\n",
    "        pp.pprint(dict)\n",
    "\n",
    "    @staticmethod\n",
    "    def get_value_counts(df, num_cols):\n",
    "        for col in num_cols:\n",
    "            print(df[col].value_counts())\n",
    "\n",
    "    @staticmethod\n",
    "    def transformStandardScaler(df, transformable_columns, label):\n",
    "        test = df.copy()\n",
    "\n",
    "        if label in transformable_columns:\n",
    "            transformable_columns.remove(label)\n",
    "\n",
    "        test[transformable_columns] = StandardScaler().fit_transform(test[transformable_columns])\n",
    "\n",
    "        return test\n",
    "\n",
    "    @staticmethod\n",
    "    def transformMinMaxScaler(df, transformable_columns, label):\n",
    "        test = df.copy()\n",
    "\n",
    "        if label in transformable_columns:\n",
    "            transformable_columns.remove(label)\n",
    "\n",
    "        test[transformable_columns] = MinMaxScaler().fit_transform(test[transformable_columns])\n",
    "\n",
    "        return test\n",
    "\n",
    "    @staticmethod\n",
    "    def transformKBinsDiscretizer(df, transformable_columns, label, bins):\n",
    "\n",
    "        if label in transformable_columns:\n",
    "            transformable_columns.remove(label)\n",
    "\n",
    "        for col in transformable_columns:\n",
    "            est = KBinsDiscretizer(n_bins=bins, encode='ordinal', strategy='uniform')\n",
    "            df[col] = est.fit_transform(df[[col]])\n",
    "\n",
    "    @staticmethod\n",
    "    def get_binary_col_count(df, columns):\n",
    "        return [col for col in columns if len(df[col].value_counts()) == 2]\n",
    "\n",
    "    def get_all_cols(self, df):\n",
    "        columns = list(df.columns)\n",
    "        columns_with_nan = df.columns[df.isna().any()].tolist()\n",
    "        num_cols = list(df._get_numeric_data().columns)\n",
    "        cat_cols = list(set(columns) - set(num_cols))\n",
    "        cat_cols_with_nan = set(columns_with_nan) - set(num_cols)\n",
    "        num_cols_with_nan = set(columns_with_nan) - set(cat_cols)\n",
    "        binary_cols = self.get_binary_col_count(df, columns)\n",
    "\n",
    "        return {'columns': columns,\n",
    "                'columns_with_nan': columns_with_nan,\n",
    "                'num_cols': num_cols,\n",
    "                'cat_cols': cat_cols,\n",
    "                'cat_cols_with_nan': cat_cols_with_nan,\n",
    "                'num_cols_with_nan': num_cols_with_nan,\n",
    "                'binary_cols': binary_cols}\n",
    "\n",
    "\n",
    "class MetricCalculator:\n",
    "    def __init__(self, y_real, y_pred) -> None:\n",
    "        self.TP = 0\n",
    "        self.TN = 0\n",
    "        self.FP = 0\n",
    "        self.FN = 0\n",
    "        self.y_real = y_real\n",
    "        self.y_pred = y_pred\n",
    "        self.num_rows = len(y_pred)\n",
    "\n",
    "    def calculate_cf_matrix_fields(self):\n",
    "\n",
    "        self.y_real[self.y_real == 0] = -1\n",
    "\n",
    "        for index in range(self.num_rows):\n",
    "            if self.y_real[index] == 1 and self.y_pred[index] == 1:\n",
    "                self.TP += 1\n",
    "            if self.y_pred[index] == 1 and self.y_real[index] == -1:\n",
    "                self.FP += 1\n",
    "            if self.y_real[index] == -1 and self.y_pred[index] == -1:\n",
    "                self.TN += 1\n",
    "            if self.y_pred[index] == -1 and self.y_real[index] == 1:\n",
    "                self.FN += 1\n",
    "\n",
    "    def get_cf_field(self):\n",
    "        return self.TP, self.TN, self.FP, self.FN\n",
    "\n",
    "    def calculate_all_metric(self):\n",
    "        self.calculate_cf_matrix_fields()\n",
    "\n",
    "        print(f'TP: {self.TP}')\n",
    "        print(f'TN: {self.TN}')\n",
    "        print(f'FP: {self.FP}')\n",
    "        print(f'FN: {self.FN}')\n",
    "\n",
    "        self.calculate_accuracy()\n",
    "        self.calculate_recall()\n",
    "        self.calculate_specificity()\n",
    "        self.calculate_precision()\n",
    "        self.calculate_false_discovery_rate()\n",
    "        self.calculate_f1_score()\n",
    "\n",
    "        print(f'Accuracy: {self.calculate_accuracy():.3f} %')\n",
    "        print(f'Recall: {self.calculate_recall():.3f} %')\n",
    "        print(f'Specificity: {self.calculate_specificity():.3f} %')\n",
    "        print(f'Precision: {self.calculate_precision():.3f} %')\n",
    "        print(f'False Discovery Rate: {self.calculate_false_discovery_rate():.3f} %')\n",
    "        print(f'F1 score: {self.calculate_f1_score():.3f} %')\n",
    "\n",
    "    def calculate_accuracy(self):\n",
    "        if self.TP + self.TN + self.FP + self.FN != 0:\n",
    "            return 100 * ((self.TP + self.TN) / (self.TP + self.TN + self.FP + self.FN))\n",
    "\n",
    "        print('Division by zero error')\n",
    "        return -1\n",
    "\n",
    "    def calculate_precision(self):\n",
    "        if self.TP + self.FP != 0:\n",
    "            return 100 * (self.TP / (self.TP + self.FP))\n",
    "        print('Division by zero error')\n",
    "        return -1\n",
    "\n",
    "    def calculate_recall(self):\n",
    "        if self.TP + self.FN != 0:\n",
    "            return 100 * (self.TP / (self.TP + self.FN))\n",
    "        print('Division by zero error')\n",
    "        return -1\n",
    "\n",
    "    def calculate_specificity(self):\n",
    "        if self.TN + self.FP != 0:\n",
    "            return 100 * (self.TN / (self.TN + self.FP))\n",
    "        print('Division by zero error')\n",
    "        return -1\n",
    "\n",
    "    def calculate_false_discovery_rate(self):\n",
    "        if self.FP + self.TP != 0:\n",
    "            return 100 * (self.FP / (self.FP + self.TP))\n",
    "        print('Division by zero error')\n",
    "        return -1\n",
    "\n",
    "    def calculate_f1_score(self):\n",
    "        if 2 * self.TP + self.FP + self.FN != 0:\n",
    "            return 100 * ((2 * self.TP) / (2 * self.TP + self.FP + self.FN))\n",
    "        print('Division by zero error')\n",
    "        return -1"
   ],
   "metadata": {
    "collapsed": false,
    "pycharm": {
     "name": "#%%\n"
    }
   }
  },
  {
   "cell_type": "code",
   "execution_count": 57,
   "outputs": [],
   "source": [
    "class InformationGain:\n",
    "\n",
    "    def __init__(self, df, num_cols, label):\n",
    "        self.df = df\n",
    "        self.num_cols = num_cols\n",
    "        self.label = label\n",
    "        self.original_columns = self.df.columns\n",
    "\n",
    "    def get_final_column_list(self, num_of_features):\n",
    "        self.cont_to_bins_pipeline()  # careful here!\n",
    "        gain_dict = {col: self.calculate_gain(col) for col in list(set(self.df.columns) - {self.label})}\n",
    "        sorted_gain_dict = {k: v for k, v in sorted(gain_dict.items(), key=lambda item: item[1])}\n",
    "        print('Sorted gain dict:', sorted_gain_dict)\n",
    "        cols_to_drop = list(sorted_gain_dict.keys())[:len(sorted_gain_dict) - num_of_features]\n",
    "        final_cols = list(set(self.original_columns) - set(cols_to_drop))\n",
    "        # print('Final Cols are: ==>')\n",
    "        # print(final_cols)\n",
    "\n",
    "        return final_cols\n",
    "\n",
    "    def calculate_gain(self, attribute):\n",
    "        if self.label != attribute:\n",
    "            p = len(self.df[self.df[self.label] == 1])\n",
    "            df_size = len(self.df)  # p + n\n",
    "            data_entropy = self.calculate_entropy(p / df_size)\n",
    "            # print('Data entropy is', data_entropy)\n",
    "\n",
    "            attribute_remainder = self.calculate_remainder(attribute)\n",
    "            return data_entropy - attribute_remainder\n",
    "\n",
    "    def calculate_remainder(self, attribute):\n",
    "        # print('testing ==> ', attribute)\n",
    "        # print(self.df[attribute].head())\n",
    "        unique_vals = self.df[attribute].unique().tolist()\n",
    "\n",
    "        remainder_sum = 0\n",
    "        for index, attrib_val in enumerate(unique_vals):\n",
    "\n",
    "            # choosing the rows equal to the unique value in the attribute\n",
    "            filtered_df = self.df.where(self.df[attribute] == attrib_val).dropna()\n",
    "\n",
    "            # print(f'{attrib_val} - {len(filtered_df)}')\n",
    "\n",
    "            # calculating number of positive classed rows for the given attribute's unique value\n",
    "            pk = len(filtered_df[filtered_df[self.label] == 1])\n",
    "            nk = len(filtered_df[filtered_df[self.label] == 0])\n",
    "\n",
    "            # sanity check\n",
    "            assert nk == len(filtered_df) - pk\n",
    "            # print(f'{attribute} - {attrib_val} (pk+nk): {pk+nk}')\n",
    "\n",
    "            prob = (pk + nk) / (len(self.df))\n",
    "            if prob != 0:\n",
    "                attr_entropy = self.calculate_entropy(pk / (pk + nk))\n",
    "                remainder_sum += prob * attr_entropy\n",
    "\n",
    "        return remainder_sum\n",
    "\n",
    "    @staticmethod\n",
    "    def calculate_entropy(q):\n",
    "        if q > 0:\n",
    "            return -1 * (q * np.log2(q) + (1 - q) * np.log2(1 - q))\n",
    "        return 0\n",
    "\n",
    "    def convert_cont_to_bins(self, old_col_name):\n",
    "        min = self.df[old_col_name].min()\n",
    "        median = self.df[old_col_name].median()\n",
    "        max = self.df[old_col_name].max()\n",
    "        epsilon = 1e-3\n",
    "\n",
    "        if len(self.df[old_col_name].unique()) > 2:\n",
    "            # print('Binning:', old_col_name)\n",
    "            self.df[old_col_name + '_'] = pd.cut(self.df[old_col_name], bins=[min - epsilon, median, max + epsilon],\n",
    "                                                 labels=['b1', 'b2'], duplicates='drop')\n",
    "            self.df.drop(columns=[old_col_name], inplace=True)\n",
    "            self.df.rename(columns={old_col_name + '_': old_col_name}, inplace=True)\n",
    "\n",
    "    def cont_to_bins_pipeline(self):\n",
    "        for col in list(set(self.num_cols) - set(self.label)):\n",
    "            self.convert_cont_to_bins(col)"
   ],
   "metadata": {
    "collapsed": false,
    "pycharm": {
     "name": "#%%\n"
    }
   }
  },
  {
   "cell_type": "code",
   "execution_count": 4,
   "outputs": [],
   "source": [
    "def preprocess_churn_data(df, label, num_of_features):\n",
    "    # print(\"Preprocessing Churn Dataset\")\n",
    "    util = Utility()\n",
    "\n",
    "    if num_of_features > df.shape[1]:\n",
    "        print(f'Exceeded total features, using max {df.shape[1]} features')\n",
    "        num_of_features = df.shape[1]\n",
    "\n",
    "    # print(len(df))\n",
    "\n",
    "    df.dropna(axis=0, subset=[label])\n",
    "\n",
    "    # print(len(df))\n",
    "\n",
    "    # drop the customer ID column in the dataset\n",
    "    df.drop('customerID', axis=1, inplace=True)\n",
    "\n",
    "    # converting the labels(y) to numeric labels\n",
    "    # print(df.head())\n",
    "    label_encoder = preprocessing.LabelEncoder()\n",
    "    df[label] = label_encoder.fit_transform(df[label])\n",
    "    # print(df.head())\n",
    "\n",
    "    # print(\"\\nMissing values :  \", df.isnull().sum().values.sum())\n",
    "\n",
    "    # get the whitespace  counts and remove them\n",
    "    # util.get_whitespace_count(df)\n",
    "\n",
    "    df['TotalCharges'] = df['TotalCharges'].replace(r'^\\s*$', np.NaN, regex=True)\n",
    "\n",
    "    # util.get_whitespace_count(df)\n",
    "\n",
    "    # print(\"\\nMissing values :  \", df.isnull().sum())\n",
    "\n",
    "    # converting a single column to float\n",
    "    # df[cols] = df[cols].apply(pd.to_numeric, errors='coerce') where cols are required columns we want to convert\n",
    "    df['TotalCharges'] = pd.to_numeric(df['TotalCharges'], downcast=\"float\", errors='coerce')\n",
    "\n",
    "    # print(\"\\nBefore Missing values :  \", df.isnull().sum())\n",
    "\n",
    "    # replacing the missing values with mean for total charges\n",
    "    df['TotalCharges'].fillna(value=df['TotalCharges'].mean(), inplace=True)\n",
    "\n",
    "    # print(\"\\nAfter Missing values :  \", df.isnull().sum())\n",
    "\n",
    "    if num_of_features != -1:\n",
    "        # get all columns\n",
    "        col_name_dict = util.get_all_cols(df)\n",
    "\n",
    "        # gain computations\n",
    "        temp_df = df.copy()\n",
    "        gainFilter = InformationGain(temp_df, col_name_dict['num_cols'], label)\n",
    "        final_cols = gainFilter.get_final_column_list(num_of_features=num_of_features)\n",
    "\n",
    "        # print('Final Cols are: ==>')\n",
    "        # print(final_cols)\n",
    "        df = df[final_cols]\n",
    "\n",
    "    # get all columns\n",
    "    col_name_dict = util.get_all_cols(df)\n",
    "\n",
    "    # removing categorical columns with mode( most frequent value)\n",
    "    for cat_col in col_name_dict['cat_cols_with_nan']:\n",
    "        df[cat_col].fillna(value=df[cat_col].mode()[0], inplace=True)\n",
    "\n",
    "    # print(df.isnull().sum())\n",
    "\n",
    "    # removing numerical columns with mean value\n",
    "    for num_col in col_name_dict['num_cols_with_nan']:\n",
    "        df[num_col].fillna(value=df[num_col].mean(), inplace=True)\n",
    "\n",
    "    # print(df.isnull().sum())\n",
    "\n",
    "    # one hot encoding the categorical cols\n",
    "    df = pd.get_dummies(df, columns=list(set(col_name_dict['cat_cols']) - set(col_name_dict['binary_cols'])))\n",
    "\n",
    "    # label encoding the binary cols\n",
    "    for col in list(set(col_name_dict['binary_cols']) - set(label)):\n",
    "        # print('Label Encoding: ', col)\n",
    "        label_encoder = preprocessing.LabelEncoder()\n",
    "        df[col] = label_encoder.fit_transform(df[col])\n",
    "\n",
    "    if len(list(set(col_name_dict['num_cols']) - set(col_name_dict['binary_cols']))) != 0:\n",
    "        df = util.transformStandardScaler(df, list(set(col_name_dict['num_cols']) - set(col_name_dict['binary_cols'])),\n",
    "                                          label)\n",
    "\n",
    "    # changing the lables from 0,1 to -1,1\n",
    "    df[label] = df[label].replace([0], -1)\n",
    "\n",
    "    df.reset_index(inplace=True, drop=True)\n",
    "    # print('DONE')\n",
    "    return df"
   ],
   "metadata": {
    "collapsed": false,
    "pycharm": {
     "name": "#%%\n"
    }
   }
  },
  {
   "cell_type": "code",
   "execution_count": 5,
   "outputs": [],
   "source": [
    "class LogisticRegression:\n",
    "    def __init__(self, learning_rate, max_iter, test_size, early_stop_error, decay) -> None:\n",
    "        self.learning_rate = learning_rate\n",
    "        self.max_iter = max_iter\n",
    "        self.weights = None\n",
    "        self.cost_history = []\n",
    "        self.learning_rate_history = []\n",
    "        self.x_train = None\n",
    "        self.x_test = None\n",
    "        self.y_train = None\n",
    "        self.y_test = None\n",
    "        self.test_size = test_size\n",
    "        self.label = None\n",
    "        self.early_stop_error = early_stop_error\n",
    "        self.decay = decay\n",
    "\n",
    "    def split_given_train_test_df(self, train_df, test_df, label):\n",
    "        self.label = label\n",
    "\n",
    "        y_train = train_df[label]\n",
    "        x_train = train_df.drop(label, axis=1)\n",
    "\n",
    "        self.y_train = np.array(y_train).reshape(y_train.shape[0], 1)\n",
    "        self.x_train = np.array(x_train)\n",
    "\n",
    "        y_test = test_df[label]\n",
    "        x_test = test_df.drop(label, axis=1)\n",
    "\n",
    "        self.y_test = np.array(y_test).reshape(y_test.shape[0], 1)\n",
    "        self.x_test = np.array(x_test)\n",
    "\n",
    "    def split_dataset(self, df, label):\n",
    "\n",
    "        self.label = label\n",
    "        y = df[label]\n",
    "        X = df.drop(label, axis=1)\n",
    "\n",
    "        y = np.array(y).reshape(y.shape[0], 1)\n",
    "        X = np.array(X)\n",
    "\n",
    "        self.x_train, self.x_test, self.y_train, self.y_test = train_test_split(X, y, test_size=self.test_size,\n",
    "                                                                                random_state=111)\n",
    "\n",
    "    def fit(self, is_constant_lr, no_curve, calculate_metric_on_train):\n",
    "        # df[label] = df[label].replace([-1],0)\n",
    "        n_samples, n_features = self.x_train.shape\n",
    "\n",
    "        # initializing weights\n",
    "        # self.uniform_weight_initializer(n_features)\n",
    "        self.zero_initializer(n_features)\n",
    "\n",
    "        # initializing cost history\n",
    "        self.cost_history = np.zeros((self.max_iter, 1))\n",
    "        self.learning_rate_history = np.zeros((self.max_iter, 1))\n",
    "\n",
    "        for epoch in range(self.max_iter):\n",
    "            # print(X.shape, self.weights.shape)\n",
    "            # print('Epoch: ', epoch)\n",
    "\n",
    "            if not is_constant_lr:\n",
    "                # adjusting learning rate in each epoch\n",
    "                self.learning_rate_scheduler(epoch)\n",
    "                self.learning_rate_history[epoch] = self.learning_rate\n",
    "\n",
    "            h_w = np.tanh(np.matmul(self.x_train, self.weights))\n",
    "            X_T = np.transpose(self.x_train)\n",
    "\n",
    "            assert h_w.shape == self.y_train.shape\n",
    "\n",
    "            y_h_w = self.y_train - h_w\n",
    "            tan_der = 1 - np.square(h_w)\n",
    "\n",
    "            assert y_h_w.shape == tan_der.shape\n",
    "\n",
    "            # update the weights here\n",
    "            self.weights = self.weights + (2 * self.learning_rate) * (1 / n_samples) * np.matmul(X_T, np.multiply(y_h_w,\n",
    "                                                                                                                  tan_der))\n",
    "\n",
    "            # calculating mse with updated weights\n",
    "            cost = self.calculate_mse_cost(y_h_w)\n",
    "            self.cost_history[epoch] = cost\n",
    "\n",
    "            # computing 1 - acc for making weak learner\n",
    "            y_train_pred = self.predict(self.x_train)\n",
    "            accuracy = accuracy_score(self.y_train, y_train_pred)\n",
    "            # print(accuracy)\n",
    "\n",
    "            if 1 - accuracy < self.early_stop_error:\n",
    "                # print('Stopping Training since the error is less than 0.5')\n",
    "                # print(1 - accuracy)\n",
    "                break\n",
    "\n",
    "            # if cost < self.early_stop_error:\n",
    "            #     print(cost)\n",
    "            #     print('Stopping Training since the error is less than 0.5')\n",
    "            #     break\n",
    "\n",
    "        if not no_curve:\n",
    "            self.plot_cost_vs_iteration()\n",
    "            self.plot_learning_rate_curve()\n",
    "\n",
    "        # calculate metrics on training set\n",
    "        if calculate_metric_on_train:\n",
    "            y_pred = self.predict(self.x_train)\n",
    "            metric = MetricCalculator(self.y_train, y_pred)\n",
    "            metric.calculate_all_metric()\n",
    "\n",
    "    def predict(self, x):\n",
    "        y_pred = np.tanh(x @ self.weights)\n",
    "\n",
    "        y_pred[y_pred > 0] = 1\n",
    "        y_pred[y_pred <= 0] = -1\n",
    "\n",
    "        return y_pred\n",
    "\n",
    "    def uniform_weight_initializer(self, num_features):\n",
    "        self.weights = np.random.uniform(low=0, high=1, size=num_features).reshape(num_features, 1)\n",
    "\n",
    "    def xavier_initialization(self, num_features):\n",
    "        self.weights = np.full((num_features, 1), np.sqrt(1 / num_features))  # Xavier Initialization\n",
    "\n",
    "    def zero_initializer(self, num_features):\n",
    "        self.weights = np.zeros((num_features, 1))\n",
    "\n",
    "    def generate_metric(self):\n",
    "        y_pred = self.predict(self.x_test)\n",
    "        metric = MetricCalculator(self.y_test, y_pred)\n",
    "        metric.calculate_all_metric()\n",
    "\n",
    "    @staticmethod\n",
    "    def calculate_mse_cost(y_h_w):\n",
    "        return np.mean(np.square(y_h_w))\n",
    "\n",
    "    def plot_cost_vs_iteration(self):\n",
    "\n",
    "        print(min(self.cost_history))\n",
    "        plt.figure()\n",
    "        plt.plot(range(self.max_iter), self.cost_history)\n",
    "        plt.title('Cost Function Convergence Curve')\n",
    "        plt.xlabel(\"Number of Iterations\")\n",
    "        plt.ylabel(\"Cost\")\n",
    "        plt.show()\n",
    "\n",
    "    def plot_learning_rate_curve(self):\n",
    "        plt.figure()\n",
    "        plt.plot(range(self.max_iter), self.learning_rate_history)\n",
    "        plt.title('Learning Rate Decay Curve')\n",
    "        plt.xlabel(\"Number of Iterations\")\n",
    "        plt.ylabel(\"Learning Rate\")\n",
    "        plt.show()\n",
    "\n",
    "    def learning_rate_scheduler(self, epoch):\n",
    "        self.learning_rate *= (1. / (1. + self.decay * epoch))"
   ],
   "metadata": {
    "collapsed": false,
    "pycharm": {
     "name": "#%%\n"
    }
   }
  },
  {
   "cell_type": "code",
   "execution_count": 6,
   "outputs": [],
   "source": [
    "class Adaboost:\n",
    "\n",
    "    def __init__(self, num_of_learner, test_size):\n",
    "        self.test_size = test_size\n",
    "        self.y_test = None\n",
    "        self.y_train = None\n",
    "        self.x_test = None\n",
    "        self.x_train = None\n",
    "        self.num_of_learner = num_of_learner\n",
    "        self.W = []\n",
    "        self.h = []\n",
    "        self.z = []\n",
    "        self.label = None\n",
    "        self.train_df = None\n",
    "        self.test_df = None\n",
    "\n",
    "    def split_dataset(self, df, label):\n",
    "        self.label = label\n",
    "\n",
    "        self.train_df, self.test_df = train_test_split(df, test_size=self.test_size, random_state=111)\n",
    "\n",
    "    def split_dataset_given_tran_test(self, train_df, test_df, label):\n",
    "        self.label = label\n",
    "        self.train_df = train_df\n",
    "        self.test_df = test_df\n",
    "\n",
    "    def convert_df_to_np(self, df):\n",
    "        y = df[self.label]\n",
    "        X = df.drop(self.label, axis=1)\n",
    "\n",
    "        y = np.array(y).reshape(y.shape[0], 1)\n",
    "        X = np.array(X)\n",
    "\n",
    "        return X, y\n",
    "\n",
    "    def fit(self, base_learner_max_iter, error, learning_rate, decay, var_lr):\n",
    "\n",
    "        # setting the weights\n",
    "        N = self.train_df.shape[0]\n",
    "        self.W = [1.0 / N] * N\n",
    "        self.h = [None] * self.num_of_learner\n",
    "        self.z = [None] * self.num_of_learner\n",
    "\n",
    "        # keeping a copy of the original train dataframe\n",
    "        original_train_df = self.train_df.copy()\n",
    "\n",
    "        # getting numpy arrays for original train dataframe\n",
    "        X_original_train_df, y_original_train_df = self.convert_df_to_np(original_train_df)\n",
    "\n",
    "        for k in range(self.num_of_learner):\n",
    "            # print('Boosting Round: ', k)\n",
    "            lgr_learner = LogisticRegression(learning_rate, base_learner_max_iter, 0.2, error, decay)\n",
    "\n",
    "            resampled_df = original_train_df.sample(n=N, weights=self.W, replace=True, random_state=111)\n",
    "\n",
    "            # convert resampled_df to fit to logistic regression\n",
    "            X, y = self.convert_df_to_np(resampled_df)\n",
    "\n",
    "            lgr_learner.x_train = X\n",
    "            lgr_learner.y_train = y\n",
    "\n",
    "            # train the weak learner\n",
    "            lgr_learner.fit(is_constant_lr=var_lr, no_curve=True, calculate_metric_on_train=False)\n",
    "\n",
    "            # storing the weak learner\n",
    "            self.h[k] = lgr_learner\n",
    "\n",
    "            error = 0.0\n",
    "\n",
    "            # getting the prediction of the weak learner for the original training data\n",
    "            y_pred = self.h[k].predict(X_original_train_df)\n",
    "\n",
    "            for i in range(N):\n",
    "                if y_pred[i] != y_original_train_df[i]:\n",
    "                    error += self.W[i]\n",
    "\n",
    "            if error > 0.5:\n",
    "                self.z[k] = 0\n",
    "                continue\n",
    "\n",
    "            for i in range(N):\n",
    "                if y_pred[i] == y_original_train_df[i]:\n",
    "                    self.W[i] = (self.W[i] * error) / (1.0 - error)\n",
    "\n",
    "            # normalize data weights\n",
    "            self.normalize_data_weights()\n",
    "\n",
    "            if error == 0:\n",
    "                self.z[k] = np.log2(float('inf'))\n",
    "            else:\n",
    "                self.z[k] = np.log2((1.0 - error) / error)\n",
    "\n",
    "        # calculate metric for the training set and print\n",
    "        self.weighted_sum(X_original_train_df, y_original_train_df)\n",
    "\n",
    "    def predict(self):\n",
    "        self.x_test, self.y_test = self.convert_df_to_np(self.test_df)\n",
    "        self.weighted_sum(self.x_test, self.y_test)\n",
    "\n",
    "    @staticmethod\n",
    "    def majority_voting(preds):\n",
    "        axis = 1\n",
    "        unique_vals, indices = np.unique(preds, return_inverse=True)\n",
    "        return unique_vals[np.argmax(np.apply_along_axis(np.bincount, axis, indices.reshape(preds.shape),\n",
    "                                                         None, np.max(indices) + 1), axis=axis)]\n",
    "\n",
    "    def weighted_sum(self, x, y):\n",
    "\n",
    "        preds = []\n",
    "        for k in range(self.num_of_learner):\n",
    "            weak_learner_weights = self.h[k].weights\n",
    "            weak_learner_preds = np.tanh(x @ weak_learner_weights)\n",
    "            weighted_preds = self.z[k] * weak_learner_preds\n",
    "            preds.append(weighted_preds)\n",
    "\n",
    "        preds = np.array(preds).squeeze().T\n",
    "        # print(preds.shape)\n",
    "\n",
    "        weighted_sum_result = np.sum(preds, axis=1)\n",
    "        weighted_sum_result[weighted_sum_result > 0] = 1\n",
    "        weighted_sum_result[weighted_sum_result <= 0] = -1\n",
    "\n",
    "        # metric = MetricCalculator(y, weighted_sum_result)\n",
    "        # metric.calculate_all_metric()\n",
    "        accuracy = 100 * accuracy_score(y_true=y, y_pred=weighted_sum_result)\n",
    "        print(f'Accuracy: {accuracy:.3f} %')\n",
    "\n",
    "    def normalize_data_weights(self):\n",
    "        total_data_weight = sum(self.W)\n",
    "        W = [(data_weight / total_data_weight) for data_weight in self.W]\n",
    "        self.W = W"
   ],
   "metadata": {
    "collapsed": false,
    "pycharm": {
     "name": "#%%\n"
    }
   }
  },
  {
   "cell_type": "code",
   "execution_count": 7,
   "outputs": [],
   "source": [
    "# preprocess churn dataset\n",
    "df = pd.read_csv('/home/akil/Work/Work/Academics/4-2/ML/Assignment-1/data/cust_churn.csv')\n",
    "df = preprocess_churn_data(df=df, label='Churn', num_of_features=10)"
   ],
   "metadata": {
    "collapsed": false,
    "pycharm": {
     "name": "#%%\n"
    }
   }
  },
  {
   "cell_type": "code",
   "execution_count": 10,
   "outputs": [
    {
     "data": {
      "text/plain": "     tenure  Churn  TechSupport_No  TechSupport_No internet service  \\\n0 -1.277445     -1               1                                0   \n1  0.066327     -1               1                                0   \n2 -1.236724      1               1                                0   \n3  0.514251     -1               0                                0   \n4 -1.236724      1               1                                0   \n\n   TechSupport_Yes  StreamingMovies_No  StreamingMovies_No internet service  \\\n0                0                   1                                    0   \n1                0                   1                                    0   \n2                0                   1                                    0   \n3                1                   1                                    0   \n4                0                   1                                    0   \n\n   StreamingMovies_Yes  DeviceProtection_No  \\\n0                    0                    1   \n1                    0                    0   \n2                    0                    1   \n3                    0                    0   \n4                    0                    1   \n\n   DeviceProtection_No internet service  ...  StreamingTV_Yes  \\\n0                                     0  ...                0   \n1                                     0  ...                0   \n2                                     0  ...                0   \n3                                     0  ...                0   \n4                                     0  ...                0   \n\n   InternetService_DSL  InternetService_Fiber optic  InternetService_No  \\\n0                    1                            0                   0   \n1                    1                            0                   0   \n2                    1                            0                   0   \n3                    1                            0                   0   \n4                    0                            1                   0   \n\n   Contract_Month-to-month  Contract_One year  Contract_Two year  \\\n0                        1                  0                  0   \n1                        0                  1                  0   \n2                        1                  0                  0   \n3                        0                  1                  0   \n4                        1                  0                  0   \n\n   OnlineSecurity_No  OnlineSecurity_No internet service  OnlineSecurity_Yes  \n0                  1                                   0                   0  \n1                  0                                   0                   1  \n2                  0                                   0                   1  \n3                  0                                   0                   1  \n4                  1                                   0                   0  \n\n[5 rows x 30 columns]",
      "text/html": "<div>\n<style scoped>\n    .dataframe tbody tr th:only-of-type {\n        vertical-align: middle;\n    }\n\n    .dataframe tbody tr th {\n        vertical-align: top;\n    }\n\n    .dataframe thead th {\n        text-align: right;\n    }\n</style>\n<table border=\"1\" class=\"dataframe\">\n  <thead>\n    <tr style=\"text-align: right;\">\n      <th></th>\n      <th>tenure</th>\n      <th>Churn</th>\n      <th>TechSupport_No</th>\n      <th>TechSupport_No internet service</th>\n      <th>TechSupport_Yes</th>\n      <th>StreamingMovies_No</th>\n      <th>StreamingMovies_No internet service</th>\n      <th>StreamingMovies_Yes</th>\n      <th>DeviceProtection_No</th>\n      <th>DeviceProtection_No internet service</th>\n      <th>...</th>\n      <th>StreamingTV_Yes</th>\n      <th>InternetService_DSL</th>\n      <th>InternetService_Fiber optic</th>\n      <th>InternetService_No</th>\n      <th>Contract_Month-to-month</th>\n      <th>Contract_One year</th>\n      <th>Contract_Two year</th>\n      <th>OnlineSecurity_No</th>\n      <th>OnlineSecurity_No internet service</th>\n      <th>OnlineSecurity_Yes</th>\n    </tr>\n  </thead>\n  <tbody>\n    <tr>\n      <th>0</th>\n      <td>-1.277445</td>\n      <td>-1</td>\n      <td>1</td>\n      <td>0</td>\n      <td>0</td>\n      <td>1</td>\n      <td>0</td>\n      <td>0</td>\n      <td>1</td>\n      <td>0</td>\n      <td>...</td>\n      <td>0</td>\n      <td>1</td>\n      <td>0</td>\n      <td>0</td>\n      <td>1</td>\n      <td>0</td>\n      <td>0</td>\n      <td>1</td>\n      <td>0</td>\n      <td>0</td>\n    </tr>\n    <tr>\n      <th>1</th>\n      <td>0.066327</td>\n      <td>-1</td>\n      <td>1</td>\n      <td>0</td>\n      <td>0</td>\n      <td>1</td>\n      <td>0</td>\n      <td>0</td>\n      <td>0</td>\n      <td>0</td>\n      <td>...</td>\n      <td>0</td>\n      <td>1</td>\n      <td>0</td>\n      <td>0</td>\n      <td>0</td>\n      <td>1</td>\n      <td>0</td>\n      <td>0</td>\n      <td>0</td>\n      <td>1</td>\n    </tr>\n    <tr>\n      <th>2</th>\n      <td>-1.236724</td>\n      <td>1</td>\n      <td>1</td>\n      <td>0</td>\n      <td>0</td>\n      <td>1</td>\n      <td>0</td>\n      <td>0</td>\n      <td>1</td>\n      <td>0</td>\n      <td>...</td>\n      <td>0</td>\n      <td>1</td>\n      <td>0</td>\n      <td>0</td>\n      <td>1</td>\n      <td>0</td>\n      <td>0</td>\n      <td>0</td>\n      <td>0</td>\n      <td>1</td>\n    </tr>\n    <tr>\n      <th>3</th>\n      <td>0.514251</td>\n      <td>-1</td>\n      <td>0</td>\n      <td>0</td>\n      <td>1</td>\n      <td>1</td>\n      <td>0</td>\n      <td>0</td>\n      <td>0</td>\n      <td>0</td>\n      <td>...</td>\n      <td>0</td>\n      <td>1</td>\n      <td>0</td>\n      <td>0</td>\n      <td>0</td>\n      <td>1</td>\n      <td>0</td>\n      <td>0</td>\n      <td>0</td>\n      <td>1</td>\n    </tr>\n    <tr>\n      <th>4</th>\n      <td>-1.236724</td>\n      <td>1</td>\n      <td>1</td>\n      <td>0</td>\n      <td>0</td>\n      <td>1</td>\n      <td>0</td>\n      <td>0</td>\n      <td>1</td>\n      <td>0</td>\n      <td>...</td>\n      <td>0</td>\n      <td>0</td>\n      <td>1</td>\n      <td>0</td>\n      <td>1</td>\n      <td>0</td>\n      <td>0</td>\n      <td>1</td>\n      <td>0</td>\n      <td>0</td>\n    </tr>\n  </tbody>\n</table>\n<p>5 rows × 30 columns</p>\n</div>"
     },
     "execution_count": 10,
     "metadata": {},
     "output_type": "execute_result"
    }
   ],
   "source": [
    "df.head()"
   ],
   "metadata": {
    "collapsed": false,
    "pycharm": {
     "name": "#%%\n"
    }
   }
  },
  {
   "cell_type": "code",
   "execution_count": 11,
   "outputs": [
    {
     "name": "stdout",
     "output_type": "stream",
     "text": [
      "TP: 828\n",
      "TN: 3679\n",
      "FP: 425\n",
      "FN: 702\n",
      "Accuracy: 79.996 %\n",
      "Recall: 54.118 %\n",
      "Specificity: 89.644 %\n",
      "Precision: 66.081 %\n",
      "False Discovery Rate: 33.919 %\n",
      "F1 score: 59.504 %\n"
     ]
    }
   ],
   "source": [
    "lgr = LogisticRegression(learning_rate=0.1, max_iter=500, test_size=0.2, early_stop_error=0, decay=5e-6)\n",
    "lgr.split_dataset(df, 'Churn')\n",
    "lgr.fit(is_constant_lr=False, no_curve=True, calculate_metric_on_train=True)"
   ],
   "metadata": {
    "collapsed": false,
    "pycharm": {
     "name": "#%%\n"
    }
   }
  },
  {
   "cell_type": "code",
   "execution_count": 12,
   "outputs": [
    {
     "name": "stdout",
     "output_type": "stream",
     "text": [
      "Accuracy: 78.772 %\n",
      "\n",
      "Adaboost Testing Metric (Churn Dataset)\n",
      "Accuracy: 77.928 %\n"
     ]
    }
   ],
   "source": [
    "adaboost_classifier = Adaboost(num_of_learner=5, test_size=0.2)\n",
    "adaboost_classifier.split_dataset(df=df, label='Churn')\n",
    "adaboost_classifier.fit(base_learner_max_iter=1000, error=0.5, learning_rate=0.1,\n",
    "                        decay=5e-6, var_lr=False)\n",
    "\n",
    "print('\\nAdaboost Testing Metric (Churn Dataset)')\n",
    "adaboost_classifier.predict()"
   ],
   "metadata": {
    "collapsed": false,
    "pycharm": {
     "name": "#%%\n"
    }
   }
  },
  {
   "cell_type": "markdown",
   "source": [
    "## Bank Dataset"
   ],
   "metadata": {
    "collapsed": false,
    "pycharm": {
     "name": "#%% md\n"
    }
   }
  },
  {
   "cell_type": "code",
   "execution_count": null,
   "outputs": [],
   "source": [
    "columns = ['age', 'workclass', 'fnlwgt', 'education', 'education-num', 'marital-status', 'occupation',\n",
    "           'relationship',\n",
    "           'race', 'sex', 'capital-gain', 'capital-loss', 'hours-per-week', 'native-country', 'income']\n",
    "train_df = pd.read_csv(adult_data_path + '/adult.data', names=columns, header=None, sep=\", \", engine='python')\n",
    "test_df = pd.read_csv(adult_data_path + '/adult.test', names=columns, header=None, sep=\", \", engine='python')\n",
    "train_df, test_df = preprocess_adult_data(train_df=train_df, test_df=test_df, label='income',\n",
    "                                          num_of_features=num_of_feature)"
   ],
   "metadata": {
    "collapsed": false,
    "pycharm": {
     "name": "#%%\n"
    }
   }
  },
  {
   "cell_type": "code",
   "execution_count": 58,
   "outputs": [
    {
     "name": "stdout",
     "output_type": "stream",
     "text": [
      "<class 'pandas.core.frame.DataFrame'>\n",
      "RangeIndex: 41188 entries, 0 to 41187\n",
      "Data columns (total 21 columns):\n",
      " #   Column          Non-Null Count  Dtype  \n",
      "---  ------          --------------  -----  \n",
      " 0   age             41188 non-null  int64  \n",
      " 1   job             41188 non-null  object \n",
      " 2   marital         41188 non-null  object \n",
      " 3   education       41188 non-null  object \n",
      " 4   default         41188 non-null  object \n",
      " 5   housing         41188 non-null  object \n",
      " 6   loan            41188 non-null  object \n",
      " 7   contact         41188 non-null  object \n",
      " 8   month           41188 non-null  object \n",
      " 9   day_of_week     41188 non-null  object \n",
      " 10  duration        41188 non-null  int64  \n",
      " 11  campaign        41188 non-null  int64  \n",
      " 12  pdays           41188 non-null  int64  \n",
      " 13  previous        41188 non-null  int64  \n",
      " 14  poutcome        41188 non-null  object \n",
      " 15  emp.var.rate    41188 non-null  float64\n",
      " 16  cons.price.idx  41188 non-null  float64\n",
      " 17  cons.conf.idx   41188 non-null  float64\n",
      " 18  euribor3m       41188 non-null  float64\n",
      " 19  nr.employed     41188 non-null  float64\n",
      " 20  y               41188 non-null  object \n",
      "dtypes: float64(5), int64(5), object(11)\n",
      "memory usage: 6.6+ MB\n"
     ]
    }
   ],
   "source": [
    "df = pd.read_csv('/home/akil/Work/Work/Academics/4-2/ML/Assignment-1/data/bank-additional/bank-additional/bank-additional-full.csv',sep=\";\")\n",
    "df.info()"
   ],
   "metadata": {
    "collapsed": false,
    "pycharm": {
     "name": "#%%\n"
    }
   }
  },
  {
   "cell_type": "code",
   "execution_count": 59,
   "outputs": [
    {
     "data": {
      "text/plain": "   age        job  marital    education  default housing loan    contact  \\\n0   56  housemaid  married     basic.4y       no      no   no  telephone   \n1   57   services  married  high.school  unknown      no   no  telephone   \n2   37   services  married  high.school       no     yes   no  telephone   \n3   40     admin.  married     basic.6y       no      no   no  telephone   \n4   56   services  married  high.school       no      no  yes  telephone   \n\n  month day_of_week  ...  campaign  pdays  previous     poutcome emp.var.rate  \\\n0   may         mon  ...         1    999         0  nonexistent          1.1   \n1   may         mon  ...         1    999         0  nonexistent          1.1   \n2   may         mon  ...         1    999         0  nonexistent          1.1   \n3   may         mon  ...         1    999         0  nonexistent          1.1   \n4   may         mon  ...         1    999         0  nonexistent          1.1   \n\n   cons.price.idx  cons.conf.idx  euribor3m  nr.employed   y  \n0          93.994          -36.4      4.857       5191.0  no  \n1          93.994          -36.4      4.857       5191.0  no  \n2          93.994          -36.4      4.857       5191.0  no  \n3          93.994          -36.4      4.857       5191.0  no  \n4          93.994          -36.4      4.857       5191.0  no  \n\n[5 rows x 21 columns]",
      "text/html": "<div>\n<style scoped>\n    .dataframe tbody tr th:only-of-type {\n        vertical-align: middle;\n    }\n\n    .dataframe tbody tr th {\n        vertical-align: top;\n    }\n\n    .dataframe thead th {\n        text-align: right;\n    }\n</style>\n<table border=\"1\" class=\"dataframe\">\n  <thead>\n    <tr style=\"text-align: right;\">\n      <th></th>\n      <th>age</th>\n      <th>job</th>\n      <th>marital</th>\n      <th>education</th>\n      <th>default</th>\n      <th>housing</th>\n      <th>loan</th>\n      <th>contact</th>\n      <th>month</th>\n      <th>day_of_week</th>\n      <th>...</th>\n      <th>campaign</th>\n      <th>pdays</th>\n      <th>previous</th>\n      <th>poutcome</th>\n      <th>emp.var.rate</th>\n      <th>cons.price.idx</th>\n      <th>cons.conf.idx</th>\n      <th>euribor3m</th>\n      <th>nr.employed</th>\n      <th>y</th>\n    </tr>\n  </thead>\n  <tbody>\n    <tr>\n      <th>0</th>\n      <td>56</td>\n      <td>housemaid</td>\n      <td>married</td>\n      <td>basic.4y</td>\n      <td>no</td>\n      <td>no</td>\n      <td>no</td>\n      <td>telephone</td>\n      <td>may</td>\n      <td>mon</td>\n      <td>...</td>\n      <td>1</td>\n      <td>999</td>\n      <td>0</td>\n      <td>nonexistent</td>\n      <td>1.1</td>\n      <td>93.994</td>\n      <td>-36.4</td>\n      <td>4.857</td>\n      <td>5191.0</td>\n      <td>no</td>\n    </tr>\n    <tr>\n      <th>1</th>\n      <td>57</td>\n      <td>services</td>\n      <td>married</td>\n      <td>high.school</td>\n      <td>unknown</td>\n      <td>no</td>\n      <td>no</td>\n      <td>telephone</td>\n      <td>may</td>\n      <td>mon</td>\n      <td>...</td>\n      <td>1</td>\n      <td>999</td>\n      <td>0</td>\n      <td>nonexistent</td>\n      <td>1.1</td>\n      <td>93.994</td>\n      <td>-36.4</td>\n      <td>4.857</td>\n      <td>5191.0</td>\n      <td>no</td>\n    </tr>\n    <tr>\n      <th>2</th>\n      <td>37</td>\n      <td>services</td>\n      <td>married</td>\n      <td>high.school</td>\n      <td>no</td>\n      <td>yes</td>\n      <td>no</td>\n      <td>telephone</td>\n      <td>may</td>\n      <td>mon</td>\n      <td>...</td>\n      <td>1</td>\n      <td>999</td>\n      <td>0</td>\n      <td>nonexistent</td>\n      <td>1.1</td>\n      <td>93.994</td>\n      <td>-36.4</td>\n      <td>4.857</td>\n      <td>5191.0</td>\n      <td>no</td>\n    </tr>\n    <tr>\n      <th>3</th>\n      <td>40</td>\n      <td>admin.</td>\n      <td>married</td>\n      <td>basic.6y</td>\n      <td>no</td>\n      <td>no</td>\n      <td>no</td>\n      <td>telephone</td>\n      <td>may</td>\n      <td>mon</td>\n      <td>...</td>\n      <td>1</td>\n      <td>999</td>\n      <td>0</td>\n      <td>nonexistent</td>\n      <td>1.1</td>\n      <td>93.994</td>\n      <td>-36.4</td>\n      <td>4.857</td>\n      <td>5191.0</td>\n      <td>no</td>\n    </tr>\n    <tr>\n      <th>4</th>\n      <td>56</td>\n      <td>services</td>\n      <td>married</td>\n      <td>high.school</td>\n      <td>no</td>\n      <td>no</td>\n      <td>yes</td>\n      <td>telephone</td>\n      <td>may</td>\n      <td>mon</td>\n      <td>...</td>\n      <td>1</td>\n      <td>999</td>\n      <td>0</td>\n      <td>nonexistent</td>\n      <td>1.1</td>\n      <td>93.994</td>\n      <td>-36.4</td>\n      <td>4.857</td>\n      <td>5191.0</td>\n      <td>no</td>\n    </tr>\n  </tbody>\n</table>\n<p>5 rows × 21 columns</p>\n</div>"
     },
     "execution_count": 59,
     "metadata": {},
     "output_type": "execute_result"
    }
   ],
   "source": [
    "df.head()"
   ],
   "metadata": {
    "collapsed": false,
    "pycharm": {
     "name": "#%%\n"
    }
   }
  },
  {
   "cell_type": "code",
   "execution_count": 60,
   "outputs": [],
   "source": [
    "util = Utility()"
   ],
   "metadata": {
    "collapsed": false,
    "pycharm": {
     "name": "#%%\n"
    }
   }
  },
  {
   "cell_type": "code",
   "execution_count": 61,
   "outputs": [],
   "source": [
    "label = 'y'"
   ],
   "metadata": {
    "collapsed": false,
    "pycharm": {
     "name": "#%%\n"
    }
   }
  },
  {
   "cell_type": "code",
   "execution_count": 62,
   "outputs": [
    {
     "name": "stdout",
     "output_type": "stream",
     "text": [
      "31    1947\n",
      "32    1846\n",
      "33    1833\n",
      "36    1780\n",
      "35    1759\n",
      "      ... \n",
      "89       2\n",
      "91       2\n",
      "94       1\n",
      "87       1\n",
      "95       1\n",
      "Name: age, Length: 78, dtype: int64\n",
      "admin.           10422\n",
      "blue-collar       9254\n",
      "technician        6743\n",
      "services          3969\n",
      "management        2924\n",
      "retired           1720\n",
      "entrepreneur      1456\n",
      "self-employed     1421\n",
      "housemaid         1060\n",
      "unemployed        1014\n",
      "student            875\n",
      "unknown            330\n",
      "Name: job, dtype: int64\n",
      "married     24928\n",
      "single      11568\n",
      "divorced     4612\n",
      "unknown        80\n",
      "Name: marital, dtype: int64\n",
      "university.degree      12168\n",
      "high.school             9515\n",
      "basic.9y                6045\n",
      "professional.course     5243\n",
      "basic.4y                4176\n",
      "basic.6y                2292\n",
      "unknown                 1731\n",
      "illiterate                18\n",
      "Name: education, dtype: int64\n",
      "no         32588\n",
      "unknown     8597\n",
      "yes            3\n",
      "Name: default, dtype: int64\n",
      "yes        21576\n",
      "no         18622\n",
      "unknown      990\n",
      "Name: housing, dtype: int64\n",
      "no         33950\n",
      "yes         6248\n",
      "unknown      990\n",
      "Name: loan, dtype: int64\n",
      "cellular     26144\n",
      "telephone    15044\n",
      "Name: contact, dtype: int64\n",
      "may    13769\n",
      "jul     7174\n",
      "aug     6178\n",
      "jun     5318\n",
      "nov     4101\n",
      "apr     2632\n",
      "oct      718\n",
      "sep      570\n",
      "mar      546\n",
      "dec      182\n",
      "Name: month, dtype: int64\n",
      "thu    8623\n",
      "mon    8514\n",
      "wed    8134\n",
      "tue    8090\n",
      "fri    7827\n",
      "Name: day_of_week, dtype: int64\n",
      "90      170\n",
      "85      170\n",
      "136     168\n",
      "73      167\n",
      "124     164\n",
      "       ... \n",
      "1569      1\n",
      "1053      1\n",
      "1263      1\n",
      "1169      1\n",
      "1868      1\n",
      "Name: duration, Length: 1544, dtype: int64\n",
      "1     17642\n",
      "2     10570\n",
      "3      5341\n",
      "4      2651\n",
      "5      1599\n",
      "6       979\n",
      "7       629\n",
      "8       400\n",
      "9       283\n",
      "10      225\n",
      "11      177\n",
      "12      125\n",
      "13       92\n",
      "14       69\n",
      "17       58\n",
      "16       51\n",
      "15       51\n",
      "18       33\n",
      "20       30\n",
      "19       26\n",
      "21       24\n",
      "22       17\n",
      "23       16\n",
      "24       15\n",
      "27       11\n",
      "29       10\n",
      "28        8\n",
      "26        8\n",
      "25        8\n",
      "31        7\n",
      "30        7\n",
      "35        5\n",
      "32        4\n",
      "33        4\n",
      "34        3\n",
      "42        2\n",
      "40        2\n",
      "43        2\n",
      "56        1\n",
      "39        1\n",
      "41        1\n",
      "37        1\n",
      "Name: campaign, dtype: int64\n",
      "999    39673\n",
      "3        439\n",
      "6        412\n",
      "4        118\n",
      "9         64\n",
      "2         61\n",
      "7         60\n",
      "12        58\n",
      "10        52\n",
      "5         46\n",
      "13        36\n",
      "11        28\n",
      "1         26\n",
      "15        24\n",
      "14        20\n",
      "8         18\n",
      "0         15\n",
      "16        11\n",
      "17         8\n",
      "18         7\n",
      "22         3\n",
      "19         3\n",
      "21         2\n",
      "25         1\n",
      "26         1\n",
      "27         1\n",
      "20         1\n",
      "Name: pdays, dtype: int64\n",
      "0    35563\n",
      "1     4561\n",
      "2      754\n",
      "3      216\n",
      "4       70\n",
      "5       18\n",
      "6        5\n",
      "7        1\n",
      "Name: previous, dtype: int64\n",
      "nonexistent    35563\n",
      "failure         4252\n",
      "success         1373\n",
      "Name: poutcome, dtype: int64\n",
      " 1.4    16234\n",
      "-1.8     9184\n",
      " 1.1     7763\n",
      "-0.1     3683\n",
      "-2.9     1663\n",
      "-3.4     1071\n",
      "-1.7      773\n",
      "-1.1      635\n",
      "-3.0      172\n",
      "-0.2       10\n",
      "Name: emp.var.rate, dtype: int64\n",
      "93.994    7763\n",
      "93.918    6685\n",
      "92.893    5794\n",
      "93.444    5175\n",
      "94.465    4374\n",
      "93.200    3616\n",
      "93.075    2458\n",
      "92.201     770\n",
      "92.963     715\n",
      "92.431     447\n",
      "92.649     357\n",
      "94.215     311\n",
      "94.199     303\n",
      "92.843     282\n",
      "92.379     267\n",
      "93.369     264\n",
      "94.027     233\n",
      "94.055     229\n",
      "93.876     212\n",
      "94.601     204\n",
      "92.469     178\n",
      "93.749     174\n",
      "92.713     172\n",
      "94.767     128\n",
      "93.798      67\n",
      "92.756      10\n",
      "Name: cons.price.idx, dtype: int64\n",
      "-36.4    7763\n",
      "-42.7    6685\n",
      "-46.2    5794\n",
      "-36.1    5175\n",
      "-41.8    4374\n",
      "-42.0    3616\n",
      "-47.1    2458\n",
      "-31.4     770\n",
      "-40.8     715\n",
      "-26.9     447\n",
      "-30.1     357\n",
      "-40.3     311\n",
      "-37.5     303\n",
      "-50.0     282\n",
      "-29.8     267\n",
      "-34.8     264\n",
      "-38.3     233\n",
      "-39.8     229\n",
      "-40.0     212\n",
      "-49.5     204\n",
      "-33.6     178\n",
      "-34.6     174\n",
      "-33.0     172\n",
      "-50.8     128\n",
      "-40.4      67\n",
      "-45.9      10\n",
      "Name: cons.conf.idx, dtype: int64\n",
      "4.857    2868\n",
      "4.962    2613\n",
      "4.963    2487\n",
      "4.961    1902\n",
      "4.856    1210\n",
      "         ... \n",
      "3.853       1\n",
      "3.901       1\n",
      "0.969       1\n",
      "0.956       1\n",
      "3.669       1\n",
      "Name: euribor3m, Length: 316, dtype: int64\n",
      "5228.1    16234\n",
      "5099.1     8534\n",
      "5191.0     7763\n",
      "5195.8     3683\n",
      "5076.2     1663\n",
      "5017.5     1071\n",
      "4991.6      773\n",
      "5008.7      650\n",
      "4963.6      635\n",
      "5023.5      172\n",
      "5176.3       10\n",
      "Name: nr.employed, dtype: int64\n",
      "no     36548\n",
      "yes     4640\n",
      "Name: y, dtype: int64\n"
     ]
    }
   ],
   "source": [
    "util.get_value_counts(df, df.columns)"
   ],
   "metadata": {
    "collapsed": false,
    "pycharm": {
     "name": "#%%\n"
    }
   }
  },
  {
   "cell_type": "code",
   "execution_count": 63,
   "outputs": [
    {
     "data": {
      "text/plain": "       age          job  marital            education  default housing loan  \\\n0       56    housemaid  married             basic.4y       no      no   no   \n1       57     services  married          high.school  unknown      no   no   \n2       37     services  married          high.school       no     yes   no   \n3       40       admin.  married             basic.6y       no      no   no   \n4       56     services  married          high.school       no      no  yes   \n...    ...          ...      ...                  ...      ...     ...  ...   \n41183   73      retired  married  professional.course       no     yes   no   \n41184   46  blue-collar  married  professional.course       no      no   no   \n41185   56      retired  married    university.degree       no     yes   no   \n41186   44   technician  married  professional.course       no      no   no   \n41187   74      retired  married  professional.course       no     yes   no   \n\n         contact month day_of_week  ...  campaign  pdays  previous  \\\n0      telephone   may         mon  ...         1    999         0   \n1      telephone   may         mon  ...         1    999         0   \n2      telephone   may         mon  ...         1    999         0   \n3      telephone   may         mon  ...         1    999         0   \n4      telephone   may         mon  ...         1    999         0   \n...          ...   ...         ...  ...       ...    ...       ...   \n41183   cellular   nov         fri  ...         1    999         0   \n41184   cellular   nov         fri  ...         1    999         0   \n41185   cellular   nov         fri  ...         2    999         0   \n41186   cellular   nov         fri  ...         1    999         0   \n41187   cellular   nov         fri  ...         3    999         1   \n\n          poutcome emp.var.rate  cons.price.idx  cons.conf.idx  euribor3m  \\\n0      nonexistent          1.1          93.994          -36.4      4.857   \n1      nonexistent          1.1          93.994          -36.4      4.857   \n2      nonexistent          1.1          93.994          -36.4      4.857   \n3      nonexistent          1.1          93.994          -36.4      4.857   \n4      nonexistent          1.1          93.994          -36.4      4.857   \n...            ...          ...             ...            ...        ...   \n41183  nonexistent         -1.1          94.767          -50.8      1.028   \n41184  nonexistent         -1.1          94.767          -50.8      1.028   \n41185  nonexistent         -1.1          94.767          -50.8      1.028   \n41186  nonexistent         -1.1          94.767          -50.8      1.028   \n41187      failure         -1.1          94.767          -50.8      1.028   \n\n       nr.employed    y  \n0           5191.0   no  \n1           5191.0   no  \n2           5191.0   no  \n3           5191.0   no  \n4           5191.0   no  \n...            ...  ...  \n41183       4963.6  yes  \n41184       4963.6   no  \n41185       4963.6   no  \n41186       4963.6  yes  \n41187       4963.6   no  \n\n[41188 rows x 21 columns]",
      "text/html": "<div>\n<style scoped>\n    .dataframe tbody tr th:only-of-type {\n        vertical-align: middle;\n    }\n\n    .dataframe tbody tr th {\n        vertical-align: top;\n    }\n\n    .dataframe thead th {\n        text-align: right;\n    }\n</style>\n<table border=\"1\" class=\"dataframe\">\n  <thead>\n    <tr style=\"text-align: right;\">\n      <th></th>\n      <th>age</th>\n      <th>job</th>\n      <th>marital</th>\n      <th>education</th>\n      <th>default</th>\n      <th>housing</th>\n      <th>loan</th>\n      <th>contact</th>\n      <th>month</th>\n      <th>day_of_week</th>\n      <th>...</th>\n      <th>campaign</th>\n      <th>pdays</th>\n      <th>previous</th>\n      <th>poutcome</th>\n      <th>emp.var.rate</th>\n      <th>cons.price.idx</th>\n      <th>cons.conf.idx</th>\n      <th>euribor3m</th>\n      <th>nr.employed</th>\n      <th>y</th>\n    </tr>\n  </thead>\n  <tbody>\n    <tr>\n      <th>0</th>\n      <td>56</td>\n      <td>housemaid</td>\n      <td>married</td>\n      <td>basic.4y</td>\n      <td>no</td>\n      <td>no</td>\n      <td>no</td>\n      <td>telephone</td>\n      <td>may</td>\n      <td>mon</td>\n      <td>...</td>\n      <td>1</td>\n      <td>999</td>\n      <td>0</td>\n      <td>nonexistent</td>\n      <td>1.1</td>\n      <td>93.994</td>\n      <td>-36.4</td>\n      <td>4.857</td>\n      <td>5191.0</td>\n      <td>no</td>\n    </tr>\n    <tr>\n      <th>1</th>\n      <td>57</td>\n      <td>services</td>\n      <td>married</td>\n      <td>high.school</td>\n      <td>unknown</td>\n      <td>no</td>\n      <td>no</td>\n      <td>telephone</td>\n      <td>may</td>\n      <td>mon</td>\n      <td>...</td>\n      <td>1</td>\n      <td>999</td>\n      <td>0</td>\n      <td>nonexistent</td>\n      <td>1.1</td>\n      <td>93.994</td>\n      <td>-36.4</td>\n      <td>4.857</td>\n      <td>5191.0</td>\n      <td>no</td>\n    </tr>\n    <tr>\n      <th>2</th>\n      <td>37</td>\n      <td>services</td>\n      <td>married</td>\n      <td>high.school</td>\n      <td>no</td>\n      <td>yes</td>\n      <td>no</td>\n      <td>telephone</td>\n      <td>may</td>\n      <td>mon</td>\n      <td>...</td>\n      <td>1</td>\n      <td>999</td>\n      <td>0</td>\n      <td>nonexistent</td>\n      <td>1.1</td>\n      <td>93.994</td>\n      <td>-36.4</td>\n      <td>4.857</td>\n      <td>5191.0</td>\n      <td>no</td>\n    </tr>\n    <tr>\n      <th>3</th>\n      <td>40</td>\n      <td>admin.</td>\n      <td>married</td>\n      <td>basic.6y</td>\n      <td>no</td>\n      <td>no</td>\n      <td>no</td>\n      <td>telephone</td>\n      <td>may</td>\n      <td>mon</td>\n      <td>...</td>\n      <td>1</td>\n      <td>999</td>\n      <td>0</td>\n      <td>nonexistent</td>\n      <td>1.1</td>\n      <td>93.994</td>\n      <td>-36.4</td>\n      <td>4.857</td>\n      <td>5191.0</td>\n      <td>no</td>\n    </tr>\n    <tr>\n      <th>4</th>\n      <td>56</td>\n      <td>services</td>\n      <td>married</td>\n      <td>high.school</td>\n      <td>no</td>\n      <td>no</td>\n      <td>yes</td>\n      <td>telephone</td>\n      <td>may</td>\n      <td>mon</td>\n      <td>...</td>\n      <td>1</td>\n      <td>999</td>\n      <td>0</td>\n      <td>nonexistent</td>\n      <td>1.1</td>\n      <td>93.994</td>\n      <td>-36.4</td>\n      <td>4.857</td>\n      <td>5191.0</td>\n      <td>no</td>\n    </tr>\n    <tr>\n      <th>...</th>\n      <td>...</td>\n      <td>...</td>\n      <td>...</td>\n      <td>...</td>\n      <td>...</td>\n      <td>...</td>\n      <td>...</td>\n      <td>...</td>\n      <td>...</td>\n      <td>...</td>\n      <td>...</td>\n      <td>...</td>\n      <td>...</td>\n      <td>...</td>\n      <td>...</td>\n      <td>...</td>\n      <td>...</td>\n      <td>...</td>\n      <td>...</td>\n      <td>...</td>\n      <td>...</td>\n    </tr>\n    <tr>\n      <th>41183</th>\n      <td>73</td>\n      <td>retired</td>\n      <td>married</td>\n      <td>professional.course</td>\n      <td>no</td>\n      <td>yes</td>\n      <td>no</td>\n      <td>cellular</td>\n      <td>nov</td>\n      <td>fri</td>\n      <td>...</td>\n      <td>1</td>\n      <td>999</td>\n      <td>0</td>\n      <td>nonexistent</td>\n      <td>-1.1</td>\n      <td>94.767</td>\n      <td>-50.8</td>\n      <td>1.028</td>\n      <td>4963.6</td>\n      <td>yes</td>\n    </tr>\n    <tr>\n      <th>41184</th>\n      <td>46</td>\n      <td>blue-collar</td>\n      <td>married</td>\n      <td>professional.course</td>\n      <td>no</td>\n      <td>no</td>\n      <td>no</td>\n      <td>cellular</td>\n      <td>nov</td>\n      <td>fri</td>\n      <td>...</td>\n      <td>1</td>\n      <td>999</td>\n      <td>0</td>\n      <td>nonexistent</td>\n      <td>-1.1</td>\n      <td>94.767</td>\n      <td>-50.8</td>\n      <td>1.028</td>\n      <td>4963.6</td>\n      <td>no</td>\n    </tr>\n    <tr>\n      <th>41185</th>\n      <td>56</td>\n      <td>retired</td>\n      <td>married</td>\n      <td>university.degree</td>\n      <td>no</td>\n      <td>yes</td>\n      <td>no</td>\n      <td>cellular</td>\n      <td>nov</td>\n      <td>fri</td>\n      <td>...</td>\n      <td>2</td>\n      <td>999</td>\n      <td>0</td>\n      <td>nonexistent</td>\n      <td>-1.1</td>\n      <td>94.767</td>\n      <td>-50.8</td>\n      <td>1.028</td>\n      <td>4963.6</td>\n      <td>no</td>\n    </tr>\n    <tr>\n      <th>41186</th>\n      <td>44</td>\n      <td>technician</td>\n      <td>married</td>\n      <td>professional.course</td>\n      <td>no</td>\n      <td>no</td>\n      <td>no</td>\n      <td>cellular</td>\n      <td>nov</td>\n      <td>fri</td>\n      <td>...</td>\n      <td>1</td>\n      <td>999</td>\n      <td>0</td>\n      <td>nonexistent</td>\n      <td>-1.1</td>\n      <td>94.767</td>\n      <td>-50.8</td>\n      <td>1.028</td>\n      <td>4963.6</td>\n      <td>yes</td>\n    </tr>\n    <tr>\n      <th>41187</th>\n      <td>74</td>\n      <td>retired</td>\n      <td>married</td>\n      <td>professional.course</td>\n      <td>no</td>\n      <td>yes</td>\n      <td>no</td>\n      <td>cellular</td>\n      <td>nov</td>\n      <td>fri</td>\n      <td>...</td>\n      <td>3</td>\n      <td>999</td>\n      <td>1</td>\n      <td>failure</td>\n      <td>-1.1</td>\n      <td>94.767</td>\n      <td>-50.8</td>\n      <td>1.028</td>\n      <td>4963.6</td>\n      <td>no</td>\n    </tr>\n  </tbody>\n</table>\n<p>41188 rows × 21 columns</p>\n</div>"
     },
     "execution_count": 63,
     "metadata": {},
     "output_type": "execute_result"
    }
   ],
   "source": [
    "df.dropna(axis=0, subset=[label])"
   ],
   "metadata": {
    "collapsed": false,
    "pycharm": {
     "name": "#%%\n"
    }
   }
  },
  {
   "cell_type": "code",
   "execution_count": 64,
   "outputs": [],
   "source": [
    "label_encoder = preprocessing.LabelEncoder()\n",
    "df[label] = label_encoder.fit_transform(df[label])"
   ],
   "metadata": {
    "collapsed": false,
    "pycharm": {
     "name": "#%%\n"
    }
   }
  },
  {
   "cell_type": "code",
   "execution_count": 65,
   "outputs": [
    {
     "name": "stdout",
     "output_type": "stream",
     "text": [
      "{'age': -1,\n",
      " 'campaign': -1,\n",
      " 'cons.conf.idx': -1,\n",
      " 'cons.price.idx': -1,\n",
      " 'contact': 0,\n",
      " 'day_of_week': 0,\n",
      " 'default': 0,\n",
      " 'duration': -1,\n",
      " 'education': 0,\n",
      " 'emp.var.rate': -1,\n",
      " 'euribor3m': -1,\n",
      " 'housing': 0,\n",
      " 'job': 0,\n",
      " 'loan': 0,\n",
      " 'marital': 0,\n",
      " 'month': 0,\n",
      " 'nr.employed': -1,\n",
      " 'pdays': -1,\n",
      " 'poutcome': 0,\n",
      " 'previous': -1,\n",
      " 'y': -1}\n"
     ]
    }
   ],
   "source": [
    "util.get_whitespace_count(df)"
   ],
   "metadata": {
    "collapsed": false,
    "pycharm": {
     "name": "#%%\n"
    }
   }
  },
  {
   "cell_type": "code",
   "execution_count": 66,
   "outputs": [
    {
     "data": {
      "text/plain": "   age        job  marital    education  default housing loan    contact  \\\n0   56  housemaid  married     basic.4y       no      no   no  telephone   \n1   57   services  married  high.school  unknown      no   no  telephone   \n2   37   services  married  high.school       no     yes   no  telephone   \n3   40     admin.  married     basic.6y       no      no   no  telephone   \n4   56   services  married  high.school       no      no  yes  telephone   \n\n  month day_of_week  ...  campaign  pdays  previous     poutcome emp.var.rate  \\\n0   may         mon  ...         1    999         0  nonexistent          1.1   \n1   may         mon  ...         1    999         0  nonexistent          1.1   \n2   may         mon  ...         1    999         0  nonexistent          1.1   \n3   may         mon  ...         1    999         0  nonexistent          1.1   \n4   may         mon  ...         1    999         0  nonexistent          1.1   \n\n   cons.price.idx  cons.conf.idx  euribor3m  nr.employed  y  \n0          93.994          -36.4      4.857       5191.0  0  \n1          93.994          -36.4      4.857       5191.0  0  \n2          93.994          -36.4      4.857       5191.0  0  \n3          93.994          -36.4      4.857       5191.0  0  \n4          93.994          -36.4      4.857       5191.0  0  \n\n[5 rows x 21 columns]",
      "text/html": "<div>\n<style scoped>\n    .dataframe tbody tr th:only-of-type {\n        vertical-align: middle;\n    }\n\n    .dataframe tbody tr th {\n        vertical-align: top;\n    }\n\n    .dataframe thead th {\n        text-align: right;\n    }\n</style>\n<table border=\"1\" class=\"dataframe\">\n  <thead>\n    <tr style=\"text-align: right;\">\n      <th></th>\n      <th>age</th>\n      <th>job</th>\n      <th>marital</th>\n      <th>education</th>\n      <th>default</th>\n      <th>housing</th>\n      <th>loan</th>\n      <th>contact</th>\n      <th>month</th>\n      <th>day_of_week</th>\n      <th>...</th>\n      <th>campaign</th>\n      <th>pdays</th>\n      <th>previous</th>\n      <th>poutcome</th>\n      <th>emp.var.rate</th>\n      <th>cons.price.idx</th>\n      <th>cons.conf.idx</th>\n      <th>euribor3m</th>\n      <th>nr.employed</th>\n      <th>y</th>\n    </tr>\n  </thead>\n  <tbody>\n    <tr>\n      <th>0</th>\n      <td>56</td>\n      <td>housemaid</td>\n      <td>married</td>\n      <td>basic.4y</td>\n      <td>no</td>\n      <td>no</td>\n      <td>no</td>\n      <td>telephone</td>\n      <td>may</td>\n      <td>mon</td>\n      <td>...</td>\n      <td>1</td>\n      <td>999</td>\n      <td>0</td>\n      <td>nonexistent</td>\n      <td>1.1</td>\n      <td>93.994</td>\n      <td>-36.4</td>\n      <td>4.857</td>\n      <td>5191.0</td>\n      <td>0</td>\n    </tr>\n    <tr>\n      <th>1</th>\n      <td>57</td>\n      <td>services</td>\n      <td>married</td>\n      <td>high.school</td>\n      <td>unknown</td>\n      <td>no</td>\n      <td>no</td>\n      <td>telephone</td>\n      <td>may</td>\n      <td>mon</td>\n      <td>...</td>\n      <td>1</td>\n      <td>999</td>\n      <td>0</td>\n      <td>nonexistent</td>\n      <td>1.1</td>\n      <td>93.994</td>\n      <td>-36.4</td>\n      <td>4.857</td>\n      <td>5191.0</td>\n      <td>0</td>\n    </tr>\n    <tr>\n      <th>2</th>\n      <td>37</td>\n      <td>services</td>\n      <td>married</td>\n      <td>high.school</td>\n      <td>no</td>\n      <td>yes</td>\n      <td>no</td>\n      <td>telephone</td>\n      <td>may</td>\n      <td>mon</td>\n      <td>...</td>\n      <td>1</td>\n      <td>999</td>\n      <td>0</td>\n      <td>nonexistent</td>\n      <td>1.1</td>\n      <td>93.994</td>\n      <td>-36.4</td>\n      <td>4.857</td>\n      <td>5191.0</td>\n      <td>0</td>\n    </tr>\n    <tr>\n      <th>3</th>\n      <td>40</td>\n      <td>admin.</td>\n      <td>married</td>\n      <td>basic.6y</td>\n      <td>no</td>\n      <td>no</td>\n      <td>no</td>\n      <td>telephone</td>\n      <td>may</td>\n      <td>mon</td>\n      <td>...</td>\n      <td>1</td>\n      <td>999</td>\n      <td>0</td>\n      <td>nonexistent</td>\n      <td>1.1</td>\n      <td>93.994</td>\n      <td>-36.4</td>\n      <td>4.857</td>\n      <td>5191.0</td>\n      <td>0</td>\n    </tr>\n    <tr>\n      <th>4</th>\n      <td>56</td>\n      <td>services</td>\n      <td>married</td>\n      <td>high.school</td>\n      <td>no</td>\n      <td>no</td>\n      <td>yes</td>\n      <td>telephone</td>\n      <td>may</td>\n      <td>mon</td>\n      <td>...</td>\n      <td>1</td>\n      <td>999</td>\n      <td>0</td>\n      <td>nonexistent</td>\n      <td>1.1</td>\n      <td>93.994</td>\n      <td>-36.4</td>\n      <td>4.857</td>\n      <td>5191.0</td>\n      <td>0</td>\n    </tr>\n  </tbody>\n</table>\n<p>5 rows × 21 columns</p>\n</div>"
     },
     "execution_count": 66,
     "metadata": {},
     "output_type": "execute_result"
    }
   ],
   "source": [
    "df.head()"
   ],
   "metadata": {
    "collapsed": false,
    "pycharm": {
     "name": "#%%\n"
    }
   }
  },
  {
   "cell_type": "code",
   "execution_count": 67,
   "outputs": [
    {
     "data": {
      "text/plain": "age                 int64\njob                object\nmarital            object\neducation          object\ndefault            object\nhousing            object\nloan               object\ncontact            object\nmonth              object\nday_of_week        object\nduration            int64\ncampaign            int64\npdays               int64\nprevious            int64\npoutcome           object\nemp.var.rate      float64\ncons.price.idx    float64\ncons.conf.idx     float64\neuribor3m         float64\nnr.employed       float64\ny                   int64\ndtype: object"
     },
     "execution_count": 67,
     "metadata": {},
     "output_type": "execute_result"
    }
   ],
   "source": [
    "df.dtypes"
   ],
   "metadata": {
    "collapsed": false,
    "pycharm": {
     "name": "#%%\n"
    }
   }
  },
  {
   "cell_type": "code",
   "execution_count": 68,
   "outputs": [
    {
     "name": "stdout",
     "output_type": "stream",
     "text": [
      "Sorted gain dict: {'pdays': 0.0, 'loan': 1.9304554865873236e-05, 'housing': 9.966572127484419e-05, 'age': 0.00032264715724250603, 'day_of_week': 0.00046454561248199244, 'marital': 0.0020686101235994903, 'campaign': 0.002275725928323147, 'education': 0.0034475943780793994, 'cons.price.idx': 0.006347621434915962, 'cons.conf.idx': 0.006687290758741304, 'default': 0.008330563734606167, 'job': 0.014223132694818397, 'contact': 0.016801224144244453, 'emp.var.rate': 0.01810630468220209, 'previous': 0.021642101010758863, 'nr.employed': 0.02351419856207293, 'euribor3m': 0.023733135080271195, 'month': 0.038096643462713575, 'poutcome': 0.04383428733717082, 'duration': 0.059190810226882606}\n"
     ]
    }
   ],
   "source": [
    "# get all columns\n",
    "col_name_dict = util.get_all_cols(df)\n",
    "\n",
    "# gain computations\n",
    "temp_df = df.copy()\n",
    "gainFilter = InformationGain(temp_df, col_name_dict['num_cols'], label)\n",
    "final_cols = gainFilter.get_final_column_list(num_of_features=10)\n",
    "\n",
    "# print('Final Cols are: ==>')\n",
    "# print(final_cols)\n",
    "df = df[final_cols]"
   ],
   "metadata": {
    "collapsed": false,
    "pycharm": {
     "name": "#%%\n"
    }
   }
  },
  {
   "cell_type": "code",
   "execution_count": 29,
   "outputs": [
    {
     "data": {
      "text/plain": "Index(['default', 'euribor3m', 'poutcome', 'emp.var.rate', 'previous',\n       'duration', 'job', 'nr.employed', 'contact', 'y', 'month'],\n      dtype='object')"
     },
     "execution_count": 29,
     "metadata": {},
     "output_type": "execute_result"
    }
   ],
   "source": [
    "df.columns"
   ],
   "metadata": {
    "collapsed": false,
    "pycharm": {
     "name": "#%%\n"
    }
   }
  },
  {
   "cell_type": "code",
   "execution_count": 31,
   "outputs": [
    {
     "name": "stdout",
     "output_type": "stream",
     "text": [
      "default         0\n",
      "euribor3m       0\n",
      "poutcome        0\n",
      "emp.var.rate    0\n",
      "previous        0\n",
      "duration        0\n",
      "job             0\n",
      "nr.employed     0\n",
      "contact         0\n",
      "y               0\n",
      "month           0\n",
      "dtype: int64\n"
     ]
    }
   ],
   "source": [
    "col_name_dict = util.get_all_cols(df)\n",
    "\n",
    "# removing categorical columns with mode( most frequent value)\n",
    "for cat_col in col_name_dict['cat_cols_with_nan']:\n",
    "    df[cat_col].fillna(value=df[cat_col].mode()[0], inplace=True)\n",
    "\n",
    "print(df.isnull().sum())\n",
    "\n",
    "# removing numerical columns with mean value\n",
    "for num_col in col_name_dict['num_cols_with_nan']:\n",
    "    df[num_col].fillna(value=df[num_col].mean(), inplace=True)"
   ],
   "metadata": {
    "collapsed": false,
    "pycharm": {
     "name": "#%%\n"
    }
   }
  },
  {
   "cell_type": "code",
   "execution_count": 32,
   "outputs": [],
   "source": [
    "df = pd.get_dummies(df, columns=list(set(col_name_dict['cat_cols']) - set(col_name_dict['binary_cols'])))"
   ],
   "metadata": {
    "collapsed": false,
    "pycharm": {
     "name": "#%%\n"
    }
   }
  },
  {
   "cell_type": "code",
   "execution_count": 33,
   "outputs": [
    {
     "data": {
      "text/plain": "   euribor3m  emp.var.rate  previous  duration  nr.employed    contact  y  \\\n0      4.857           1.1         0       261       5191.0  telephone  0   \n1      4.857           1.1         0       149       5191.0  telephone  0   \n2      4.857           1.1         0       226       5191.0  telephone  0   \n3      4.857           1.1         0       151       5191.0  telephone  0   \n4      4.857           1.1         0       307       5191.0  telephone  0   \n\n   job_admin.  job_blue-collar  job_entrepreneur  ...  month_apr  month_aug  \\\n0           0                0                 0  ...          0          0   \n1           0                0                 0  ...          0          0   \n2           0                0                 0  ...          0          0   \n3           1                0                 0  ...          0          0   \n4           0                0                 0  ...          0          0   \n\n   month_dec  month_jul  month_jun  month_mar  month_may  month_nov  \\\n0          0          0          0          0          1          0   \n1          0          0          0          0          1          0   \n2          0          0          0          0          1          0   \n3          0          0          0          0          1          0   \n4          0          0          0          0          1          0   \n\n   month_oct  month_sep  \n0          0          0  \n1          0          0  \n2          0          0  \n3          0          0  \n4          0          0  \n\n[5 rows x 35 columns]",
      "text/html": "<div>\n<style scoped>\n    .dataframe tbody tr th:only-of-type {\n        vertical-align: middle;\n    }\n\n    .dataframe tbody tr th {\n        vertical-align: top;\n    }\n\n    .dataframe thead th {\n        text-align: right;\n    }\n</style>\n<table border=\"1\" class=\"dataframe\">\n  <thead>\n    <tr style=\"text-align: right;\">\n      <th></th>\n      <th>euribor3m</th>\n      <th>emp.var.rate</th>\n      <th>previous</th>\n      <th>duration</th>\n      <th>nr.employed</th>\n      <th>contact</th>\n      <th>y</th>\n      <th>job_admin.</th>\n      <th>job_blue-collar</th>\n      <th>job_entrepreneur</th>\n      <th>...</th>\n      <th>month_apr</th>\n      <th>month_aug</th>\n      <th>month_dec</th>\n      <th>month_jul</th>\n      <th>month_jun</th>\n      <th>month_mar</th>\n      <th>month_may</th>\n      <th>month_nov</th>\n      <th>month_oct</th>\n      <th>month_sep</th>\n    </tr>\n  </thead>\n  <tbody>\n    <tr>\n      <th>0</th>\n      <td>4.857</td>\n      <td>1.1</td>\n      <td>0</td>\n      <td>261</td>\n      <td>5191.0</td>\n      <td>telephone</td>\n      <td>0</td>\n      <td>0</td>\n      <td>0</td>\n      <td>0</td>\n      <td>...</td>\n      <td>0</td>\n      <td>0</td>\n      <td>0</td>\n      <td>0</td>\n      <td>0</td>\n      <td>0</td>\n      <td>1</td>\n      <td>0</td>\n      <td>0</td>\n      <td>0</td>\n    </tr>\n    <tr>\n      <th>1</th>\n      <td>4.857</td>\n      <td>1.1</td>\n      <td>0</td>\n      <td>149</td>\n      <td>5191.0</td>\n      <td>telephone</td>\n      <td>0</td>\n      <td>0</td>\n      <td>0</td>\n      <td>0</td>\n      <td>...</td>\n      <td>0</td>\n      <td>0</td>\n      <td>0</td>\n      <td>0</td>\n      <td>0</td>\n      <td>0</td>\n      <td>1</td>\n      <td>0</td>\n      <td>0</td>\n      <td>0</td>\n    </tr>\n    <tr>\n      <th>2</th>\n      <td>4.857</td>\n      <td>1.1</td>\n      <td>0</td>\n      <td>226</td>\n      <td>5191.0</td>\n      <td>telephone</td>\n      <td>0</td>\n      <td>0</td>\n      <td>0</td>\n      <td>0</td>\n      <td>...</td>\n      <td>0</td>\n      <td>0</td>\n      <td>0</td>\n      <td>0</td>\n      <td>0</td>\n      <td>0</td>\n      <td>1</td>\n      <td>0</td>\n      <td>0</td>\n      <td>0</td>\n    </tr>\n    <tr>\n      <th>3</th>\n      <td>4.857</td>\n      <td>1.1</td>\n      <td>0</td>\n      <td>151</td>\n      <td>5191.0</td>\n      <td>telephone</td>\n      <td>0</td>\n      <td>1</td>\n      <td>0</td>\n      <td>0</td>\n      <td>...</td>\n      <td>0</td>\n      <td>0</td>\n      <td>0</td>\n      <td>0</td>\n      <td>0</td>\n      <td>0</td>\n      <td>1</td>\n      <td>0</td>\n      <td>0</td>\n      <td>0</td>\n    </tr>\n    <tr>\n      <th>4</th>\n      <td>4.857</td>\n      <td>1.1</td>\n      <td>0</td>\n      <td>307</td>\n      <td>5191.0</td>\n      <td>telephone</td>\n      <td>0</td>\n      <td>0</td>\n      <td>0</td>\n      <td>0</td>\n      <td>...</td>\n      <td>0</td>\n      <td>0</td>\n      <td>0</td>\n      <td>0</td>\n      <td>0</td>\n      <td>0</td>\n      <td>1</td>\n      <td>0</td>\n      <td>0</td>\n      <td>0</td>\n    </tr>\n  </tbody>\n</table>\n<p>5 rows × 35 columns</p>\n</div>"
     },
     "execution_count": 33,
     "metadata": {},
     "output_type": "execute_result"
    }
   ],
   "source": [
    "df.head()"
   ],
   "metadata": {
    "collapsed": false,
    "pycharm": {
     "name": "#%%\n"
    }
   }
  },
  {
   "cell_type": "code",
   "execution_count": 34,
   "outputs": [],
   "source": [
    "# label encoding the binary cols\n",
    "for col in list(set(col_name_dict['binary_cols']) - set(label)):\n",
    "    # print('Label Encoding: ', col)\n",
    "    label_encoder = preprocessing.LabelEncoder()\n",
    "    df[col] = label_encoder.fit_transform(df[col])\n",
    "\n",
    "if len(list(set(col_name_dict['num_cols']) - set(col_name_dict['binary_cols']))) != 0:\n",
    "    df = util.transformStandardScaler(df, list(set(col_name_dict['num_cols']) - set(col_name_dict['binary_cols'])),\n",
    "                                      label)\n",
    "\n",
    "# changing the lables from 0,1 to -1,1\n",
    "df[label] = df[label].replace([0], -1)\n",
    "\n",
    "df.reset_index(inplace=True, drop=True)"
   ],
   "metadata": {
    "collapsed": false,
    "pycharm": {
     "name": "#%%\n"
    }
   }
  },
  {
   "cell_type": "code",
   "execution_count": 90,
   "outputs": [],
   "source": [
    "def preprocess_bank_data(df, label, num_of_features):\n",
    "    util = Utility()\n",
    "    df.dropna(axis=0, subset=[label])\n",
    "\n",
    "    label_encoder = preprocessing.LabelEncoder()\n",
    "    df[label] = label_encoder.fit_transform(df[label])\n",
    "\n",
    "    if num_of_features != -1:\n",
    "        # get all columns\n",
    "        col_name_dict = util.get_all_cols(df)\n",
    "\n",
    "        # gain computations\n",
    "        temp_df = df.copy()\n",
    "        gainFilter = InformationGain(temp_df, col_name_dict['num_cols'], label)\n",
    "        final_cols = gainFilter.get_final_column_list(num_of_features=num_of_features)\n",
    "\n",
    "        # print('Final Cols are: ==>')\n",
    "        # print(final_cols)\n",
    "        df = df[final_cols]\n",
    "\n",
    "    col_name_dict = util.get_all_cols(df)\n",
    "\n",
    "    # removing categorical columns with mode( most frequent value)\n",
    "    for cat_col in col_name_dict['cat_cols_with_nan']:\n",
    "        df[cat_col].fillna(value=df[cat_col].mode()[0], inplace=True)\n",
    "\n",
    "    print(df.isnull().sum())\n",
    "\n",
    "    # removing numerical columns with mean value\n",
    "    for num_col in col_name_dict['num_cols_with_nan']:\n",
    "        df[num_col].fillna(value=df[num_col].mean(), inplace=True)\n",
    "\n",
    "\n",
    "    df = pd.get_dummies(df, columns=list(set(col_name_dict['cat_cols']) - set(col_name_dict['binary_cols'])))\n",
    "\n",
    "     # label encoding the binary cols\n",
    "    for col in list(set(col_name_dict['binary_cols']) - set(label)):\n",
    "        # print('Label Encoding: ', col)\n",
    "        label_encoder = preprocessing.LabelEncoder()\n",
    "        df[col] = label_encoder.fit_transform(df[col])\n",
    "\n",
    "    if len(list(set(col_name_dict['num_cols']) - set(col_name_dict['binary_cols']))) != 0:\n",
    "        df = util.transformStandardScaler(df, list(set(col_name_dict['num_cols']) - set(col_name_dict['binary_cols'])),\n",
    "                                          label)\n",
    "\n",
    "    # changing the lables from 0,1 to -1,1\n",
    "    df[label] = df[label].replace([0], -1)\n",
    "\n",
    "    df.reset_index(inplace=True, drop=True)\n",
    "    # print('DONE')\n",
    "    return df\n",
    "\n"
   ],
   "metadata": {
    "collapsed": false,
    "pycharm": {
     "name": "#%%\n"
    }
   }
  },
  {
   "cell_type": "code",
   "execution_count": 39,
   "outputs": [
    {
     "name": "stdout",
     "output_type": "stream",
     "text": [
      "TP: 1644\n",
      "TN: 28373\n",
      "FP: 880\n",
      "FN: 2053\n",
      "Accuracy: 91.099 %\n",
      "Recall: 44.468 %\n",
      "Specificity: 96.992 %\n",
      "Precision: 65.135 %\n",
      "False Discovery Rate: 34.865 %\n",
      "F1 score: 52.853 %\n"
     ]
    }
   ],
   "source": [
    "lgr = LogisticRegression(learning_rate=0.1, max_iter=500, test_size=0.2, early_stop_error=0, decay=5e-6)\n",
    "lgr.split_dataset(df, label)\n",
    "lgr.fit(is_constant_lr=False, no_curve=True, calculate_metric_on_train=True)"
   ],
   "metadata": {
    "collapsed": false,
    "pycharm": {
     "name": "#%%\n"
    }
   }
  },
  {
   "cell_type": "code",
   "execution_count": 40,
   "outputs": [
    {
     "name": "stdout",
     "output_type": "stream",
     "text": [
      "Accuracy: 87.945 %\n",
      "\n",
      "Adaboost Testing Metric (Churn Dataset)\n",
      "Accuracy: 87.266 %\n"
     ]
    }
   ],
   "source": [
    "adaboost_classifier = Adaboost(num_of_learner=5, test_size=0.2)\n",
    "adaboost_classifier.split_dataset(df=df, label=label)\n",
    "adaboost_classifier.fit(base_learner_max_iter=1000, error=0.5, learning_rate=0.1,\n",
    "                        decay=5e-6, var_lr=False)\n",
    "\n",
    "print('\\nAdaboost Testing Metric (Churn Dataset)')\n",
    "adaboost_classifier.predict()"
   ],
   "metadata": {
    "collapsed": false,
    "pycharm": {
     "name": "#%%\n"
    }
   }
  },
  {
   "cell_type": "code",
   "execution_count": 91,
   "outputs": [],
   "source": [
    "df = pd.read_csv('/home/akil/Work/Work/Academics/4-2/ML/Assignment-1/data/bank-additional/bank-additional/bank-additional-full.csv',sep=\";\")"
   ],
   "metadata": {
    "collapsed": false,
    "pycharm": {
     "name": "#%%\n"
    }
   }
  },
  {
   "cell_type": "code",
   "execution_count": 92,
   "outputs": [
    {
     "data": {
      "text/plain": "Index(['age', 'job', 'marital', 'education', 'default', 'housing', 'loan',\n       'contact', 'month', 'day_of_week', 'duration', 'campaign', 'pdays',\n       'previous', 'poutcome', 'emp.var.rate', 'cons.price.idx',\n       'cons.conf.idx', 'euribor3m', 'nr.employed', 'y'],\n      dtype='object')"
     },
     "execution_count": 92,
     "metadata": {},
     "output_type": "execute_result"
    }
   ],
   "source": [
    "df.columns"
   ],
   "metadata": {
    "collapsed": false,
    "pycharm": {
     "name": "#%%\n"
    }
   }
  },
  {
   "cell_type": "code",
   "execution_count": 93,
   "outputs": [
    {
     "name": "stdout",
     "output_type": "stream",
     "text": [
      "Sorted gain dict: {'pdays': 0.0, 'loan': 1.9304554865873236e-05, 'housing': 9.966572127484419e-05, 'age': 0.00032264715724250603, 'day_of_week': 0.00046454561248199244, 'marital': 0.0020686101235994903, 'campaign': 0.002275725928323147, 'education': 0.0034475943780793994, 'cons.price.idx': 0.006347621434915962, 'cons.conf.idx': 0.006687290758741304, 'default': 0.008330563734606167, 'job': 0.014223132694818397, 'contact': 0.016801224144244453, 'emp.var.rate': 0.01810630468220209, 'previous': 0.021642101010758863, 'nr.employed': 0.02351419856207293, 'euribor3m': 0.023733135080271195, 'month': 0.038096643462713575, 'poutcome': 0.04383428733717082, 'duration': 0.059190810226882606}\n",
      "default         0\n",
      "euribor3m       0\n",
      "poutcome        0\n",
      "emp.var.rate    0\n",
      "previous        0\n",
      "duration        0\n",
      "job             0\n",
      "nr.employed     0\n",
      "contact         0\n",
      "y               0\n",
      "month           0\n",
      "dtype: int64\n"
     ]
    },
    {
     "data": {
      "text/plain": "   euribor3m  emp.var.rate  previous  duration  nr.employed  contact  y  \\\n0    0.71246      0.648092 -0.349494  0.010471      0.33168        1 -1   \n1    0.71246      0.648092 -0.349494 -0.421501      0.33168        1 -1   \n2    0.71246      0.648092 -0.349494 -0.124520      0.33168        1 -1   \n3    0.71246      0.648092 -0.349494 -0.413787      0.33168        1 -1   \n4    0.71246      0.648092 -0.349494  0.187888      0.33168        1 -1   \n\n   job_admin.  job_blue-collar  job_entrepreneur  ...  month_apr  month_aug  \\\n0           0                0                 0  ...          0          0   \n1           0                0                 0  ...          0          0   \n2           0                0                 0  ...          0          0   \n3           1                0                 0  ...          0          0   \n4           0                0                 0  ...          0          0   \n\n   month_dec  month_jul  month_jun  month_mar  month_may  month_nov  \\\n0          0          0          0          0          1          0   \n1          0          0          0          0          1          0   \n2          0          0          0          0          1          0   \n3          0          0          0          0          1          0   \n4          0          0          0          0          1          0   \n\n   month_oct  month_sep  \n0          0          0  \n1          0          0  \n2          0          0  \n3          0          0  \n4          0          0  \n\n[5 rows x 35 columns]",
      "text/html": "<div>\n<style scoped>\n    .dataframe tbody tr th:only-of-type {\n        vertical-align: middle;\n    }\n\n    .dataframe tbody tr th {\n        vertical-align: top;\n    }\n\n    .dataframe thead th {\n        text-align: right;\n    }\n</style>\n<table border=\"1\" class=\"dataframe\">\n  <thead>\n    <tr style=\"text-align: right;\">\n      <th></th>\n      <th>euribor3m</th>\n      <th>emp.var.rate</th>\n      <th>previous</th>\n      <th>duration</th>\n      <th>nr.employed</th>\n      <th>contact</th>\n      <th>y</th>\n      <th>job_admin.</th>\n      <th>job_blue-collar</th>\n      <th>job_entrepreneur</th>\n      <th>...</th>\n      <th>month_apr</th>\n      <th>month_aug</th>\n      <th>month_dec</th>\n      <th>month_jul</th>\n      <th>month_jun</th>\n      <th>month_mar</th>\n      <th>month_may</th>\n      <th>month_nov</th>\n      <th>month_oct</th>\n      <th>month_sep</th>\n    </tr>\n  </thead>\n  <tbody>\n    <tr>\n      <th>0</th>\n      <td>0.71246</td>\n      <td>0.648092</td>\n      <td>-0.349494</td>\n      <td>0.010471</td>\n      <td>0.33168</td>\n      <td>1</td>\n      <td>-1</td>\n      <td>0</td>\n      <td>0</td>\n      <td>0</td>\n      <td>...</td>\n      <td>0</td>\n      <td>0</td>\n      <td>0</td>\n      <td>0</td>\n      <td>0</td>\n      <td>0</td>\n      <td>1</td>\n      <td>0</td>\n      <td>0</td>\n      <td>0</td>\n    </tr>\n    <tr>\n      <th>1</th>\n      <td>0.71246</td>\n      <td>0.648092</td>\n      <td>-0.349494</td>\n      <td>-0.421501</td>\n      <td>0.33168</td>\n      <td>1</td>\n      <td>-1</td>\n      <td>0</td>\n      <td>0</td>\n      <td>0</td>\n      <td>...</td>\n      <td>0</td>\n      <td>0</td>\n      <td>0</td>\n      <td>0</td>\n      <td>0</td>\n      <td>0</td>\n      <td>1</td>\n      <td>0</td>\n      <td>0</td>\n      <td>0</td>\n    </tr>\n    <tr>\n      <th>2</th>\n      <td>0.71246</td>\n      <td>0.648092</td>\n      <td>-0.349494</td>\n      <td>-0.124520</td>\n      <td>0.33168</td>\n      <td>1</td>\n      <td>-1</td>\n      <td>0</td>\n      <td>0</td>\n      <td>0</td>\n      <td>...</td>\n      <td>0</td>\n      <td>0</td>\n      <td>0</td>\n      <td>0</td>\n      <td>0</td>\n      <td>0</td>\n      <td>1</td>\n      <td>0</td>\n      <td>0</td>\n      <td>0</td>\n    </tr>\n    <tr>\n      <th>3</th>\n      <td>0.71246</td>\n      <td>0.648092</td>\n      <td>-0.349494</td>\n      <td>-0.413787</td>\n      <td>0.33168</td>\n      <td>1</td>\n      <td>-1</td>\n      <td>1</td>\n      <td>0</td>\n      <td>0</td>\n      <td>...</td>\n      <td>0</td>\n      <td>0</td>\n      <td>0</td>\n      <td>0</td>\n      <td>0</td>\n      <td>0</td>\n      <td>1</td>\n      <td>0</td>\n      <td>0</td>\n      <td>0</td>\n    </tr>\n    <tr>\n      <th>4</th>\n      <td>0.71246</td>\n      <td>0.648092</td>\n      <td>-0.349494</td>\n      <td>0.187888</td>\n      <td>0.33168</td>\n      <td>1</td>\n      <td>-1</td>\n      <td>0</td>\n      <td>0</td>\n      <td>0</td>\n      <td>...</td>\n      <td>0</td>\n      <td>0</td>\n      <td>0</td>\n      <td>0</td>\n      <td>0</td>\n      <td>0</td>\n      <td>1</td>\n      <td>0</td>\n      <td>0</td>\n      <td>0</td>\n    </tr>\n  </tbody>\n</table>\n<p>5 rows × 35 columns</p>\n</div>"
     },
     "execution_count": 93,
     "metadata": {},
     "output_type": "execute_result"
    }
   ],
   "source": [
    "df = preprocess_bank_data(df, 'y', 10)\n",
    "df.head()"
   ],
   "metadata": {
    "collapsed": false,
    "pycharm": {
     "name": "#%%\n"
    }
   }
  },
  {
   "cell_type": "code",
   "execution_count": 94,
   "outputs": [
    {
     "name": "stdout",
     "output_type": "stream",
     "text": [
      "Accuracy: 87.945 %\n",
      "\n",
      "Adaboost Testing Metric (Churn Dataset)\n",
      "Accuracy: 87.266 %\n"
     ]
    }
   ],
   "source": [
    "adaboost_classifier = Adaboost(num_of_learner=5, test_size=0.2)\n",
    "adaboost_classifier.split_dataset(df=df, label=label)\n",
    "adaboost_classifier.fit(base_learner_max_iter=1000, error=0.5, learning_rate=0.1,\n",
    "                        decay=5e-6, var_lr=False)\n",
    "\n",
    "print('\\nAdaboost Testing Metric (Churn Dataset)')\n",
    "adaboost_classifier.predict()"
   ],
   "metadata": {
    "collapsed": false,
    "pycharm": {
     "name": "#%%\n"
    }
   }
  },
  {
   "cell_type": "code",
   "execution_count": null,
   "outputs": [],
   "source": [],
   "metadata": {
    "collapsed": false,
    "pycharm": {
     "name": "#%%\n"
    }
   }
  }
 ],
 "metadata": {
  "kernelspec": {
   "display_name": "Python 3",
   "language": "python",
   "name": "python3"
  },
  "language_info": {
   "codemirror_mode": {
    "name": "ipython",
    "version": 2
   },
   "file_extension": ".py",
   "mimetype": "text/x-python",
   "name": "python",
   "nbconvert_exporter": "python",
   "pygments_lexer": "ipython2",
   "version": "2.7.6"
  }
 },
 "nbformat": 4,
 "nbformat_minor": 0
}