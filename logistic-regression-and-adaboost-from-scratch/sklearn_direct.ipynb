{
 "cells": [
  {
   "cell_type": "code",
   "execution_count": 1,
   "outputs": [],
   "source": [
    "import pandas as pd\n",
    "import numpy as np\n",
    "import matplotlib.pyplot as plt\n",
    "from sklearn import preprocessing\n",
    "from sklearn.linear_model import LogisticRegression\n",
    "from sklearn.model_selection import train_test_split\n",
    "from sklearn.preprocessing import MinMaxScaler, StandardScaler, KBinsDiscretizer\n",
    "from sklearn.metrics import confusion_matrix\n",
    "from sklearn.ensemble import AdaBoostClassifier\n",
    "from sklearn.tree import DecisionTreeClassifier\n",
    "from sklearn.datasets import make_classification\n",
    "from sklearn.metrics import precision_recall_fscore_support"
   ],
   "metadata": {
    "collapsed": false,
    "pycharm": {
     "name": "#%%\n"
    }
   }
  },
  {
   "cell_type": "code",
   "execution_count": 2,
   "outputs": [],
   "source": [
    "# checking to see if there is any white space in any of the columns, if so convert them to null value\n",
    "def get_whitespace_count(df):\n",
    "    columns = df.columns\n",
    "    dict = {}\n",
    "    for col in columns:\n",
    "        dict[col] = df[col].str.isspace().sum() if df[col].dtype == 'object' else -1\n",
    "\n",
    "    print(dict)"
   ],
   "metadata": {
    "collapsed": false,
    "pycharm": {
     "name": "#%%\n"
    }
   }
  },
  {
   "cell_type": "code",
   "execution_count": 3,
   "outputs": [],
   "source": [
    "def get_binary_col_count(df, columns):\n",
    "    return [ col for col in columns if len(df[col].value_counts()) == 2]"
   ],
   "metadata": {
    "collapsed": false,
    "pycharm": {
     "name": "#%%\n"
    }
   }
  },
  {
   "cell_type": "code",
   "execution_count": 3,
   "outputs": [],
   "source": [
    "def get_all_cols(df):\n",
    "    columns = list(df.columns)\n",
    "    columns_with_nan = df.columns[df.isna().any()].tolist()\n",
    "    num_cols = list(df._get_numeric_data().columns)\n",
    "    cat_cols = list(set(columns) - set(num_cols))\n",
    "    cat_cols_with_nan = set(columns_with_nan) - set(num_cols)\n",
    "    num_cols_with_nan = set(columns_with_nan) - set(cat_cols)\n",
    "    binary_cols = get_binary_col_count(df, columns)\n",
    "\n",
    "    return columns, columns_with_nan, num_cols, cat_cols, cat_cols_with_nan, num_cols_with_nan, binary_cols"
   ],
   "metadata": {
    "collapsed": false,
    "pycharm": {
     "name": "#%%\n"
    }
   }
  },
  {
   "cell_type": "code",
   "execution_count": 5,
   "outputs": [],
   "source": [
    "def get_value_counts(df, num_cols):\n",
    "    for col in num_cols:\n",
    "        print(df[col].value_counts())\n",
    "\n",
    "\n",
    "def transformStandardScaler(df, transformable_columns, label):\n",
    "    test = df.copy()\n",
    "\n",
    "    if label in transformable_columns:\n",
    "        transformable_columns.remove(label)\n",
    "\n",
    "    test[transformable_columns] = StandardScaler().fit_transform(test[transformable_columns])\n",
    "\n",
    "    return test\n",
    "\n",
    "\n",
    "def minMaxScaler(df, transformable_columns, label):\n",
    "    test = df.copy()\n",
    "\n",
    "    if label in transformable_columns:\n",
    "        transformable_columns.remove(label)\n",
    "\n",
    "    for col in transformable_columns:\n",
    "        test[col] = MinMaxScaler().fit_transform(test[[col]])\n",
    "\n",
    "    return test\n",
    "\n",
    "\n",
    "def transformKBinsDiscretizer(df, transformable_columns, label, bins):\n",
    "    test = df.copy()\n",
    "\n",
    "    if label in transformable_columns:\n",
    "        transformable_columns.remove(label)\n",
    "\n",
    "    for col in transformable_columns:\n",
    "        est = KBinsDiscretizer(n_bins=bins, encode='ordinal', strategy='uniform')\n",
    "        test[col] = est.fit_transform(test[[col]])\n",
    "\n",
    "    return test"
   ],
   "metadata": {
    "collapsed": false,
    "pycharm": {
     "name": "#%%\n"
    }
   }
  },
  {
   "cell_type": "code",
   "execution_count": 112,
   "outputs": [],
   "source": [
    "class MetricCalculator:\n",
    "    def __init__(self, y_real, y_pred) -> None:\n",
    "        self.TP = 0\n",
    "        self.TN = 0\n",
    "        self.FP = 0\n",
    "        self.FN = 0\n",
    "        self.y_real = y_real\n",
    "        self.y_pred = y_pred\n",
    "        self.num_rows = len(y_pred)\n",
    "\n",
    "    def calculate_cf_matrix_fields(self):\n",
    "\n",
    "        #self.y_real[self.y_real == 0] = -1\n",
    "\n",
    "        for index in range(self.num_rows):\n",
    "            if self.y_real[index] == 1 and self.y_pred[index] == 1:\n",
    "                self.TP += 1\n",
    "            if self.y_pred[index] == 1 and self.y_real[index] == 0:\n",
    "                self.FP += 1\n",
    "            if self.y_real[index] == 0 and self.y_pred[index] == 0:\n",
    "                self.TN += 1\n",
    "            if self.y_pred[index] == 0 and self.y_real[index] == 1:\n",
    "                self.FN += 1\n",
    "\n",
    "\n",
    "    def get_cf_field(self):\n",
    "        return self.TP, self.TN, self.FP, self.FN\n",
    "\n",
    "    def calculate_all_metric(self):\n",
    "\n",
    "        self.calculate_cf_matrix_fields()\n",
    "        print(f'TP: {self.TP}')\n",
    "        print(f'TN: {self.TN}')\n",
    "        print(f'FP: {self.FP}')\n",
    "        print(f'FN: {self.FN}')\n",
    "\n",
    "        self.calculate_accuracy()\n",
    "        self.calculate_recall()\n",
    "        self.calculate_specificity()\n",
    "        self.calculate_precision()\n",
    "        self.calculate_false_discovery_rate()\n",
    "        self.calculate_f1_score()\n",
    "\n",
    "        print(f'Accuracy: {self.calculate_accuracy()}')\n",
    "        print(f'Recall: {self.calculate_recall()}')\n",
    "        print(f'Specificity: {self.calculate_specificity()}')\n",
    "        print(f'Precision: {self.calculate_precision()}')\n",
    "        print(f'False Discovery Rate: {self.calculate_false_discovery_rate()}')\n",
    "        print(f'F1 score: {self.calculate_f1_score()}')\n",
    "\n",
    "    def calculate_accuracy(self):\n",
    "        return (self.TP + self.TN) / (self.TP + self.TN + self.FP + self.FN)\n",
    "\n",
    "    def calculate_precision(self):\n",
    "        return self.TP / (self.TP + self.FP)\n",
    "\n",
    "    def calculate_recall(self):\n",
    "        return self.TP / (self.TP + self.FN)\n",
    "\n",
    "    def calculate_specificity(self):\n",
    "        return self.TN / (self.TN + self.FP)\n",
    "\n",
    "    def calculate_false_discovery_rate(self):\n",
    "        return self.FP / (self.FP + self.TP)\n",
    "\n",
    "    def calculate_f1_score(self):\n",
    "        return (2*self.TP) / (2*self.TP + self.FP + self.FN)"
   ],
   "metadata": {
    "collapsed": false,
    "pycharm": {
     "name": "#%%\n"
    }
   }
  },
  {
   "cell_type": "code",
   "execution_count": 101,
   "outputs": [],
   "source": [
    "class InformationGain:\n",
    "\n",
    "    def __init__(self, df, num_cols, label):\n",
    "        self.df = df\n",
    "        self.num_cols = num_cols\n",
    "        self.label = label\n",
    "        self.original_columns = self.df.columns\n",
    "\n",
    "    def get_final_column_list(self, num_of_features):\n",
    "        self.cont_to_bins_pipeline() # careful here!\n",
    "        gain_dict = {col: self.calculate_gain(col) for col in list(set(self.df.columns) - {self.label})}\n",
    "        sorted_gain_dict = {k: v for k, v in sorted(gain_dict.items(), key=lambda item: item[1])}\n",
    "        print('Sorted gain dict:', sorted_gain_dict)\n",
    "        cols_to_drop = list(sorted_gain_dict.keys())[:len(sorted_gain_dict) - num_of_features]\n",
    "        final_cols = list(set(self.original_columns ) - set(cols_to_drop))\n",
    "        # print('Final Cols are: ==>')\n",
    "        # print(final_cols)\n",
    "\n",
    "        return final_cols\n",
    "\n",
    "    def calculate_gain(self, attribute):\n",
    "        if self.label != attribute:\n",
    "            p = len(self.df[self.df[self.label] == 1])\n",
    "            df_size = len(self.df) # p + n\n",
    "            data_entropy = self.calculate_entropy(p/df_size)\n",
    "            #print('Data entropy is', data_entropy)\n",
    "\n",
    "            attribute_remainder = self.calculate_remainder(attribute)\n",
    "            return data_entropy - attribute_remainder\n",
    "\n",
    "\n",
    "    def calculate_remainder(self, attribute):\n",
    "        unique_vals, num_of_unique = np.unique(self.df[attribute], return_counts=True)\n",
    "\n",
    "        remainder_sum = 0\n",
    "        for index, attrib_val in enumerate(unique_vals):\n",
    "\n",
    "            # choosing the rows equal to the unique value in the attribute\n",
    "            filtered_df = self.df.where(self.df[attribute] == attrib_val).dropna()\n",
    "\n",
    "            # calculating number of positive classed rows for the given attribute's unique value\n",
    "            pk = len(filtered_df[filtered_df[self.label] == 1])\n",
    "            nk = len(filtered_df[filtered_df[self.label] == 0])\n",
    "\n",
    "            # sanity check\n",
    "            assert nk == len(filtered_df) - pk\n",
    "\n",
    "            prob = (pk + nk) / (len(self.df))\n",
    "            attr_entropy = self.calculate_entropy(pk / (pk + nk))\n",
    "            remainder_sum += prob * attr_entropy\n",
    "\n",
    "        return  remainder_sum\n",
    "\n",
    "    @staticmethod\n",
    "    def calculate_entropy(q):\n",
    "        if q > 0:\n",
    "            return -1 * (q * np.log2(q) + (1-q) * np.log2(1-q))\n",
    "        return 0\n",
    "\n",
    "    def convert_cont_to_bins(self,  old_col_name):\n",
    "        min = self.df[old_col_name].min()\n",
    "        median = self.df[old_col_name].median()\n",
    "\n",
    "        if min != median:\n",
    "            #print(old_col_name)\n",
    "            self.df[old_col_name+'_'] = pd.qcut(self.df[old_col_name], q=4, labels=['q1', 'q2', 'q3', 'q4'])\n",
    "            self.df.drop(columns=[old_col_name], inplace=True)\n",
    "            self.df.rename(columns={old_col_name+'_': old_col_name}, inplace=True)\n",
    "\n",
    "    def cont_to_bins_pipeline(self):\n",
    "        for col in list(set(self.num_cols) - set(self.label)):\n",
    "            self.convert_cont_to_bins(col)\n"
   ],
   "metadata": {
    "collapsed": false,
    "pycharm": {
     "name": "#%%\n"
    }
   }
  },
  {
   "cell_type": "code",
   "execution_count": 102,
   "metadata": {
    "collapsed": true
   },
   "outputs": [],
   "source": [
    "def preprocess_churn_data(df, label, num_of_features):\n",
    "\n",
    "    print(len(df))\n",
    "\n",
    "    df.dropna(axis=0, subset=[label])\n",
    "\n",
    "    print(len(df))\n",
    "\n",
    "    # drop the customer ID column in the dataset\n",
    "    df.drop('customerID', axis=1, inplace=True)\n",
    "\n",
    "    # converting the labels(y) to numeric labels\n",
    "    print(df.head())\n",
    "    label_encoder = preprocessing.LabelEncoder()\n",
    "    df[label] = label_encoder.fit_transform(df[label])\n",
    "    print(df.head())\n",
    "\n",
    "    print(\"\\nMissing values :  \", df.isnull().sum().values.sum())\n",
    "\n",
    "    # get the whitespace  counts and remove them\n",
    "    get_whitespace_count(df)\n",
    "\n",
    "    df['TotalCharges'] = df['TotalCharges'].replace(r'^\\s*$', np.NaN, regex=True)\n",
    "\n",
    "    get_whitespace_count(df)\n",
    "\n",
    "    print(\"\\nMissing values :  \", df.isnull().sum())\n",
    "\n",
    "    # converting a single column to float\n",
    "    # df[cols] = df[cols].apply(pd.to_numeric, errors='coerce') where cols are required columns we want to convert\n",
    "    df['TotalCharges'] = pd.to_numeric(df['TotalCharges'], downcast=\"float\", errors='coerce')\n",
    "\n",
    "    print(\"\\nBefore Missing values :  \", df.isnull().sum())\n",
    "\n",
    "    # replacing the missing values with mean for total charges\n",
    "    df['TotalCharges'].fillna(value=df['TotalCharges'].mean(), inplace=True)\n",
    "\n",
    "    print(\"\\nAfter Missing values :  \", df.isnull().sum())\n",
    "\n",
    "    if num_of_features != -1:\n",
    "        # get all columns\n",
    "        columns, columns_with_nan, num_cols, cat_cols, cat_cols_with_nan, num_cols_with_nan, binary_cols = get_all_cols(df)\n",
    "\n",
    "        # gain computations\n",
    "        temp_df = df.copy()\n",
    "        gainFilter = InformationGain(temp_df,num_cols, label)\n",
    "        final_cols = gainFilter.get_final_column_list(num_of_features=num_of_features)\n",
    "\n",
    "        # print('Final Cols are: ==>')\n",
    "        # print(final_cols)\n",
    "        df = df[final_cols]\n",
    "\n",
    "    # get all columns\n",
    "    columns, columns_with_nan, num_cols, cat_cols, cat_cols_with_nan, num_cols_with_nan, binary_cols = get_all_cols(df)\n",
    "\n",
    "    # removing categorical columns with mode( most frequent value)\n",
    "    for cat_col in cat_cols_with_nan:\n",
    "        df[cat_col].fillna(value=df[cat_col].mode()[0], inplace=True)\n",
    "\n",
    "    print(df.isnull().sum())\n",
    "\n",
    "    # removing numerical columns with mean value\n",
    "    for num_col in num_cols_with_nan:\n",
    "        df[num_col].fillna(value=df[num_col].mean(), inplace=True)\n",
    "\n",
    "    print(df.isnull().sum())\n",
    "\n",
    "    # one hot encoding the categorical cols\n",
    "    df = pd.get_dummies(df, columns=list(set(cat_cols) - set(binary_cols)))\n",
    "\n",
    "    # label encoding the binary cols\n",
    "    for col in list(set(binary_cols) - set(label)):\n",
    "        print('Label Encoding: ', col)\n",
    "        label_encoder = preprocessing.LabelEncoder()\n",
    "        df[col] = label_encoder.fit_transform(df[col])\n",
    "\n",
    "    if len(list(set(num_cols) - set(binary_cols))) != 0:\n",
    "        df = transformStandardScaler(df, list(set(num_cols) - set(binary_cols)), label)\n",
    "\n",
    "    # changing the lables from 0,1 to -1,1\n",
    "    #df[label] = df[label].replace([0],-1)\n",
    "\n",
    "    df.reset_index(inplace = True, drop = True)\n",
    "\n",
    "    return df\n"
   ]
  },
  {
   "cell_type": "code",
   "execution_count": 103,
   "outputs": [
    {
     "name": "stdout",
     "output_type": "stream",
     "text": [
      "7043\n",
      "7043\n",
      "   gender  SeniorCitizen Partner Dependents  tenure PhoneService  \\\n",
      "0  Female              0     Yes         No       1           No   \n",
      "1    Male              0      No         No      34          Yes   \n",
      "2    Male              0      No         No       2          Yes   \n",
      "3    Male              0      No         No      45           No   \n",
      "4  Female              0      No         No       2          Yes   \n",
      "\n",
      "      MultipleLines InternetService OnlineSecurity OnlineBackup  \\\n",
      "0  No phone service             DSL             No          Yes   \n",
      "1                No             DSL            Yes           No   \n",
      "2                No             DSL            Yes          Yes   \n",
      "3  No phone service             DSL            Yes           No   \n",
      "4                No     Fiber optic             No           No   \n",
      "\n",
      "  DeviceProtection TechSupport StreamingTV StreamingMovies        Contract  \\\n",
      "0               No          No          No              No  Month-to-month   \n",
      "1              Yes          No          No              No        One year   \n",
      "2               No          No          No              No  Month-to-month   \n",
      "3              Yes         Yes          No              No        One year   \n",
      "4               No          No          No              No  Month-to-month   \n",
      "\n",
      "  PaperlessBilling              PaymentMethod  MonthlyCharges TotalCharges  \\\n",
      "0              Yes           Electronic check           29.85        29.85   \n",
      "1               No               Mailed check           56.95       1889.5   \n",
      "2              Yes               Mailed check           53.85       108.15   \n",
      "3               No  Bank transfer (automatic)           42.30      1840.75   \n",
      "4              Yes           Electronic check           70.70       151.65   \n",
      "\n",
      "  Churn  \n",
      "0    No  \n",
      "1    No  \n",
      "2   Yes  \n",
      "3    No  \n",
      "4   Yes  \n",
      "   gender  SeniorCitizen Partner Dependents  tenure PhoneService  \\\n",
      "0  Female              0     Yes         No       1           No   \n",
      "1    Male              0      No         No      34          Yes   \n",
      "2    Male              0      No         No       2          Yes   \n",
      "3    Male              0      No         No      45           No   \n",
      "4  Female              0      No         No       2          Yes   \n",
      "\n",
      "      MultipleLines InternetService OnlineSecurity OnlineBackup  \\\n",
      "0  No phone service             DSL             No          Yes   \n",
      "1                No             DSL            Yes           No   \n",
      "2                No             DSL            Yes          Yes   \n",
      "3  No phone service             DSL            Yes           No   \n",
      "4                No     Fiber optic             No           No   \n",
      "\n",
      "  DeviceProtection TechSupport StreamingTV StreamingMovies        Contract  \\\n",
      "0               No          No          No              No  Month-to-month   \n",
      "1              Yes          No          No              No        One year   \n",
      "2               No          No          No              No  Month-to-month   \n",
      "3              Yes         Yes          No              No        One year   \n",
      "4               No          No          No              No  Month-to-month   \n",
      "\n",
      "  PaperlessBilling              PaymentMethod  MonthlyCharges TotalCharges  \\\n",
      "0              Yes           Electronic check           29.85        29.85   \n",
      "1               No               Mailed check           56.95       1889.5   \n",
      "2              Yes               Mailed check           53.85       108.15   \n",
      "3               No  Bank transfer (automatic)           42.30      1840.75   \n",
      "4              Yes           Electronic check           70.70       151.65   \n",
      "\n",
      "   Churn  \n",
      "0      0  \n",
      "1      0  \n",
      "2      1  \n",
      "3      0  \n",
      "4      1  \n",
      "\n",
      "Missing values :   0\n",
      "{'gender': 0, 'SeniorCitizen': -1, 'Partner': 0, 'Dependents': 0, 'tenure': -1, 'PhoneService': 0, 'MultipleLines': 0, 'InternetService': 0, 'OnlineSecurity': 0, 'OnlineBackup': 0, 'DeviceProtection': 0, 'TechSupport': 0, 'StreamingTV': 0, 'StreamingMovies': 0, 'Contract': 0, 'PaperlessBilling': 0, 'PaymentMethod': 0, 'MonthlyCharges': -1, 'TotalCharges': 11, 'Churn': -1}\n",
      "{'gender': 0, 'SeniorCitizen': -1, 'Partner': 0, 'Dependents': 0, 'tenure': -1, 'PhoneService': 0, 'MultipleLines': 0, 'InternetService': 0, 'OnlineSecurity': 0, 'OnlineBackup': 0, 'DeviceProtection': 0, 'TechSupport': 0, 'StreamingTV': 0, 'StreamingMovies': 0, 'Contract': 0, 'PaperlessBilling': 0, 'PaymentMethod': 0, 'MonthlyCharges': -1, 'TotalCharges': 0, 'Churn': -1}\n",
      "\n",
      "Missing values :   gender               0\n",
      "SeniorCitizen        0\n",
      "Partner              0\n",
      "Dependents           0\n",
      "tenure               0\n",
      "PhoneService         0\n",
      "MultipleLines        0\n",
      "InternetService      0\n",
      "OnlineSecurity       0\n",
      "OnlineBackup         0\n",
      "DeviceProtection     0\n",
      "TechSupport          0\n",
      "StreamingTV          0\n",
      "StreamingMovies      0\n",
      "Contract             0\n",
      "PaperlessBilling     0\n",
      "PaymentMethod        0\n",
      "MonthlyCharges       0\n",
      "TotalCharges        11\n",
      "Churn                0\n",
      "dtype: int64\n",
      "\n",
      "Before Missing values :   gender               0\n",
      "SeniorCitizen        0\n",
      "Partner              0\n",
      "Dependents           0\n",
      "tenure               0\n",
      "PhoneService         0\n",
      "MultipleLines        0\n",
      "InternetService      0\n",
      "OnlineSecurity       0\n",
      "OnlineBackup         0\n",
      "DeviceProtection     0\n",
      "TechSupport          0\n",
      "StreamingTV          0\n",
      "StreamingMovies      0\n",
      "Contract             0\n",
      "PaperlessBilling     0\n",
      "PaymentMethod        0\n",
      "MonthlyCharges       0\n",
      "TotalCharges        11\n",
      "Churn                0\n",
      "dtype: int64\n",
      "\n",
      "After Missing values :   gender              0\n",
      "SeniorCitizen       0\n",
      "Partner             0\n",
      "Dependents          0\n",
      "tenure              0\n",
      "PhoneService        0\n",
      "MultipleLines       0\n",
      "InternetService     0\n",
      "OnlineSecurity      0\n",
      "OnlineBackup        0\n",
      "DeviceProtection    0\n",
      "TechSupport         0\n",
      "StreamingTV         0\n",
      "StreamingMovies     0\n",
      "Contract            0\n",
      "PaperlessBilling    0\n",
      "PaymentMethod       0\n",
      "MonthlyCharges      0\n",
      "TotalCharges        0\n",
      "Churn               0\n",
      "dtype: int64\n",
      "Sorted gain dict: {'gender': 5.34993367133918e-05, 'PhoneService': 0.00010410414107397958, 'MultipleLines': 0.0011559822717335244, 'SeniorCitizen': 0.015259766252591622, 'Partner': 0.0165241345194036, 'Dependents': 0.02087184590109281, 'PaperlessBilling': 0.027691665182286274, 'MonthlyCharges': 0.03999927224854927, 'TotalCharges': 0.04032734736326182, 'StreamingTV': 0.046033477531786104, 'StreamingMovies': 0.0461676112847661, 'DeviceProtection': 0.06335870722199954, 'PaymentMethod': 0.06422686246078324, 'OnlineBackup': 0.06750705167901994, 'InternetService': 0.08017660077300492, 'TechSupport': 0.09092013620839579, 'OnlineSecurity': 0.09330959465940636, 'tenure': 0.09365594960568191, 'Contract': 0.14203773193805125}\n",
      "OnlineSecurity     0\n",
      "InternetService    0\n",
      "tenure             0\n",
      "Churn              0\n",
      "Contract           0\n",
      "TechSupport        0\n",
      "dtype: int64\n",
      "OnlineSecurity     0\n",
      "InternetService    0\n",
      "tenure             0\n",
      "Churn              0\n",
      "Contract           0\n",
      "TechSupport        0\n",
      "dtype: int64\n",
      "Label Encoding:  Churn\n"
     ]
    },
    {
     "data": {
      "text/plain": "     tenure  Churn  TechSupport_No  TechSupport_No internet service  \\\n0 -1.277445      0               1                                0   \n1  0.066327      0               1                                0   \n2 -1.236724      1               1                                0   \n3  0.514251      0               0                                0   \n4 -1.236724      1               1                                0   \n\n   TechSupport_Yes  InternetService_DSL  InternetService_Fiber optic  \\\n0                0                    1                            0   \n1                0                    1                            0   \n2                0                    1                            0   \n3                1                    1                            0   \n4                0                    0                            1   \n\n   InternetService_No  OnlineSecurity_No  OnlineSecurity_No internet service  \\\n0                   0                  1                                   0   \n1                   0                  0                                   0   \n2                   0                  0                                   0   \n3                   0                  0                                   0   \n4                   0                  1                                   0   \n\n   OnlineSecurity_Yes  Contract_Month-to-month  Contract_One year  \\\n0                   0                        1                  0   \n1                   1                        0                  1   \n2                   1                        1                  0   \n3                   1                        0                  1   \n4                   0                        1                  0   \n\n   Contract_Two year  \n0                  0  \n1                  0  \n2                  0  \n3                  0  \n4                  0  ",
      "text/html": "<div>\n<style scoped>\n    .dataframe tbody tr th:only-of-type {\n        vertical-align: middle;\n    }\n\n    .dataframe tbody tr th {\n        vertical-align: top;\n    }\n\n    .dataframe thead th {\n        text-align: right;\n    }\n</style>\n<table border=\"1\" class=\"dataframe\">\n  <thead>\n    <tr style=\"text-align: right;\">\n      <th></th>\n      <th>tenure</th>\n      <th>Churn</th>\n      <th>TechSupport_No</th>\n      <th>TechSupport_No internet service</th>\n      <th>TechSupport_Yes</th>\n      <th>InternetService_DSL</th>\n      <th>InternetService_Fiber optic</th>\n      <th>InternetService_No</th>\n      <th>OnlineSecurity_No</th>\n      <th>OnlineSecurity_No internet service</th>\n      <th>OnlineSecurity_Yes</th>\n      <th>Contract_Month-to-month</th>\n      <th>Contract_One year</th>\n      <th>Contract_Two year</th>\n    </tr>\n  </thead>\n  <tbody>\n    <tr>\n      <th>0</th>\n      <td>-1.277445</td>\n      <td>0</td>\n      <td>1</td>\n      <td>0</td>\n      <td>0</td>\n      <td>1</td>\n      <td>0</td>\n      <td>0</td>\n      <td>1</td>\n      <td>0</td>\n      <td>0</td>\n      <td>1</td>\n      <td>0</td>\n      <td>0</td>\n    </tr>\n    <tr>\n      <th>1</th>\n      <td>0.066327</td>\n      <td>0</td>\n      <td>1</td>\n      <td>0</td>\n      <td>0</td>\n      <td>1</td>\n      <td>0</td>\n      <td>0</td>\n      <td>0</td>\n      <td>0</td>\n      <td>1</td>\n      <td>0</td>\n      <td>1</td>\n      <td>0</td>\n    </tr>\n    <tr>\n      <th>2</th>\n      <td>-1.236724</td>\n      <td>1</td>\n      <td>1</td>\n      <td>0</td>\n      <td>0</td>\n      <td>1</td>\n      <td>0</td>\n      <td>0</td>\n      <td>0</td>\n      <td>0</td>\n      <td>1</td>\n      <td>1</td>\n      <td>0</td>\n      <td>0</td>\n    </tr>\n    <tr>\n      <th>3</th>\n      <td>0.514251</td>\n      <td>0</td>\n      <td>0</td>\n      <td>0</td>\n      <td>1</td>\n      <td>1</td>\n      <td>0</td>\n      <td>0</td>\n      <td>0</td>\n      <td>0</td>\n      <td>1</td>\n      <td>0</td>\n      <td>1</td>\n      <td>0</td>\n    </tr>\n    <tr>\n      <th>4</th>\n      <td>-1.236724</td>\n      <td>1</td>\n      <td>1</td>\n      <td>0</td>\n      <td>0</td>\n      <td>0</td>\n      <td>1</td>\n      <td>0</td>\n      <td>1</td>\n      <td>0</td>\n      <td>0</td>\n      <td>1</td>\n      <td>0</td>\n      <td>0</td>\n    </tr>\n  </tbody>\n</table>\n</div>"
     },
     "execution_count": 103,
     "metadata": {},
     "output_type": "execute_result"
    }
   ],
   "source": [
    "df = pd.read_csv('./data/cust_churn.csv')\n",
    "df = preprocess_churn_data(df, 'Churn', 5)\n",
    "df.head()"
   ],
   "metadata": {
    "collapsed": false,
    "pycharm": {
     "name": "#%%\n"
    }
   }
  },
  {
   "cell_type": "code",
   "execution_count": 121,
   "outputs": [],
   "source": [
    "def logr( df, label, max_iter = 100):\n",
    "    y = df[label]\n",
    "    X = df.drop(label, axis=1)\n",
    "\n",
    "    assert X.shape[0] == y.shape[0]\n",
    "\n",
    "    X_train, X_test, y_train, y_test = train_test_split(X,y,test_size=0.2,random_state=1)\n",
    "    clf = LogisticRegression(random_state=0, max_iter=max_iter).fit(X_train, y_train)\n",
    "    y_pred = clf.predict(X_test)\n",
    "\n",
    "    print(clf.score(X_test, y_test))\n",
    "\n",
    "    y_pred = np.array(y_pred).reshape(y_pred.shape[0],1)\n",
    "    y_test = np.array(y_test).reshape(y_test.shape[0],1)\n",
    "    mt = MetricCalculator(y_test, y_pred)\n",
    "    mt.calculate_all_metric()"
   ],
   "metadata": {
    "collapsed": false,
    "pycharm": {
     "name": "#%%\n"
    }
   }
  },
  {
   "cell_type": "code",
   "execution_count": 122,
   "outputs": [],
   "source": [
    "def adaboost( df, label):\n",
    "    y = df[label]\n",
    "    X = df.drop(label, axis=1)\n",
    "\n",
    "    assert X.shape[0] == y.shape[0]\n",
    "\n",
    "    X_train, X_test, y_train, y_test = train_test_split(X,y,test_size=0.2,random_state=1)\n",
    "    clf = AdaBoostClassifier(n_estimators=100, random_state=0).fit(X_train, y_train)\n",
    "    y_pred = clf.predict(X_test)\n",
    "    print(clf)\n",
    "    print(clf.score(X_test, y_test))\n",
    "\n",
    "    y_pred = np.array(y_pred).reshape(y_pred.shape[0],1)\n",
    "    y_test = np.array(y_test).reshape(y_test.shape[0],1)\n",
    "    mt = MetricCalculator(y_test, y_pred)\n",
    "    mt.calculate_all_metric()"
   ],
   "metadata": {
    "collapsed": false,
    "pycharm": {
     "name": "#%%\n"
    }
   }
  },
  {
   "cell_type": "code",
   "execution_count": 123,
   "outputs": [],
   "source": [
    "def dt( df, label):\n",
    "    y = df[label]\n",
    "    X = df.drop(label, axis=1)\n",
    "\n",
    "    assert X.shape[0] == y.shape[0]\n",
    "\n",
    "    X_train, X_test, y_train, y_test = train_test_split(X,y,test_size=0.2,random_state=1)\n",
    "    clf = DecisionTreeClassifier(criterion='entropy', random_state=0).fit(X_train, y_train)\n",
    "    y_pred = clf.predict(X_test)\n",
    "    tn, fp, fn, tp = confusion_matrix(y_test, y_pred).ravel()\n",
    "    print(tp)\n",
    "    print(tn)\n",
    "    print(fp)\n",
    "    print(fn)\n",
    "\n",
    "    res = precision_recall_fscore_support(y_test, y_pred, average='macro')\n",
    "    print(clf.score(X_test, y_test))\n",
    "    print(res)\n",
    "\n",
    "    y_pred = np.array(y_pred).reshape(y_pred.shape[0],1)\n",
    "    y_test = np.array(y_test).reshape(y_test.shape[0],1)\n",
    "    mt = MetricCalculator(y_test, y_pred)\n",
    "    mt.calculate_all_metric()\n"
   ],
   "metadata": {
    "collapsed": false,
    "pycharm": {
     "name": "#%%\n"
    }
   }
  },
  {
   "cell_type": "code",
   "execution_count": 124,
   "outputs": [
    {
     "name": "stdout",
     "output_type": "stream",
     "text": [
      "0.7977288857345636\n",
      "TP: 182\n",
      "TN: 942\n",
      "FP: 119\n",
      "FN: 166\n",
      "Accuracy: 0.7977288857345636\n",
      "Recall: 0.5229885057471264\n",
      "Specificity: 0.8878416588124411\n",
      "Precision: 0.6046511627906976\n",
      "False Discovery Rate: 0.3953488372093023\n",
      "F1 score: 0.5608628659476117\n"
     ]
    }
   ],
   "source": [
    "logr(df, 'Churn', max_iter=1000)"
   ],
   "metadata": {
    "collapsed": false,
    "pycharm": {
     "name": "#%%\n"
    }
   }
  },
  {
   "cell_type": "code",
   "execution_count": 120,
   "outputs": [
    {
     "name": "stdout",
     "output_type": "stream",
     "text": [
      "AdaBoostClassifier(n_estimators=100, random_state=0)\n",
      "0.7934705464868701\n",
      "TP: 179\n",
      "TN: 939\n",
      "FP: 122\n",
      "FN: 169\n",
      "Accuracy: 0.7934705464868701\n",
      "Recall: 0.514367816091954\n",
      "Specificity: 0.8850141376060321\n",
      "Precision: 0.5946843853820598\n",
      "False Discovery Rate: 0.4053156146179402\n",
      "F1 score: 0.551617873651772\n"
     ]
    }
   ],
   "source": [
    "adaboost(df, 'Churn')"
   ],
   "metadata": {
    "collapsed": false,
    "pycharm": {
     "name": "#%%\n"
    }
   }
  },
  {
   "cell_type": "code",
   "execution_count": 113,
   "outputs": [
    {
     "name": "stdout",
     "output_type": "stream",
     "text": [
      "193\n",
      "904\n",
      "157\n",
      "155\n",
      "0.7785663591199432\n",
      "(0.7025320383110751, 0.7033120456736759, 0.702919392333892, None)\n",
      "TP: 193\n",
      "TN: 904\n",
      "FP: 157\n",
      "FN: 155\n",
      "Accuracy: 0.7785663591199432\n",
      "Recall: 0.5545977011494253\n",
      "Specificity: 0.8520263901979265\n",
      "Precision: 0.5514285714285714\n",
      "False Discovery Rate: 0.44857142857142857\n",
      "F1 score: 0.5530085959885387\n"
     ]
    }
   ],
   "source": [
    "dt(df, 'Churn')"
   ],
   "metadata": {
    "collapsed": false,
    "pycharm": {
     "name": "#%%\n"
    }
   }
  },
  {
   "cell_type": "code",
   "execution_count": null,
   "outputs": [],
   "source": [],
   "metadata": {
    "collapsed": false,
    "pycharm": {
     "name": "#%%\n"
    }
   }
  }
 ],
 "metadata": {
  "kernelspec": {
   "display_name": "Python 3",
   "language": "python",
   "name": "python3"
  },
  "language_info": {
   "codemirror_mode": {
    "name": "ipython",
    "version": 2
   },
   "file_extension": ".py",
   "mimetype": "text/x-python",
   "name": "python",
   "nbconvert_exporter": "python",
   "pygments_lexer": "ipython2",
   "version": "2.7.6"
  }
 },
 "nbformat": 4,
 "nbformat_minor": 0
}