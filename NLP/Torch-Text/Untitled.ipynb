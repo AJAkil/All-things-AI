{
 "cells": [
  {
   "cell_type": "code",
   "execution_count": 54,
   "id": "79d135c8-3579-457c-915c-0a0505ead3e3",
   "metadata": {},
   "outputs": [],
   "source": [
    "from torchtext.data import Field, TabularDataset, BucketIterator\n",
    "import spacy"
   ]
  },
  {
   "cell_type": "code",
   "execution_count": 55,
   "id": "3c7a2e16-6edb-4afb-8b49-2d66a5696651",
   "metadata": {},
   "outputs": [
    {
     "name": "stdout",
     "output_type": "stream",
     "text": [
      "Collecting en-core-web-sm==3.0.0\n",
      "  Downloading https://github.com/explosion/spacy-models/releases/download/en_core_web_sm-3.0.0/en_core_web_sm-3.0.0-py3-none-any.whl (13.7 MB)\n",
      "Requirement already satisfied: spacy<3.1.0,>=3.0.0 in e:\\anaconda\\envs\\ai\\lib\\site-packages (from en-core-web-sm==3.0.0) (3.0.6)\n",
      "Requirement already satisfied: wasabi<1.1.0,>=0.8.1 in e:\\anaconda\\envs\\ai\\lib\\site-packages (from spacy<3.1.0,>=3.0.0->en-core-web-sm==3.0.0) (0.8.2)\n",
      "Requirement already satisfied: thinc<8.1.0,>=8.0.3 in e:\\anaconda\\envs\\ai\\lib\\site-packages (from spacy<3.1.0,>=3.0.0->en-core-web-sm==3.0.0) (8.0.3)\n",
      "Requirement already satisfied: tqdm<5.0.0,>=4.38.0 in e:\\anaconda\\envs\\ai\\lib\\site-packages (from spacy<3.1.0,>=3.0.0->en-core-web-sm==3.0.0) (4.59.0)\n",
      "Requirement already satisfied: murmurhash<1.1.0,>=0.28.0 in e:\\anaconda\\envs\\ai\\lib\\site-packages (from spacy<3.1.0,>=3.0.0->en-core-web-sm==3.0.0) (1.0.5)\n",
      "Requirement already satisfied: jinja2 in e:\\anaconda\\envs\\ai\\lib\\site-packages (from spacy<3.1.0,>=3.0.0->en-core-web-sm==3.0.0) (2.11.3)\n",
      "Requirement already satisfied: packaging>=20.0 in e:\\anaconda\\envs\\ai\\lib\\site-packages (from spacy<3.1.0,>=3.0.0->en-core-web-sm==3.0.0) (20.9)\n",
      "Requirement already satisfied: pathy>=0.3.5 in e:\\anaconda\\envs\\ai\\lib\\site-packages (from spacy<3.1.0,>=3.0.0->en-core-web-sm==3.0.0) (0.5.2)\n",
      "Requirement already satisfied: cymem<2.1.0,>=2.0.2 in e:\\anaconda\\envs\\ai\\lib\\site-packages (from spacy<3.1.0,>=3.0.0->en-core-web-sm==3.0.0) (2.0.5)\n",
      "Requirement already satisfied: pydantic<1.8.0,>=1.7.1 in e:\\anaconda\\envs\\ai\\lib\\site-packages (from spacy<3.1.0,>=3.0.0->en-core-web-sm==3.0.0) (1.7.3)\n",
      "Requirement already satisfied: preshed<3.1.0,>=3.0.2 in e:\\anaconda\\envs\\ai\\lib\\site-packages (from spacy<3.1.0,>=3.0.0->en-core-web-sm==3.0.0) (3.0.5)\n",
      "Requirement already satisfied: blis<0.8.0,>=0.4.0 in e:\\anaconda\\envs\\ai\\lib\\site-packages (from spacy<3.1.0,>=3.0.0->en-core-web-sm==3.0.0) (0.7.4)\n",
      "Requirement already satisfied: requests<3.0.0,>=2.13.0 in e:\\anaconda\\envs\\ai\\lib\\site-packages (from spacy<3.1.0,>=3.0.0->en-core-web-sm==3.0.0) (2.25.1)\n",
      "Requirement already satisfied: catalogue<2.1.0,>=2.0.3 in e:\\anaconda\\envs\\ai\\lib\\site-packages (from spacy<3.1.0,>=3.0.0->en-core-web-sm==3.0.0) (2.0.4)\n",
      "Requirement already satisfied: numpy>=1.15.0 in e:\\anaconda\\envs\\ai\\lib\\site-packages (from spacy<3.1.0,>=3.0.0->en-core-web-sm==3.0.0) (1.19.2)\n",
      "Requirement already satisfied: spacy-legacy<3.1.0,>=3.0.4 in e:\\anaconda\\envs\\ai\\lib\\site-packages (from spacy<3.1.0,>=3.0.0->en-core-web-sm==3.0.0) (3.0.5)\n",
      "Requirement already satisfied: typer<0.4.0,>=0.3.0 in e:\\anaconda\\envs\\ai\\lib\\site-packages (from spacy<3.1.0,>=3.0.0->en-core-web-sm==3.0.0) (0.3.2)\n",
      "Requirement already satisfied: setuptools in e:\\anaconda\\envs\\ai\\lib\\site-packages (from spacy<3.1.0,>=3.0.0->en-core-web-sm==3.0.0) (51.0.0.post20201207)\n",
      "Requirement already satisfied: srsly<3.0.0,>=2.4.1 in e:\\anaconda\\envs\\ai\\lib\\site-packages (from spacy<3.1.0,>=3.0.0->en-core-web-sm==3.0.0) (2.4.1)\n",
      "Requirement already satisfied: pyparsing>=2.0.2 in e:\\anaconda\\envs\\ai\\lib\\site-packages (from packaging>=20.0->spacy<3.1.0,>=3.0.0->en-core-web-sm==3.0.0) (2.4.7)\n",
      "Requirement already satisfied: smart-open<4.0.0,>=2.2.0 in e:\\anaconda\\envs\\ai\\lib\\site-packages (from pathy>=0.3.5->spacy<3.1.0,>=3.0.0->en-core-web-sm==3.0.0) (3.0.0)\n",
      "Requirement already satisfied: urllib3<1.27,>=1.21.1 in e:\\anaconda\\envs\\ai\\lib\\site-packages (from requests<3.0.0,>=2.13.0->spacy<3.1.0,>=3.0.0->en-core-web-sm==3.0.0) (1.26.4)\n",
      "Requirement already satisfied: idna<3,>=2.5 in e:\\anaconda\\envs\\ai\\lib\\site-packages (from requests<3.0.0,>=2.13.0->spacy<3.1.0,>=3.0.0->en-core-web-sm==3.0.0) (2.10)\n",
      "Requirement already satisfied: certifi>=2017.4.17 in e:\\anaconda\\envs\\ai\\lib\\site-packages (from requests<3.0.0,>=2.13.0->spacy<3.1.0,>=3.0.0->en-core-web-sm==3.0.0) (2020.12.5)\n",
      "Requirement already satisfied: chardet<5,>=3.0.2 in e:\\anaconda\\envs\\ai\\lib\\site-packages (from requests<3.0.0,>=2.13.0->spacy<3.1.0,>=3.0.0->en-core-web-sm==3.0.0) (4.0.0)\n",
      "Requirement already satisfied: click<7.2.0,>=7.1.1 in e:\\anaconda\\envs\\ai\\lib\\site-packages (from typer<0.4.0,>=0.3.0->spacy<3.1.0,>=3.0.0->en-core-web-sm==3.0.0) (7.1.2)\n",
      "Requirement already satisfied: MarkupSafe>=0.23 in e:\\anaconda\\envs\\ai\\lib\\site-packages (from jinja2->spacy<3.1.0,>=3.0.0->en-core-web-sm==3.0.0) (1.1.1)\n",
      "Installing collected packages: en-core-web-sm\n",
      "Successfully installed en-core-web-sm-3.0.0\n",
      "[!] As of spaCy v3.0, shortcuts like 'en' are deprecated. Please use the full\n",
      "pipeline package name 'en_core_web_sm' instead.\n",
      "[+] Download and installation successful\n",
      "You can now load the package via spacy.load('en_core_web_sm')\n"
     ]
    }
   ],
   "source": [
    "!python -m spacy download en "
   ]
  },
  {
   "cell_type": "code",
   "execution_count": null,
   "id": "5302bf16-a24e-48f1-9fe7-07a46c2418c6",
   "metadata": {},
   "outputs": [],
   "source": []
  },
  {
   "cell_type": "code",
   "execution_count": 57,
   "id": "4208df22-7d31-4920-852a-b4e6e40150fa",
   "metadata": {},
   "outputs": [],
   "source": [
    "# build a tokenizer with tokenizer\n",
    "spacy_en = spacy.load('en_core_web_sm')    "
   ]
  },
  {
   "cell_type": "code",
   "execution_count": 58,
   "id": "8d286579-448a-4ece-9470-549b95898985",
   "metadata": {},
   "outputs": [],
   "source": [
    "def tokenize(text):\n",
    "    return [tok.text for tok in spacy_en.tokenizer(text)]"
   ]
  },
  {
   "cell_type": "code",
   "execution_count": 59,
   "id": "2a8b89f5-bc4c-4432-847f-2dca597d6f13",
   "metadata": {},
   "outputs": [],
   "source": [
    "quote = Field(sequential=True, use_vocab=True, tokenize=tokenize, lower=True)\n",
    "score = Field(sequential=False, use_vocab=True)"
   ]
  },
  {
   "cell_type": "code",
   "execution_count": 60,
   "id": "ce7d97f8-a70e-4bbe-b8ff-6c7a9a73e44f",
   "metadata": {},
   "outputs": [],
   "source": [
    "fields = {'quote': ('q', quote), 'score':('s', score)}"
   ]
  },
  {
   "cell_type": "code",
   "execution_count": 61,
   "id": "758c460a-7eef-4287-afdb-5668c2de73ae",
   "metadata": {},
   "outputs": [],
   "source": [
    "train_data, test_data = TabularDataset.splits(\n",
    "                                            path='./mydata',\n",
    "                                            train='train.json',\n",
    "                                            test='test.json',\n",
    "                                            format='json',\n",
    "                                            fields=fields)"
   ]
  },
  {
   "cell_type": "code",
   "execution_count": null,
   "id": "954c714a-46b7-41f5-99c0-56936a8c1692",
   "metadata": {},
   "outputs": [],
   "source": []
  },
  {
   "cell_type": "code",
   "execution_count": 62,
   "id": "f990ab88-0310-4447-a381-2a9ab669866e",
   "metadata": {},
   "outputs": [],
   "source": [
    "quote.build_vocab(train_data, max_size=10000, min_freq=1)"
   ]
  },
  {
   "cell_type": "code",
   "execution_count": 63,
   "id": "644f1d2c-5c1e-4ec3-8947-5ed8b4862b9b",
   "metadata": {},
   "outputs": [],
   "source": [
    "score.build_vocab(train_data)"
   ]
  },
  {
   "cell_type": "code",
   "execution_count": 64,
   "id": "7feb918a-bb5d-4e15-97ce-4f6fa42a1898",
   "metadata": {},
   "outputs": [
    {
     "name": "stdout",
     "output_type": "stream",
     "text": [
      "hello\n"
     ]
    }
   ],
   "source": [
    "print('hello')"
   ]
  },
  {
   "cell_type": "code",
   "execution_count": 65,
   "id": "7da8a158-4f1e-4539-ab05-fcd0d9c9aba4",
   "metadata": {},
   "outputs": [],
   "source": [
    "train_iterator, test_iterator = BucketIterator.splits((train_data, test_data), batch_size=2, device='cuda', sort=False)"
   ]
  },
  {
   "cell_type": "code",
   "execution_count": 66,
   "id": "34bcaf97-d530-4528-9be9-09592d7fe370",
   "metadata": {},
   "outputs": [
    {
     "name": "stdout",
     "output_type": "stream",
     "text": [
      "tensor([[14],\n",
      "        [25],\n",
      "        [ 7],\n",
      "        [ 5],\n",
      "        [10],\n",
      "        [15],\n",
      "        [21],\n",
      "        [ 3],\n",
      "        [ 7],\n",
      "        [ 5],\n",
      "        [32],\n",
      "        [30],\n",
      "        [ 8],\n",
      "        [17],\n",
      "        [ 4],\n",
      "        [13],\n",
      "        [ 6],\n",
      "        [ 2]], device='cuda:0')\n",
      "tensor([[29, 35],\n",
      "        [31, 23],\n",
      "        [ 3, 26],\n",
      "        [11, 18],\n",
      "        [28, 19],\n",
      "        [22, 36],\n",
      "        [ 4, 34],\n",
      "        [27,  2],\n",
      "        [ 9, 33],\n",
      "        [ 1, 20],\n",
      "        [ 1, 24],\n",
      "        [ 1,  6],\n",
      "        [ 1, 16],\n",
      "        [ 1,  8],\n",
      "        [ 1, 12],\n",
      "        [ 1,  2]], device='cuda:0')\n"
     ]
    }
   ],
   "source": [
    "for batch in train_iterator:\n",
    "    print(batch.q)"
   ]
  },
  {
   "cell_type": "code",
   "execution_count": 67,
   "id": "cd356ec8-23e8-43d1-854b-9d427ecca1f6",
   "metadata": {},
   "outputs": [
    {
     "name": "stdout",
     "output_type": "stream",
     "text": [
      "tensor([[35, 14],\n",
      "        [23, 25],\n",
      "        [26,  7],\n",
      "        [18,  5],\n",
      "        [19, 10],\n",
      "        [36, 15],\n",
      "        [34, 21],\n",
      "        [ 2,  3],\n",
      "        [33,  7],\n",
      "        [20,  5],\n",
      "        [24, 32],\n",
      "        [ 6, 30],\n",
      "        [16,  8],\n",
      "        [ 8, 17],\n",
      "        [12,  4],\n",
      "        [ 2, 13],\n",
      "        [ 1,  6],\n",
      "        [ 1,  2]], device='cuda:0')\n",
      "\n",
      "tensor([1, 1], device='cuda:0')\n"
     ]
    }
   ],
   "source": [
    "batch = next(iter(test_iterator))\n",
    "\n",
    "print(batch.q)\n",
    "print()\n",
    "print(batch.s)"
   ]
  },
  {
   "cell_type": "code",
   "execution_count": 31,
   "id": "77b37cd7-ef38-4ee9-a340-32a93c339b02",
   "metadata": {},
   "outputs": [
    {
     "data": {
      "text/plain": [
       "<torchtext.data.iterator.BucketIterator at 0x16a13e17820>"
      ]
     },
     "execution_count": 31,
     "metadata": {},
     "output_type": "execute_result"
    }
   ],
   "source": []
  },
  {
   "cell_type": "code",
   "execution_count": null,
   "id": "5958e3f1-6fcf-4932-bebc-3ff423c0fff7",
   "metadata": {},
   "outputs": [],
   "source": []
  }
 ],
 "metadata": {
  "kernelspec": {
   "display_name": "Python 3",
   "language": "python",
   "name": "python3"
  },
  "language_info": {
   "codemirror_mode": {
    "name": "ipython",
    "version": 3
   },
   "file_extension": ".py",
   "mimetype": "text/x-python",
   "name": "python",
   "nbconvert_exporter": "python",
   "pygments_lexer": "ipython3",
   "version": "3.8.5"
  }
 },
 "nbformat": 4,
 "nbformat_minor": 5
}
