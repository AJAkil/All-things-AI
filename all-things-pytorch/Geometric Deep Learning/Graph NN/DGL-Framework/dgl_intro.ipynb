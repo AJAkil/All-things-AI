{
  "nbformat": 4,
  "nbformat_minor": 0,
  "metadata": {
    "colab": {
      "name": "dgl-intro.ipynb",
      "provenance": []
    },
    "kernelspec": {
      "name": "python3",
      "display_name": "Python 3"
    },
    "language_info": {
      "name": "python"
    },
    "accelerator": "GPU"
  },
  "cells": [
    {
      "cell_type": "code",
      "metadata": {
        "colab": {
          "base_uri": "https://localhost:8080/"
        },
        "id": "o_Vejd_4G7rZ",
        "outputId": "a818b815-67cd-491d-92da-a0241d0609e4"
      },
      "source": [
        "!conda install -c dglteam dgl-cuda10.1\n",
        "!pip install dgl-cu101"
      ],
      "execution_count": 6,
      "outputs": [
        {
          "output_type": "stream",
          "text": [
            "/bin/bash: conda: command not found\n",
            "Collecting dgl-cu101\n",
            "\u001b[?25l  Downloading https://files.pythonhosted.org/packages/34/42/f2b5c0a2ba070599b06981698fd5b302bd081c4d0257b6f84cb2c196886a/dgl_cu101-0.6.1-cp37-cp37m-manylinux1_x86_64.whl (36.2MB)\n",
            "\u001b[K     |████████████████████████████████| 36.2MB 79kB/s \n",
            "\u001b[?25hRequirement already satisfied: networkx>=2.1 in /usr/local/lib/python3.7/dist-packages (from dgl-cu101) (2.5.1)\n",
            "Requirement already satisfied: numpy>=1.14.0 in /usr/local/lib/python3.7/dist-packages (from dgl-cu101) (1.19.5)\n",
            "Requirement already satisfied: requests>=2.19.0 in /usr/local/lib/python3.7/dist-packages (from dgl-cu101) (2.23.0)\n",
            "Requirement already satisfied: scipy>=1.1.0 in /usr/local/lib/python3.7/dist-packages (from dgl-cu101) (1.4.1)\n",
            "Requirement already satisfied: decorator<5,>=4.3 in /usr/local/lib/python3.7/dist-packages (from networkx>=2.1->dgl-cu101) (4.4.2)\n",
            "Requirement already satisfied: chardet<4,>=3.0.2 in /usr/local/lib/python3.7/dist-packages (from requests>=2.19.0->dgl-cu101) (3.0.4)\n",
            "Requirement already satisfied: urllib3!=1.25.0,!=1.25.1,<1.26,>=1.21.1 in /usr/local/lib/python3.7/dist-packages (from requests>=2.19.0->dgl-cu101) (1.24.3)\n",
            "Requirement already satisfied: idna<3,>=2.5 in /usr/local/lib/python3.7/dist-packages (from requests>=2.19.0->dgl-cu101) (2.10)\n",
            "Requirement already satisfied: certifi>=2017.4.17 in /usr/local/lib/python3.7/dist-packages (from requests>=2.19.0->dgl-cu101) (2020.12.5)\n",
            "Installing collected packages: dgl-cu101\n",
            "Successfully installed dgl-cu101-0.6.1\n"
          ],
          "name": "stdout"
        }
      ]
    },
    {
      "cell_type": "code",
      "metadata": {
        "colab": {
          "base_uri": "https://localhost:8080/"
        },
        "id": "u67BNpSZ_sWG",
        "outputId": "eb06d54b-939e-4af0-8bbc-494af82db3be"
      },
      "source": [
        "import dgl\n",
        "import torch\n",
        "import torch.nn as nn\n",
        "import torch.nn.functional as F"
      ],
      "execution_count": 7,
      "outputs": [
        {
          "output_type": "stream",
          "text": [
            "DGL backend not selected or invalid.  Assuming PyTorch for now.\n"
          ],
          "name": "stderr"
        },
        {
          "output_type": "stream",
          "text": [
            "Setting the default backend to \"pytorch\". You can change it in the ~/.dgl/config.json file or export the DGLBACKEND environment variable.  Valid options are: pytorch, mxnet, tensorflow (all lowercase)\n"
          ],
          "name": "stdout"
        },
        {
          "output_type": "stream",
          "text": [
            "Using backend: pytorch\n"
          ],
          "name": "stderr"
        }
      ]
    },
    {
      "cell_type": "code",
      "metadata": {
        "colab": {
          "base_uri": "https://localhost:8080/"
        },
        "id": "XBMpKV2AAAzP",
        "outputId": "33ebe1b7-c0d9-4408-d4eb-4f2115e29ac4"
      },
      "source": [
        "import dgl.data\n",
        "\n",
        "dataset = dgl.data.CoraGraphDataset()\n",
        "print('Number of categories: ', dataset.num_classes)"
      ],
      "execution_count": 8,
      "outputs": [
        {
          "output_type": "stream",
          "text": [
            "Downloading /root/.dgl/cora_v2.zip from https://data.dgl.ai/dataset/cora_v2.zip...\n",
            "Extracting file to /root/.dgl/cora_v2\n",
            "Finished data loading and preprocessing.\n",
            "  NumNodes: 2708\n",
            "  NumEdges: 10556\n",
            "  NumFeats: 1433\n",
            "  NumClasses: 7\n",
            "  NumTrainingSamples: 140\n",
            "  NumValidationSamples: 500\n",
            "  NumTestSamples: 1000\n",
            "Done saving data into cached files.\n",
            "Number of categories:  7\n"
          ],
          "name": "stdout"
        }
      ]
    },
    {
      "cell_type": "code",
      "metadata": {
        "id": "P6h2lFE-A25L"
      },
      "source": [
        "g = dataset[0]"
      ],
      "execution_count": 9,
      "outputs": []
    },
    {
      "cell_type": "code",
      "metadata": {
        "colab": {
          "base_uri": "https://localhost:8080/"
        },
        "id": "iX-tGYD7BAyu",
        "outputId": "6207a925-9853-40de-e623-76b846c988bd"
      },
      "source": [
        "print('Node Features: ',g.ndata)\n",
        "print(\"Edge Features: \", g.edata)"
      ],
      "execution_count": 10,
      "outputs": [
        {
          "output_type": "stream",
          "text": [
            "Node Features:  {'train_mask': tensor([ True,  True,  True,  ..., False, False, False]), 'val_mask': tensor([False, False, False,  ..., False, False, False]), 'test_mask': tensor([False, False, False,  ...,  True,  True,  True]), 'label': tensor([3, 4, 4,  ..., 3, 3, 3]), 'feat': tensor([[0., 0., 0.,  ..., 0., 0., 0.],\n",
            "        [0., 0., 0.,  ..., 0., 0., 0.],\n",
            "        [0., 0., 0.,  ..., 0., 0., 0.],\n",
            "        ...,\n",
            "        [0., 0., 0.,  ..., 0., 0., 0.],\n",
            "        [0., 0., 0.,  ..., 0., 0., 0.],\n",
            "        [0., 0., 0.,  ..., 0., 0., 0.]])}\n",
            "Edge Features:  {}\n"
          ],
          "name": "stdout"
        }
      ]
    },
    {
      "cell_type": "code",
      "metadata": {
        "colab": {
          "base_uri": "https://localhost:8080/"
        },
        "id": "EGdWG37pBaVV",
        "outputId": "51a1dec9-5540-4a54-ccaa-839e09a4f838"
      },
      "source": [
        "g.ndata['label'].shape"
      ],
      "execution_count": 23,
      "outputs": [
        {
          "output_type": "execute_result",
          "data": {
            "text/plain": [
              "torch.Size([2708])"
            ]
          },
          "metadata": {
            "tags": []
          },
          "execution_count": 23
        }
      ]
    },
    {
      "cell_type": "code",
      "metadata": {
        "id": "S7AAAuloCUSc"
      },
      "source": [
        "from dgl.nn import GraphConv\n",
        "\n",
        "class GCN(nn.Module):\n",
        "  def __init__(self, in_feats, h_feats, num_classes):\n",
        "    super(GCN, self).__init__()\n",
        "    self.conv1 = GraphConv(in_feats, h_feats)\n",
        "    self.conv2 = GraphConv(h_feats, num_classes)\n",
        "\n",
        "  def forward(self, g, in_feat):\n",
        "    h = F.relu(self.conv1(g, in_feat))\n",
        "    h = self.conv2(g, h)\n",
        "    return h"
      ],
      "execution_count": 39,
      "outputs": []
    },
    {
      "cell_type": "code",
      "metadata": {
        "id": "BmnvsSUdEMTa"
      },
      "source": [
        "# create the model\n",
        "model = GCN(g.ndata['feat'].shape[1], 16, dataset.num_classes)"
      ],
      "execution_count": 40,
      "outputs": []
    },
    {
      "cell_type": "code",
      "metadata": {
        "id": "cYYqZJqLEYJK"
      },
      "source": [
        "optimizer = torch.optim.Adam(model.parameters(), lr=0.01)\n",
        "criterion = nn.CrossEntropyLoss()"
      ],
      "execution_count": 41,
      "outputs": []
    },
    {
      "cell_type": "code",
      "metadata": {
        "id": "ZrRRynEiFAvl"
      },
      "source": [
        "def train(g, model):\n",
        "    optimizer = torch.optim.Adam(model.parameters(), lr=0.01)\n",
        "    best_val_acc = 0\n",
        "    best_test_acc = 0\n",
        "\n",
        "    features = g.ndata['feat']\n",
        "    labels = g.ndata['label']\n",
        "    train_mask = g.ndata['train_mask']\n",
        "    val_mask = g.ndata['val_mask']\n",
        "    test_mask = g.ndata['test_mask']\n",
        "\n",
        "\n",
        "    for e in range(150):\n",
        "        # Forward\n",
        "        logits = model(g, features)\n",
        "\n",
        "        # Compute prediction\n",
        "        pred = logits.argmax(1)\n",
        "\n",
        "        # Compute loss\n",
        "        # Note that you should only compute the losses of the nodes in the training set.\n",
        "        loss = criterion(logits[train_mask], labels[train_mask])\n",
        "\n",
        "        # Compute accuracy on training/validation/test\n",
        "        train_acc = (pred[train_mask] == labels[train_mask]).float().mean()\n",
        "        val_acc = (pred[val_mask] == labels[val_mask]).float().mean()\n",
        "        test_acc = (pred[test_mask] == labels[test_mask]).float().mean()\n",
        "\n",
        "        # Save the best validation accuracy and the corresponding test accuracy.\n",
        "        if best_val_acc < val_acc:\n",
        "            best_val_acc = val_acc\n",
        "            best_test_acc = test_acc\n",
        "\n",
        "        # Backward\n",
        "        optimizer.zero_grad()\n",
        "        loss.backward()\n",
        "        optimizer.step()\n",
        "\n",
        "        if e % 5 == 0:\n",
        "            print('In epoch {}, loss: {:.3f}, val acc: {:.3f} (best {:.3f}), test acc: {:.3f} (best {:.3f})'.format(\n",
        "                e, loss, val_acc, best_val_acc, test_acc, best_test_acc))"
      ],
      "execution_count": 54,
      "outputs": []
    },
    {
      "cell_type": "code",
      "metadata": {
        "colab": {
          "base_uri": "https://localhost:8080/"
        },
        "id": "gXkGZZFJGm9X",
        "outputId": "6d39216b-942e-462b-a9b9-2bf7e68b0e20"
      },
      "source": [
        "g = g.to('cuda')\n",
        "model = GCN(g.ndata['feat'].shape[1], 16, dataset.num_classes).to('cuda')\n",
        "train(g, model)"
      ],
      "execution_count": 55,
      "outputs": [
        {
          "output_type": "stream",
          "text": [
            "In epoch 0, loss: 1.946, val acc: 0.158 (best 0.158), test acc: 0.125 (best 0.125)\n",
            "In epoch 5, loss: 1.886, val acc: 0.430 (best 0.444), test acc: 0.424 (best 0.438)\n",
            "In epoch 10, loss: 1.801, val acc: 0.468 (best 0.468), test acc: 0.462 (best 0.462)\n",
            "In epoch 15, loss: 1.692, val acc: 0.588 (best 0.588), test acc: 0.589 (best 0.589)\n",
            "In epoch 20, loss: 1.560, val acc: 0.658 (best 0.658), test acc: 0.674 (best 0.674)\n",
            "In epoch 25, loss: 1.409, val acc: 0.682 (best 0.682), test acc: 0.700 (best 0.700)\n",
            "In epoch 30, loss: 1.243, val acc: 0.714 (best 0.714), test acc: 0.732 (best 0.732)\n",
            "In epoch 35, loss: 1.069, val acc: 0.730 (best 0.730), test acc: 0.747 (best 0.744)\n",
            "In epoch 40, loss: 0.897, val acc: 0.754 (best 0.754), test acc: 0.760 (best 0.760)\n",
            "In epoch 45, loss: 0.737, val acc: 0.768 (best 0.768), test acc: 0.768 (best 0.768)\n",
            "In epoch 50, loss: 0.595, val acc: 0.772 (best 0.772), test acc: 0.768 (best 0.770)\n",
            "In epoch 55, loss: 0.476, val acc: 0.778 (best 0.778), test acc: 0.767 (best 0.768)\n",
            "In epoch 60, loss: 0.379, val acc: 0.778 (best 0.780), test acc: 0.771 (best 0.767)\n",
            "In epoch 65, loss: 0.303, val acc: 0.778 (best 0.780), test acc: 0.777 (best 0.767)\n",
            "In epoch 70, loss: 0.244, val acc: 0.774 (best 0.780), test acc: 0.780 (best 0.767)\n",
            "In epoch 75, loss: 0.199, val acc: 0.772 (best 0.780), test acc: 0.776 (best 0.767)\n",
            "In epoch 80, loss: 0.163, val acc: 0.766 (best 0.780), test acc: 0.775 (best 0.767)\n",
            "In epoch 85, loss: 0.136, val acc: 0.776 (best 0.780), test acc: 0.774 (best 0.767)\n",
            "In epoch 90, loss: 0.114, val acc: 0.776 (best 0.780), test acc: 0.774 (best 0.767)\n",
            "In epoch 95, loss: 0.098, val acc: 0.776 (best 0.780), test acc: 0.773 (best 0.767)\n",
            "In epoch 100, loss: 0.084, val acc: 0.778 (best 0.780), test acc: 0.771 (best 0.767)\n",
            "In epoch 105, loss: 0.073, val acc: 0.778 (best 0.780), test acc: 0.768 (best 0.767)\n",
            "In epoch 110, loss: 0.064, val acc: 0.780 (best 0.780), test acc: 0.764 (best 0.767)\n",
            "In epoch 115, loss: 0.057, val acc: 0.778 (best 0.780), test acc: 0.762 (best 0.767)\n",
            "In epoch 120, loss: 0.051, val acc: 0.774 (best 0.780), test acc: 0.761 (best 0.767)\n",
            "In epoch 125, loss: 0.046, val acc: 0.776 (best 0.780), test acc: 0.758 (best 0.767)\n",
            "In epoch 130, loss: 0.041, val acc: 0.776 (best 0.780), test acc: 0.757 (best 0.767)\n",
            "In epoch 135, loss: 0.038, val acc: 0.778 (best 0.780), test acc: 0.756 (best 0.767)\n",
            "In epoch 140, loss: 0.035, val acc: 0.778 (best 0.780), test acc: 0.755 (best 0.767)\n",
            "In epoch 145, loss: 0.032, val acc: 0.778 (best 0.780), test acc: 0.755 (best 0.767)\n"
          ],
          "name": "stdout"
        }
      ]
    },
    {
      "cell_type": "code",
      "metadata": {
        "id": "PPgv3t0MGpIr"
      },
      "source": [
        ""
      ],
      "execution_count": null,
      "outputs": []
    }
  ]
}