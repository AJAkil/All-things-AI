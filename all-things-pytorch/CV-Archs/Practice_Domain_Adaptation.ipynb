{
  "cells": [
    {
      "cell_type": "markdown",
      "metadata": {
        "colab_type": "text",
        "id": "view-in-github"
      },
      "source": [
        "<a href=\"https://colab.research.google.com/github/AJAkil/All-things-AI/blob/master/Practice_Domain_Adaptation.ipynb\" target=\"_parent\"><img src=\"https://colab.research.google.com/assets/colab-badge.svg\" alt=\"Open In Colab\"/></a>"
      ]
    },
    {
      "cell_type": "code",
      "execution_count": null,
      "metadata": {
        "colab": {
          "base_uri": "https://localhost:8080/"
        },
        "id": "ceZ5mVjirtop",
        "outputId": "b3b70318-c5d1-47d2-fb67-af93e3b1ebe1"
      },
      "outputs": [
        {
          "name": "stdout",
          "output_type": "stream",
          "text": [
            "Populating the interactive namespace from numpy and matplotlib\n"
          ]
        }
      ],
      "source": [
        "%pylab inline"
      ]
    },
    {
      "cell_type": "code",
      "execution_count": null,
      "metadata": {
        "id": "YSwilZszr1zm"
      },
      "outputs": [],
      "source": [
        "import pickle\n",
        "import math\n",
        "\n",
        "import numpy as np\n",
        "import torch\n",
        "from torch import nn\n",
        "from torch.nn import functional as F\n",
        "from torch.utils.data import DataLoader\n",
        "from torchvision.datasets import ImageFolder\n",
        "from torchvision import transforms\n",
        "import torchvision\n",
        "from PIL import Image\n",
        "import matplotlib.pyplot as plt\n"
      ]
    },
    {
      "cell_type": "code",
      "execution_count": null,
      "metadata": {
        "colab": {
          "base_uri": "https://localhost:8080/"
        },
        "id": "eDJ8vGXIr3F0",
        "outputId": "8b5cd0b8-9e48-48ca-eb23-9ab767b9dc8e"
      },
      "outputs": [
        {
          "name": "stdout",
          "output_type": "stream",
          "text": [
            "--2023-02-16 11:43:41--  https://raw.githubusercontent.com/arthurdouillard/deepcourse/master/static/code/da/mnistm.py\n",
            "Resolving raw.githubusercontent.com (raw.githubusercontent.com)... 185.199.108.133, 185.199.111.133, 185.199.110.133, ...\n",
            "Connecting to raw.githubusercontent.com (raw.githubusercontent.com)|185.199.108.133|:443... connected.\n",
            "HTTP request sent, awaiting response... 200 OK\n",
            "Length: 2659 (2.6K) [text/plain]\n",
            "Saving to: ‘mnistm.py’\n",
            "\n",
            "\rmnistm.py             0%[                    ]       0  --.-KB/s               \rmnistm.py           100%[===================>]   2.60K  --.-KB/s    in 0s      \n",
            "\n",
            "2023-02-16 11:43:42 (53.3 MB/s) - ‘mnistm.py’ saved [2659/2659]\n",
            "\n"
          ]
        }
      ],
      "source": [
        "!wget https://raw.githubusercontent.com/arthurdouillard/deepcourse/master/static/code/da/mnistm.py"
      ]
    },
    {
      "cell_type": "code",
      "execution_count": null,
      "metadata": {
        "colab": {
          "base_uri": "https://localhost:8080/",
          "height": 686,
          "referenced_widgets": [
            "2f80f4a9ce87498cacfc10816aee4f4d",
            "f45150ef52de4a89a48699427b35ac01",
            "2ac8461a946049cdb500ca6610407e0d",
            "aff0ae8dc3b04f918b95f7c00cef8f3e",
            "5cfb7cdd2fd04b76a5e9f9959f6d045d",
            "af1219cab2264e1f90ba994cae276f14",
            "4c085ea539ad462caf7f19fe8621a29a",
            "f65e7ecce593428f8501331c266cf55a",
            "3009c1cccd1340cebfe542178cbf5b67",
            "95ee22912c4042d294888c0ab07ff902",
            "e7743bd1602d41c2b0e199c1b673895a",
            "fb42f877e30f4191a5fd73ebff809c0a",
            "2baf867c74684a668949157f860d787f",
            "5fa711f977be4cb4bff6f05ed34f1107",
            "1253e590ac1c48caaf352806b6945636",
            "eaf9a51d40334de0a71a14fc0fdc95f0",
            "8ca9b9f721744b2a81a5324a1f2b7979",
            "606bf0dd633747f49e771964e6ebb13b",
            "a31e22ff32a64f06836e55ef8db5333f",
            "77f82f8fc38f4bc98110170f7c0d7a47",
            "d7eea7f097134ec0bb1a8b4c8675ea84",
            "e29b42787dec41dbbb0429f980a6e97f",
            "6e5068e743b04183a885ef9717602fe5",
            "aa1aa049e531400d837dff1696c85e27",
            "4bbc2954c731447f8e542c77efe35dc8",
            "ec139f8334a145d1bebc8c0e1fac43cb",
            "0c150c7b88314fd79ec09b2924057619",
            "891fb2b30fcc40f09f372d74dce1f454",
            "22b6fe53bda2415e892c25de5c71b30c",
            "d6f46c21255f4984aeabf3c4e48b3916",
            "73509aa8f4464070913f7e595808d8f2",
            "770056e87b7a47c4abd12e90200f40d7",
            "e3724371bbd442da88d7edaf44beddd2",
            "06447ecce48e44c29e229e108c36da30",
            "43ce0cf768254b30bb2480690f4c679b",
            "239a3b2ef5d04307afdb0cb67b29fb4c",
            "6a6ff67ce3a44b6bba544e74c6fa47b2",
            "6dacbffb3c06435f9567120308bbe494",
            "ca5fbab5863540b797f897fd5f4edc26",
            "6602edb978ee4a7aa956af740871316e",
            "ccf8ae894d6e462681e228e85e6ebab0",
            "2c70513d61514119941b31794b9f8456",
            "0c0e062491574974842b74aa76a4aa73",
            "a8618df3eac4463aa55d5298346af057"
          ]
        },
        "id": "trKlYnqEsmGk",
        "outputId": "2bbbd965-7e58-426c-84d3-89163894be98"
      },
      "outputs": [
        {
          "name": "stdout",
          "output_type": "stream",
          "text": [
            "Creating MNIST-M... That may takes a minute\n",
            "Loading BSR training images\n",
            "Downloading http://yann.lecun.com/exdb/mnist/train-images-idx3-ubyte.gz\n",
            "Downloading http://yann.lecun.com/exdb/mnist/train-images-idx3-ubyte.gz to ./MNIST/raw/train-images-idx3-ubyte.gz\n"
          ]
        },
        {
          "data": {
            "application/vnd.jupyter.widget-view+json": {
              "model_id": "2f80f4a9ce87498cacfc10816aee4f4d",
              "version_major": 2,
              "version_minor": 0
            },
            "text/plain": [
              "  0%|          | 0/9912422 [00:00<?, ?it/s]"
            ]
          },
          "metadata": {},
          "output_type": "display_data"
        },
        {
          "name": "stdout",
          "output_type": "stream",
          "text": [
            "Extracting ./MNIST/raw/train-images-idx3-ubyte.gz to ./MNIST/raw\n",
            "\n",
            "Downloading http://yann.lecun.com/exdb/mnist/train-labels-idx1-ubyte.gz\n",
            "Downloading http://yann.lecun.com/exdb/mnist/train-labels-idx1-ubyte.gz to ./MNIST/raw/train-labels-idx1-ubyte.gz\n"
          ]
        },
        {
          "data": {
            "application/vnd.jupyter.widget-view+json": {
              "model_id": "fb42f877e30f4191a5fd73ebff809c0a",
              "version_major": 2,
              "version_minor": 0
            },
            "text/plain": [
              "  0%|          | 0/28881 [00:00<?, ?it/s]"
            ]
          },
          "metadata": {},
          "output_type": "display_data"
        },
        {
          "name": "stdout",
          "output_type": "stream",
          "text": [
            "Extracting ./MNIST/raw/train-labels-idx1-ubyte.gz to ./MNIST/raw\n",
            "\n",
            "Downloading http://yann.lecun.com/exdb/mnist/t10k-images-idx3-ubyte.gz\n",
            "Downloading http://yann.lecun.com/exdb/mnist/t10k-images-idx3-ubyte.gz to ./MNIST/raw/t10k-images-idx3-ubyte.gz\n"
          ]
        },
        {
          "data": {
            "application/vnd.jupyter.widget-view+json": {
              "model_id": "6e5068e743b04183a885ef9717602fe5",
              "version_major": 2,
              "version_minor": 0
            },
            "text/plain": [
              "  0%|          | 0/1648877 [00:00<?, ?it/s]"
            ]
          },
          "metadata": {},
          "output_type": "display_data"
        },
        {
          "name": "stdout",
          "output_type": "stream",
          "text": [
            "Extracting ./MNIST/raw/t10k-images-idx3-ubyte.gz to ./MNIST/raw\n",
            "\n",
            "Downloading http://yann.lecun.com/exdb/mnist/t10k-labels-idx1-ubyte.gz\n",
            "Downloading http://yann.lecun.com/exdb/mnist/t10k-labels-idx1-ubyte.gz to ./MNIST/raw/t10k-labels-idx1-ubyte.gz\n"
          ]
        },
        {
          "data": {
            "application/vnd.jupyter.widget-view+json": {
              "model_id": "06447ecce48e44c29e229e108c36da30",
              "version_major": 2,
              "version_minor": 0
            },
            "text/plain": [
              "  0%|          | 0/4542 [00:00<?, ?it/s]"
            ]
          },
          "metadata": {},
          "output_type": "display_data"
        },
        {
          "name": "stdout",
          "output_type": "stream",
          "text": [
            "Extracting ./MNIST/raw/t10k-labels-idx1-ubyte.gz to ./MNIST/raw\n",
            "\n",
            "Building train set...\n",
            "Processing example 0\n"
          ]
        },
        {
          "name": "stderr",
          "output_type": "stream",
          "text": [
            "/content/mnistm.py:45: VisibleDeprecationWarning: Creating an ndarray from ragged nested sequences (which is a list-or-tuple of lists-or-tuples-or ndarrays with different lengths or shapes) is deprecated. If you meant to do this, you must specify 'dtype=object' when creating the ndarray.\n",
            "  bg_img = rand.choice(background_data)\n"
          ]
        },
        {
          "name": "stdout",
          "output_type": "stream",
          "text": [
            "Processing example 10000\n",
            "Processing example 20000\n",
            "Processing example 30000\n",
            "Processing example 40000\n",
            "Processing example 50000\n",
            "Building test set...\n",
            "Processing example 0\n",
            "Done!\n"
          ]
        }
      ],
      "source": [
        "from mnistm import create_mnistm\n",
        "\n",
        "create_mnistm()"
      ]
    },
    {
      "cell_type": "code",
      "execution_count": null,
      "metadata": {
        "colab": {
          "base_uri": "https://localhost:8080/"
        },
        "id": "ymUPSH2rs7Fw",
        "outputId": "175cb1e6-b150-4e78-f720-7db25e258b71"
      },
      "outputs": [
        {
          "name": "stdout",
          "output_type": "stream",
          "text": [
            "Mean 0.13066047430038452 and Std 0.30810782313346863\n"
          ]
        }
      ],
      "source": [
        "mnist_pixels = torchvision.datasets.MNIST('.', train=True, download=True).data / 255\n",
        "mean = mnist_pixels.mean().item()\n",
        "std = mnist_pixels.std().item()\n",
        "\n",
        "print(f\"Mean {mean} and Std {std}\")\n",
        "mean = torch.tensor([mean, mean, mean])\n",
        "std = torch.tensor([std, std, std])"
      ]
    },
    {
      "cell_type": "code",
      "execution_count": null,
      "metadata": {
        "colab": {
          "base_uri": "https://localhost:8080/"
        },
        "id": "eo-1RJuJwrI0",
        "outputId": "e937859c-d629-4cab-a020-4b10019bad07"
      },
      "outputs": [
        {
          "data": {
            "text/plain": [
              "torch.Size([3, 1, 1])"
            ]
          },
          "execution_count": 6,
          "metadata": {},
          "output_type": "execute_result"
        }
      ],
      "source": [
        "new = mean[:, None, None]\n",
        "new.shape"
      ]
    },
    {
      "cell_type": "code",
      "execution_count": null,
      "metadata": {
        "colab": {
          "base_uri": "https://localhost:8080/"
        },
        "id": "VnebKzN-yFlT",
        "outputId": "8aa90138-c00f-4489-ef78-7ffd643b165a"
      },
      "outputs": [
        {
          "data": {
            "text/plain": [
              "torch.Size([3])"
            ]
          },
          "execution_count": 7,
          "metadata": {},
          "output_type": "execute_result"
        }
      ],
      "source": [
        "mean.shape"
      ]
    },
    {
      "cell_type": "code",
      "execution_count": null,
      "metadata": {
        "id": "FazQ9SvQtaEn"
      },
      "outputs": [],
      "source": [
        "transform = transforms.Compose([\n",
        "    transforms.ToTensor(),\n",
        "    lambda x: x.repeat(3, 1, 1) if x.shape[0] == 1 else x,\n",
        "    transforms.Normalize(mean, std)\n",
        "])\n",
        "\n",
        "mnist_train = torchvision.datasets.MNIST('.', train=True, transform=transform)\n",
        "mnist_test = torchvision.datasets.MNIST('.', train=False, transform=transform)\n",
        "\n",
        "source_train_loader = DataLoader(mnist_train, batch_size=128)\n",
        "source_test_loader = DataLoader(mnist_test, batch_size=128)"
      ]
    },
    {
      "cell_type": "code",
      "execution_count": null,
      "metadata": {
        "colab": {
          "base_uri": "https://localhost:8080/"
        },
        "id": "68lM0Ersuvxj",
        "outputId": "2f028edc-e066-4033-f807-13ac1a2fc0e7"
      },
      "outputs": [
        {
          "name": "stdout",
          "output_type": "stream",
          "text": [
            "torch.Size([3, 28, 28])\n",
            "5\n"
          ]
        }
      ],
      "source": [
        "x,y = mnist_train[0] ## tuple object\n",
        "print(x.shape) # tensor: [3,28,28]\n",
        "print(y) # integer label"
      ]
    },
    {
      "cell_type": "markdown",
      "metadata": {
        "id": "SrLicLHGzfjJ"
      },
      "source": [
        "((x * std[:, None, None] + std[:, None, None]) * 255).permute(1, 2, 0)\n",
        "Here the mean is multiplied with the three channels and then standard deviation is added to the three channels. std[:, None, None] basically unsqueezes and adds new dimensions to the stated places"
      ]
    },
    {
      "cell_type": "code",
      "execution_count": null,
      "metadata": {
        "colab": {
          "base_uri": "https://localhost:8080/",
          "height": 94
        },
        "id": "Xb8s55Igv5cB",
        "outputId": "a990b195-dac9-48ac-89d2-a998424413db"
      },
      "outputs": [
        {
          "data": {
            "image/png": "[encoded data removed]",
            "text/plain": [
              "<Figure size 720x504 with 10 Axes>"
            ]
          },
          "metadata": {
            "needs_background": "light"
          },
          "output_type": "display_data"
        }
      ],
      "source": [
        "## plt.subplot(row, column, index of the subplot)\n",
        "\n",
        "plt.figure(figsize=(10, 7))\n",
        "\n",
        "for i in range(10):\n",
        "  ax = plt.subplot(1, 10, i + 1)\n",
        "  ax.axis('off')\n",
        "\n",
        "  x, y = mnist_train[i]\n",
        "  img = ((x * std[:, None, None] + mean[:, None, None]) * 255).permute(1, 2, 0)\n",
        "  plt.imshow(img.numpy().astype(np.uint8), cmap='gray')\n",
        "  plt.title(y)"
      ]
    },
    {
      "cell_type": "code",
      "execution_count": null,
      "metadata": {
        "id": "sc7IJqaUzW3M"
      },
      "outputs": [],
      "source": [
        "with open('mnistm_data.pkl', 'rb') as f:\n",
        "  mnist_m = pickle.load(f)\n",
        "\n",
        "class MNISTM(torch.utils.data.Dataset):\n",
        "  def __init__(self, x, y, transform):\n",
        "    self.x, self.y = x, y\n",
        "    self.transform = transform\n",
        "  \n",
        "  def __len__(self):\n",
        "    return len(self.x)\n",
        "  \n",
        "  def __getitem__(self, index):\n",
        "    x, y = self.x[index], self.y[index]\n",
        "    x = self.transform(x)\n",
        "\n",
        "    return x, y\n",
        "\n",
        "mnistm_train = MNISTM(mnist_m[\"x_train\"], mnist_m[\"y_train\"], transform)\n",
        "mnistm_test = MNISTM(mnist_m[\"x_test\"], mnist_m[\"y_test\"], transform)\n",
        "\n",
        "target_train_loader = DataLoader(mnistm_train, batch_size=128)\n",
        "target_test_loader = DataLoader(mnistm_test, batch_size=128)\n"
      ]
    },
    {
      "cell_type": "code",
      "execution_count": null,
      "metadata": {
        "colab": {
          "base_uri": "https://localhost:8080/",
          "height": 94
        },
        "id": "5OJWQOb71OdC",
        "outputId": "5a7a9bbe-daef-44ae-88ea-7ccf00d84051"
      },
      "outputs": [
        {
          "data": {
            "image/png": "[encoded data removed]",
            "text/plain": [
              "<Figure size 720x504 with 10 Axes>"
            ]
          },
          "metadata": {
            "needs_background": "light"
          },
          "output_type": "display_data"
        }
      ],
      "source": [
        "## plt.subplot(row, column, index of the subplot)\n",
        "\n",
        "plt.figure(figsize=(10, 7))\n",
        "\n",
        "for i in range(10):\n",
        "  ax = plt.subplot(1, 10, i + 1)\n",
        "  ax.axis('off')\n",
        "\n",
        "  x, y = mnistm_train[i]\n",
        "  img = ((x * std[:, None, None] + mean[:, None, None]) * 255).permute(1, 2, 0)\n",
        "  plt.imshow(img.numpy().astype(np.uint8), )\n",
        "  plt.title(y)"
      ]
    },
    {
      "cell_type": "code",
      "execution_count": null,
      "metadata": {
        "id": "q_Q5ULX13Gah"
      },
      "outputs": [],
      "source": [
        "def calculate_conv_out_shape(height, width, kernel, stride, padding):\n",
        "  new_width = math.floor(((width - kernel + 2 * padding)/stride) + 1)\n",
        "  new_height = math.floor(((height - kernel + 2 * padding)/stride) + 1)\n",
        "\n",
        "  return new_width, new_height\n",
        "\n"
      ]
    },
    {
      "cell_type": "code",
      "execution_count": null,
      "metadata": {
        "colab": {
          "base_uri": "https://localhost:8080/"
        },
        "id": "H-H4auvq4Nvm",
        "outputId": "240db894-1f41-4a62-837e-e18ca5b35de7"
      },
      "outputs": [
        {
          "name": "stdout",
          "output_type": "stream",
          "text": [
            "28 28\n",
            "14 14\n"
          ]
        }
      ],
      "source": [
        "w, h = calculate_conv_out_shape(28, 28, 5, 1, 2)\n",
        "print(w, h)\n",
        "\n",
        "w, h = calculate_conv_out_shape(28, 28, 2, 2, 0)\n",
        "print(w, h)"
      ]
    },
    {
      "cell_type": "code",
      "execution_count": null,
      "metadata": {
        "id": "0Y_dYeE6137e"
      },
      "outputs": [],
      "source": [
        "class NaiveNet(nn.Module):\n",
        "  def __init__(self):\n",
        "    super().__init__()\n",
        "\n",
        "    self.cnn = torch.nn.Sequential(\n",
        "        torch.nn.Conv2d(in_channels=3, out_channels=32, kernel_size=5, \n",
        "                                 stride=1, padding=2), # [32, 28, 28]\n",
        "        torch.nn.ReLU(inplace=True),\n",
        "        torch.nn.MaxPool2d(kernel_size=2, stride=2, padding=0), # [32, 14, 14]\n",
        "        torch.nn.Conv2d(in_channels=32, out_channels=48, kernel_size=5, \n",
        "                                 stride=1, padding=2), # [48, 14, 14]\n",
        "        torch.nn.ReLU(inplace=True),\n",
        "        torch.nn.MaxPool2d(kernel_size=2, stride=2, padding=0) # [48, 7, 7]\n",
        "    )\n",
        "\n",
        "    \n",
        "    self.linear = torch.nn.Sequential(\n",
        "        torch.nn.Linear(in_features=48 * 7 * 7, out_features=100),\n",
        "        torch.nn.ReLU(inplace=True),\n",
        "        torch.nn.Linear(in_features=100, out_features=100),\n",
        "        torch.nn.ReLU(inplace=True),\n",
        "        torch.nn.Linear(in_features=100, out_features=10), \n",
        "    )\n",
        "\n",
        "  def forward(self, x):\n",
        "    batch_size = len(x) # it returns the first dimension/batch size\n",
        "    x = self.cnn(x)\n",
        "    x = x.view(batch_size, -1)\n",
        "    return self.linear(x)"
      ]
    },
    {
      "cell_type": "code",
      "execution_count": null,
      "metadata": {
        "colab": {
          "base_uri": "https://localhost:8080/"
        },
        "id": "61J_Ytzs2Vhk",
        "outputId": "5d5fb37e-f341-43b7-f331-f759fd50fd30"
      },
      "outputs": [
        {
          "data": {
            "text/plain": [
              "torch.Size([2, 10])"
            ]
          },
          "execution_count": 16,
          "metadata": {},
          "output_type": "execute_result"
        }
      ],
      "source": [
        "NaiveNet()(torch.randn(2,3,28,28)).shape"
      ]
    },
    {
      "cell_type": "code",
      "execution_count": null,
      "metadata": {
        "colab": {
          "base_uri": "https://localhost:8080/"
        },
        "id": "tqD-Vig02V6s",
        "outputId": "2fea593e-2983-4bd1-ebd7-75d2807a00e4"
      },
      "outputs": [
        {
          "name": "stdout",
          "output_type": "stream",
          "text": [
            "--2023-02-16 11:45:01--  https://raw.githubusercontent.com/arthurdouillard/deepcourse/master/static/code/da/naive.py\n",
            "Resolving raw.githubusercontent.com (raw.githubusercontent.com)... 185.199.110.133, 185.199.108.133, 185.199.109.133, ...\n",
            "Connecting to raw.githubusercontent.com (raw.githubusercontent.com)|185.199.110.133|:443... connected.\n",
            "HTTP request sent, awaiting response... 200 OK\n",
            "Length: 825 [text/plain]\n",
            "Saving to: ‘naive.py’\n",
            "\n",
            "\rnaive.py              0%[                    ]       0  --.-KB/s               \rnaive.py            100%[===================>]     825  --.-KB/s    in 0s      \n",
            "\n",
            "2023-02-16 11:45:01 (46.1 MB/s) - ‘naive.py’ saved [825/825]\n",
            "\n"
          ]
        }
      ],
      "source": [
        "# Execute this cell to see the solution, but try to do it by yourself before!\n",
        "!wget https://raw.githubusercontent.com/arthurdouillard/deepcourse/master/static/code/da/naive.py\n",
        "%pycat naive.py"
      ]
    },
    {
      "cell_type": "code",
      "execution_count": null,
      "metadata": {
        "id": "hBmaCYnu93Zk"
      },
      "outputs": [],
      "source": [
        "def eval_model(model, loader):\n",
        "  model.eval()\n",
        "\n",
        "  acc, loss = 0, 0.\n",
        "  counter = 0\n",
        "  for x, y in loader:\n",
        "    counter += len(x) # adding the images within a singel batch\n",
        "\n",
        "    with torch.no_grad():\n",
        "      logits = model(x.cuda()).cpu()\n",
        "    \n",
        "    # accumulating both loss and accuracy\n",
        "    loss += F.cross_entropy(logits, y).item()\n",
        "    acc  += (logits.argmax(dim=1) == y).sum().item()\n",
        "\n",
        "  return round(100 * acc / counter, 2), round(loss / len(loader), 5)"
      ]
    },
    {
      "cell_type": "markdown",
      "metadata": {
        "id": "TQu_9WbH9MG1"
      },
      "source": [
        "Training the model with a learning rate schedular"
      ]
    },
    {
      "cell_type": "code",
      "execution_count": null,
      "metadata": {
        "colab": {
          "base_uri": "https://localhost:8080/"
        },
        "id": "SaxOEFGXAcsu",
        "outputId": "be2c126b-3af4-4f48-e002-ff587f88963c"
      },
      "outputs": [
        {
          "name": "stdout",
          "output_type": "stream",
          "text": [
            "Epoch 0, train loss: 0.37356\n",
            "\tLearning rate = 0.005946035575013606\n",
            "Epoch 1, train loss: 0.05789\n",
            "\tLearning rate = 0.004386913376508308\n",
            "Epoch 2, train loss: 0.0403\n",
            "\tLearning rate = 0.0035355339059327372\n",
            "Epoch 3, train loss: 0.03215\n",
            "\tLearning rate = 0.002990697562442441\n",
            "Epoch 4, train loss: 0.02715\n",
            "\tLearning rate = 0.0026084743001221454\n",
            "Epoch 5, train loss: 0.02374\n",
            "\tLearning rate = 0.002323680802425408\n",
            "Epoch 6, train loss: 0.02117\n",
            "\tLearning rate = 0.0021022410381342864\n",
            "Epoch 7, train loss: 0.01917\n",
            "\tLearning rate = 0.0019245008972987524\n",
            "Epoch 8, train loss: 0.01754\n",
            "\tLearning rate = 0.0017782794100389228\n",
            "Epoch 9, train loss: 0.01613\n",
            "\tLearning rate = 0.0016556002607617019\n"
          ]
        }
      ],
      "source": [
        "epochs = 10\n",
        "\n",
        "naive_net = NaiveNet().cuda()\n",
        "\n",
        "optimizer = torch.optim.SGD(naive_net.parameters(), lr=1.0, momentum=0.9)\n",
        "mu0, alpha, beta = 0.01, 10, 0.75\n",
        "scheduler = torch.optim.lr_scheduler.LambdaLR(\n",
        "    optimizer,\n",
        "    lambda e: 0.01 / ( 1 + alpha * e / epochs) ** beta\n",
        ")\n",
        "\n",
        "for epoch in range(epochs):\n",
        "  train_loss = 0.0\n",
        "\n",
        "  for x, y in source_train_loader:\n",
        "    x, y = x.cuda(),  y.cuda()\n",
        "\n",
        "    optimizer.zero_grad()\n",
        "    logits = naive_net(x)\n",
        "    loss = F.cross_entropy(logits, y)\n",
        "    loss.backward()\n",
        "    optimizer.step()\n",
        "\n",
        "    train_loss += loss.item()\n",
        "\n",
        "  print(f'Epoch {epoch}, train loss: {round(train_loss / len(source_train_loader), 5)}')\n",
        "  scheduler.step()\n",
        "  print(f\"\\tLearning rate = {optimizer.param_groups[0]['lr']}\")"
      ]
    },
    {
      "cell_type": "code",
      "execution_count": null,
      "metadata": {
        "colab": {
          "base_uri": "https://localhost:8080/"
        },
        "id": "grN8CkwsB1E7",
        "outputId": "2012cf5c-7c75-4376-9ac8-7cb8b33be982"
      },
      "outputs": [
        {
          "name": "stdout",
          "output_type": "stream",
          "text": [
            "Test loss: 0.02717, test acc: 99.1\n"
          ]
        }
      ],
      "source": [
        "test_acc, test_loss = eval_model(naive_net, source_test_loader)\n",
        "print(f\"Test loss: {test_loss}, test acc: {test_acc}\")"
      ]
    },
    {
      "cell_type": "code",
      "execution_count": null,
      "metadata": {
        "colab": {
          "base_uri": "https://localhost:8080/"
        },
        "id": "H9FLsGl4ED-A",
        "outputId": "377ed18d-8f7c-4408-ae74-c803c946579f"
      },
      "outputs": [
        {
          "name": "stdout",
          "output_type": "stream",
          "text": [
            "Test loss: 1.54661, test acc: 53.92\n"
          ]
        }
      ],
      "source": [
        "test_acc, test_loss = eval_model(naive_net, target_test_loader)\n",
        "print(f\"Test loss: {test_loss}, test acc: {test_acc}\")"
      ]
    },
    {
      "cell_type": "markdown",
      "metadata": {
        "id": "OL996-9_NJXC"
      },
      "source": [
        "We define a gradient reversal layer by writing a custom backward in pytorch. \n",
        "\n",
        "To code a custom backward in PyTorch, you need to define a torch.autograd.Function.\n",
        "\n",
        "The forward is easy, we do nothing except storing a factor that we will need in the backward pass.\n",
        "\n",
        "In the backward pass we need to return as much gradients as there are inputs (here two). Because the factor is not something to be optimized, we return None.\n",
        "\n",
        "Now, given the factor (which is defaulted to -1, aka \"reverse\"), define the modified gradient:"
      ]
    },
    {
      "cell_type": "code",
      "execution_count": null,
      "metadata": {
        "id": "b8yTWe-QNV_R"
      },
      "outputs": [],
      "source": [
        "class GradientReversal(torch.autograd.Function):\n",
        "  @staticmethod\n",
        "  def forward(ctx, x, factor=-1):\n",
        "    ctx.save_for_backward(torch.tensor(factor))\n",
        "    return x\n",
        "  \n",
        "  @staticmethod\n",
        "  def backward(ctx, grad):\n",
        "    factor, = ctx.saved_tensors\n",
        "    reversed_grad = factor * grad\n",
        "\n",
        "    return reversed_grad, None"
      ]
    },
    {
      "cell_type": "code",
      "execution_count": null,
      "metadata": {
        "colab": {
          "base_uri": "https://localhost:8080/"
        },
        "id": "QfPmYFtbN4Pa",
        "outputId": "aaa99f28-dabd-45a5-c27c-7f555b309786"
      },
      "outputs": [
        {
          "name": "stdout",
          "output_type": "stream",
          "text": [
            "1337.0\n"
          ]
        }
      ],
      "source": [
        "x = torch.tensor([42.], requires_grad=True)\n",
        "y = torch.tensor([1337.], requires_grad=True)\n",
        "o = x * y\n",
        "o.backward()\n",
        "print(x.grad.item())"
      ]
    },
    {
      "cell_type": "code",
      "execution_count": null,
      "metadata": {
        "colab": {
          "base_uri": "https://localhost:8080/"
        },
        "id": "N81xbO4SN6jI",
        "outputId": "9f3a3185-d0cd-423c-cd04-b151dc98fc77"
      },
      "outputs": [
        {
          "name": "stdout",
          "output_type": "stream",
          "text": [
            "-1337.0\n"
          ]
        }
      ],
      "source": [
        "x = torch.tensor([42.], requires_grad=True)\n",
        "y = torch.tensor([1337.], requires_grad=True)\n",
        "o = GradientReversal.apply(x * y, -1)\n",
        "o.backward()\n",
        "print(x.grad.item())"
      ]
    },
    {
      "cell_type": "markdown",
      "metadata": {
        "id": "-09MQs0VPPBN"
      },
      "source": [
        "Writinng the Domain Adversarial Net:"
      ]
    },
    {
      "cell_type": "code",
      "execution_count": null,
      "metadata": {
        "id": "XJaHvJdnPRTY"
      },
      "outputs": [],
      "source": [
        "class DANN(nn.Module):\n",
        "  def __init__(self):\n",
        "    super().__init__()\n",
        "\n",
        "    self.cnn = torch.nn.Sequential(\n",
        "        torch.nn.Conv2d(in_channels=3, out_channels=32, kernel_size=5, \n",
        "                                 stride=1, padding=2), # [32, 28, 28]\n",
        "        torch.nn.ReLU(inplace=True),\n",
        "        torch.nn.MaxPool2d(kernel_size=2, stride=2, padding=0), # [32, 14, 14]\n",
        "        torch.nn.Conv2d(in_channels=32, out_channels=48, kernel_size=5, \n",
        "                                 stride=1, padding=2), # [48, 14, 14]\n",
        "        torch.nn.ReLU(inplace=True),\n",
        "        torch.nn.MaxPool2d(kernel_size=2, stride=2, padding=0) # [48, 7, 7]\n",
        "    )\n",
        "\n",
        "    \n",
        "    self.linear = torch.nn.Sequential(\n",
        "        torch.nn.Linear(in_features=48 * 7 * 7, out_features=100),\n",
        "        torch.nn.ReLU(inplace=True),\n",
        "        torch.nn.Linear(in_features=100, out_features=100),\n",
        "        torch.nn.ReLU(inplace=True),\n",
        "        torch.nn.Linear(in_features=100, out_features=10), \n",
        "    )\n",
        "\n",
        "    self.domain = nn.Sequential(\n",
        "        nn.Linear(in_features=48 *7 * 7, out_features=100),\n",
        "        nn.ReLU(inplace=True),\n",
        "        nn.Linear(in_features=100, out_features=1),\n",
        "    )\n",
        "\n",
        "    self.grl = GradientReversal.apply\n",
        "\n",
        "  def forward(self, x, factor=1):\n",
        "    batch_size = len(x) # it returns the first dimension/batch size\n",
        "    x = self.cnn(x)\n",
        "    x = x.view(batch_size, -1)\n",
        "\n",
        "    class_pred = self.linear(x)\n",
        "    domain_pred = self.domain(self.grl(x, -1 * factor))\n",
        "    return class_pred, domain_pred"
      ]
    },
    {
      "cell_type": "code",
      "execution_count": null,
      "metadata": {
        "colab": {
          "base_uri": "https://localhost:8080/"
        },
        "id": "r-h4zge-QJkJ",
        "outputId": "f597df6c-0a2d-4107-abbe-f79dd9c06bf4"
      },
      "outputs": [
        {
          "name": "stdout",
          "output_type": "stream",
          "text": [
            "--2023-02-16 12:48:12--  https://raw.githubusercontent.com/arthurdouillard/deepcourse/master/static/code/da/dann.py\n",
            "Resolving raw.githubusercontent.com (raw.githubusercontent.com)... 185.199.108.133, 185.199.109.133, 185.199.110.133, ...\n",
            "Connecting to raw.githubusercontent.com (raw.githubusercontent.com)|185.199.108.133|:443... connected.\n",
            "HTTP request sent, awaiting response... 200 OK\n",
            "Length: 1102 (1.1K) [text/plain]\n",
            "Saving to: ‘dann.py.4’\n",
            "\n",
            "\rdann.py.4             0%[                    ]       0  --.-KB/s               \rdann.py.4           100%[===================>]   1.08K  --.-KB/s    in 0s      \n",
            "\n",
            "2023-02-16 12:48:12 (72.5 MB/s) - ‘dann.py.4’ saved [1102/1102]\n",
            "\n"
          ]
        }
      ],
      "source": [
        "# Execute this cell to see the solution, but try to do it by yourself before!\n",
        "!wget https://raw.githubusercontent.com/arthurdouillard/deepcourse/master/static/code/da/dann.py\n",
        "%pycat dann.py"
      ]
    },
    {
      "cell_type": "code",
      "execution_count": null,
      "metadata": {
        "id": "I6zT4qliRRXa"
      },
      "outputs": [],
      "source": [
        "def eval_dann(model, loader, source=True):\n",
        "  model.eval()\n",
        "\n",
        "  clf_acc, clf_loss, dom_acc, dom_loss = 0, 0, 0, 0\n",
        "\n",
        "  counter = 0\n",
        "  \n",
        "  for x, y in loader:\n",
        "    counter += len(x) # adding the images within a single batch\n",
        "\n",
        "    if source:\n",
        "      d = torch.ones(len(x)) # 1 = test data of source domain\n",
        "    else:\n",
        "      d = torch.zeros(len(x)) # 0 = test data of target domain\n",
        "\n",
        "    with torch.no_grad():\n",
        "      cls_logits, dom_logits = model(x.cuda())\n",
        "      cls_logits, dom_logits = cls_logits.cpu(), dom_logits.cpu()\n",
        "    \n",
        "    # accumulating both loss and accuracy for digit classifier\n",
        "    clf_loss += F.cross_entropy(cls_logits, y).item()\n",
        "    clf_acc  += (cls_logits.argmax(dim=1) == y).sum().item()\n",
        "\n",
        "    # accumulating both loss and accuracy for domain classifier\n",
        "    dom_loss += F.binary_cross_entropy_with_logits(dom_logits[:, 0], d).item()\n",
        "    dom_acc  += ((torch.sigmoid(dom_logits[:, 0]) > 0.5).float() == d).sum().item()\n",
        "\n",
        "  return round(100 * clf_acc / counter, 2), round(clf_loss / len(loader), 5), round(100 * dom_acc / dom_loss, 2), round(clf_loss / len(loader), 5)"
      ]
    },
    {
      "cell_type": "code",
      "execution_count": null,
      "metadata": {
        "colab": {
          "base_uri": "https://localhost:8080/"
        },
        "id": "cJ8dnZ-zUjs-",
        "outputId": "828e6d71-a53d-4a14-9f63-ba86e1af6bbf"
      },
      "outputs": [
        {
          "data": {
            "text/plain": [
              "(938, 938)"
            ]
          },
          "execution_count": 48,
          "metadata": {},
          "output_type": "execute_result"
        }
      ],
      "source": [
        "source_train_loader = DataLoader(mnist_train, batch_size=64)\n",
        "target_train_loader = DataLoader(mnistm_train, batch_size=64)\n",
        "\n",
        "len(source_train_loader), len(target_train_loader)"
      ]
    },
    {
      "cell_type": "code",
      "execution_count": null,
      "metadata": {
        "colab": {
          "base_uri": "https://localhost:8080/",
          "height": 282
        },
        "id": "DbX2yUl6Us8r",
        "outputId": "6cf9caf2-44d7-4c5a-8f9d-7cd9a1ed46c3"
      },
      "outputs": [
        {
          "data": {
            "text/plain": [
              "[<matplotlib.lines.Line2D at 0x7f9fa358e4c0>]"
            ]
          },
          "execution_count": 49,
          "metadata": {},
          "output_type": "execute_result"
        },
        {
          "data": {
            "image/png": "[encoded data removed]",
            "text/plain": [
              "<Figure size 432x288 with 1 Axes>"
            ]
          },
          "metadata": {
            "needs_background": "light"
          },
          "output_type": "display_data"
        }
      ],
      "source": [
        "nb_iters = (len(source_train_loader) * epochs)\n",
        "\n",
        "x = [i for i in range(nb_iters)]\n",
        "lmbd = lambda e: -1 + 2 / (1 + math.exp(-2 * e / nb_iters))\n",
        "y = [lmbd(i) for i in x]\n",
        "\n",
        "plt.plot(x, y)\n"
      ]
    },
    {
      "cell_type": "markdown",
      "metadata": {
        "id": "feSiZ4w9VY5d"
      },
      "source": [
        "### Training DANN Model"
      ]
    },
    {
      "cell_type": "code",
      "execution_count": null,
      "metadata": {
        "colab": {
          "base_uri": "https://localhost:8080/"
        },
        "id": "4LJPM7kOVH_C",
        "outputId": "214916c7-4cb3-4146-d27d-b09f3f5c93e0"
      },
      "outputs": [
        {
          "name": "stdout",
          "output_type": "stream",
          "text": [
            "GRL factor: 0.0\n",
            "Epoch 0, class loss: 0.24009, domain loss: 0.0717\n",
            "GRL factor: 0.0996679946249559\n",
            "Epoch 1, class loss: 0.04733, domain loss: 0.08289\n",
            "GRL factor: 0.197375320224904\n",
            "Epoch 2, class loss: 0.03673, domain loss: 0.10746\n",
            "GRL factor: 0.2913126124515908\n",
            "Epoch 3, class loss: 0.03664, domain loss: 0.12665\n",
            "GRL factor: 0.379948962255225\n",
            "Epoch 4, class loss: 0.04417, domain loss: 0.1604\n",
            "GRL factor: 0.4621171572600098\n",
            "Epoch 5, class loss: 0.05683, domain loss: 0.18509\n",
            "GRL factor: 0.5370495669980351\n",
            "Epoch 6, class loss: 0.05944, domain loss: 0.22631\n",
            "GRL factor: 0.6043677771171634\n",
            "Epoch 7, class loss: 0.12707, domain loss: 0.27023\n",
            "GRL factor: 0.6640367702678489\n",
            "Epoch 8, class loss: 0.07679, domain loss: 0.25377\n",
            "GRL factor: 0.7162978701990246\n",
            "Epoch 9, class loss: 0.04705, domain loss: 0.2857\n"
          ]
        }
      ],
      "source": [
        "epochs = 10\n",
        "\n",
        "dann = DANN().cuda()\n",
        "\n",
        "optimizer = torch.optim.SGD(dann.parameters(), lr=1.0, momentum=0.9)\n",
        "mu0, alpha, beta = 0.01, 10, 0.75\n",
        "scheduler = torch.optim.lr_scheduler.LambdaLR(\n",
        "    optimizer,\n",
        "    lambda e: 0.01 / ( 1 + alpha * e / epochs) ** beta\n",
        ")\n",
        "\n",
        "lmbd = lambda e: -1 + 2 / (1 + math.exp(-2 * e / (len(source_train_loader) * epochs)))\n",
        "\n",
        "batch = 0 \n",
        "for epoch in range(epochs):\n",
        "  clf_loss, dom_loss = 0., 0.\n",
        "  grl_factor = lmbd(batch) # resetted at the start of each epoch\n",
        "  print(f'GRL factor: {grl_factor}')\n",
        "\n",
        "  for (xs, ys), (xt, _) in zip(source_train_loader, target_train_loader):\n",
        "\n",
        "    grl_factor = lmbd(batch) # changing the value at each epoch\n",
        "    batch += 1\n",
        "   \n",
        "\n",
        "    xs, ys = xs.cuda(), ys.cuda()\n",
        "    xt = xt.cuda()\n",
        "    x = torch.cat((xs, xt)) # concatenating on both the example to learn features \n",
        "    # on both types of data together\n",
        "\n",
        "    optimizer.zero_grad()\n",
        "    clf_logits, dom_logits = dann(x, factor=grl_factor)\n",
        "    \n",
        "    # only selecting the source images for cross entropy loss\n",
        "    ce = F.cross_entropy(clf_logits[:len(ys)], ys)\n",
        "\n",
        "    \"\"\"\n",
        "    Tensors at the top for len(xs) have the source image and the \n",
        "    len(xt) tensors at the bottom have the target images. During training the \n",
        "    domain classifier, we are specifying the bce with such target labels that the \n",
        "    top tensors correspond to 1 for source and botton tensors correspond to 0 for\n",
        "    target images. In that way the domain classifier is able to train based on \n",
        "    the type of image that it is passed on\n",
        "    \"\"\"\n",
        "    bce = F.binary_cross_entropy_with_logits(\n",
        "        dom_logits[:, 0],\n",
        "        torch.cat((\n",
        "            torch.ones(len(xs)),\n",
        "            torch.zeros(len(xt))\n",
        "        )).cuda()\n",
        "    )\n",
        "\n",
        "    loss = ce + bce\n",
        "    loss.backward()\n",
        "    optimizer.step()\n",
        "\n",
        "    clf_loss += ce.item()\n",
        "    dom_loss += bce.item()\n",
        "\n",
        "  clf_loss = round(clf_loss / len(source_train_loader), 5)\n",
        "  dom_loss = round(dom_loss / (2*len(source_train_loader)), 5)\n",
        "  print(f'Epoch {epoch}, class loss: {clf_loss}, domain loss: {dom_loss}')\n",
        "  scheduler.step()\n"
      ]
    },
    {
      "cell_type": "code",
      "execution_count": null,
      "metadata": {
        "colab": {
          "base_uri": "https://localhost:8080/"
        },
        "id": "IxncsLu7c6ZO",
        "outputId": "2d71624b-ba2a-4a66-ff99-7f5a8a01123f"
      },
      "outputs": [
        {
          "name": "stdout",
          "output_type": "stream",
          "text": [
            "[SOURCE] Class loss/acc: 19412.07 / 98.49%, Domain loss/acc: 0.04376 / 0.04376%\n",
            "[TARGET] Class loss/acc: 9753.0 / 72.47%, Domain loss/acc: 1.47529 / 1.47529%\n"
          ]
        }
      ],
      "source": [
        "c_acc, d_acc, c_loss, d_loss = eval_dann(dann, source_test_loader)\n",
        "print(f\"[SOURCE] Class loss/acc: {c_loss} / {c_acc}%, Domain loss/acc: {d_loss} / {d_acc}%\")\n",
        "\n",
        "c_acc, d_acc, c_loss, d_loss = eval_dann(dann, target_test_loader, source=False)\n",
        "print(f\"[TARGET] Class loss/acc: {c_loss} / {c_acc}%, Domain loss/acc: {d_loss} / {d_acc}%\")"
      ]
    }
  ],
  "metadata": {
    "accelerator": "GPU",
    "colab": {
      "authorship_tag": "ABX9TyMVLwvVG63zJro60W4ekmDE",
      "include_colab_link": true,
      "provenance": []
    },
    "gpuClass": "standard",
    "kernelspec": {
      "display_name": "Python 3",
      "language": "python",
      "name": "python3"
    },
    "language_info": {
      "name": "python",
      "version": "3.11.1"
    },
    "vscode": {
      "interpreter": {
        "hash": "ead1b95f633dc9c51826328e1846203f51a198c6fb5f2884a80417ba131d4e82"
      }
    },
    "widgets": {
      "application/vnd.jupyter.widget-state+json": {
        "06447ecce48e44c29e229e108c36da30": {
          "model_module": "@jupyter-widgets/controls",
          "model_module_version": "1.5.0",
          "model_name": "HBoxModel",
          "state": {
            "_dom_classes": [],
            "_model_module": "@jupyter-widgets/controls",
            "_model_module_version": "1.5.0",
            "_model_name": "HBoxModel",
            "_view_count": null,
            "_view_module": "@jupyter-widgets/controls",
            "_view_module_version": "1.5.0",
            "_view_name": "HBoxView",
            "box_style": "",
            "children": [
              "IPY_MODEL_43ce0cf768254b30bb2480690f4c679b",
              "IPY_MODEL_239a3b2ef5d04307afdb0cb67b29fb4c",
              "IPY_MODEL_6a6ff67ce3a44b6bba544e74c6fa47b2"
            ],
            "layout": "IPY_MODEL_6dacbffb3c06435f9567120308bbe494"
          }
        },
        "0c0e062491574974842b74aa76a4aa73": {
          "model_module": "@jupyter-widgets/base",
          "model_module_version": "1.2.0",
          "model_name": "LayoutModel",
          "state": {
            "_model_module": "@jupyter-widgets/base",
            "_model_module_version": "1.2.0",
            "_model_name": "LayoutModel",
            "_view_count": null,
            "_view_module": "@jupyter-widgets/base",
            "_view_module_version": "1.2.0",
            "_view_name": "LayoutView",
            "align_content": null,
            "align_items": null,
            "align_self": null,
            "border": null,
            "bottom": null,
            "display": null,
            "flex": null,
            "flex_flow": null,
            "grid_area": null,
            "grid_auto_columns": null,
            "grid_auto_flow": null,
            "grid_auto_rows": null,
            "grid_column": null,
            "grid_gap": null,
            "grid_row": null,
            "grid_template_areas": null,
            "grid_template_columns": null,
            "grid_template_rows": null,
            "height": null,
            "justify_content": null,
            "justify_items": null,
            "left": null,
            "margin": null,
            "max_height": null,
            "max_width": null,
            "min_height": null,
            "min_width": null,
            "object_fit": null,
            "object_position": null,
            "order": null,
            "overflow": null,
            "overflow_x": null,
            "overflow_y": null,
            "padding": null,
            "right": null,
            "top": null,
            "visibility": null,
            "width": null
          }
        },
        "0c150c7b88314fd79ec09b2924057619": {
          "model_module": "@jupyter-widgets/base",
          "model_module_version": "1.2.0",
          "model_name": "LayoutModel",
          "state": {
            "_model_module": "@jupyter-widgets/base",
            "_model_module_version": "1.2.0",
            "_model_name": "LayoutModel",
            "_view_count": null,
            "_view_module": "@jupyter-widgets/base",
            "_view_module_version": "1.2.0",
            "_view_name": "LayoutView",
            "align_content": null,
            "align_items": null,
            "align_self": null,
            "border": null,
            "bottom": null,
            "display": null,
            "flex": null,
            "flex_flow": null,
            "grid_area": null,
            "grid_auto_columns": null,
            "grid_auto_flow": null,
            "grid_auto_rows": null,
            "grid_column": null,
            "grid_gap": null,
            "grid_row": null,
            "grid_template_areas": null,
            "grid_template_columns": null,
            "grid_template_rows": null,
            "height": null,
            "justify_content": null,
            "justify_items": null,
            "left": null,
            "margin": null,
            "max_height": null,
            "max_width": null,
            "min_height": null,
            "min_width": null,
            "object_fit": null,
            "object_position": null,
            "order": null,
            "overflow": null,
            "overflow_x": null,
            "overflow_y": null,
            "padding": null,
            "right": null,
            "top": null,
            "visibility": null,
            "width": null
          }
        },
        "1253e590ac1c48caaf352806b6945636": {
          "model_module": "@jupyter-widgets/controls",
          "model_module_version": "1.5.0",
          "model_name": "HTMLModel",
          "state": {
            "_dom_classes": [],
            "_model_module": "@jupyter-widgets/controls",
            "_model_module_version": "1.5.0",
            "_model_name": "HTMLModel",
            "_view_count": null,
            "_view_module": "@jupyter-widgets/controls",
            "_view_module_version": "1.5.0",
            "_view_name": "HTMLView",
            "description": "",
            "description_tooltip": null,
            "layout": "IPY_MODEL_d7eea7f097134ec0bb1a8b4c8675ea84",
            "placeholder": "​",
            "style": "IPY_MODEL_e29b42787dec41dbbb0429f980a6e97f",
            "value": " 28881/28881 [00:00&lt;00:00, 1298485.30it/s]"
          }
        },
        "22b6fe53bda2415e892c25de5c71b30c": {
          "model_module": "@jupyter-widgets/controls",
          "model_module_version": "1.5.0",
          "model_name": "DescriptionStyleModel",
          "state": {
            "_model_module": "@jupyter-widgets/controls",
            "_model_module_version": "1.5.0",
            "_model_name": "DescriptionStyleModel",
            "_view_count": null,
            "_view_module": "@jupyter-widgets/base",
            "_view_module_version": "1.2.0",
            "_view_name": "StyleView",
            "description_width": ""
          }
        },
        "239a3b2ef5d04307afdb0cb67b29fb4c": {
          "model_module": "@jupyter-widgets/controls",
          "model_module_version": "1.5.0",
          "model_name": "FloatProgressModel",
          "state": {
            "_dom_classes": [],
            "_model_module": "@jupyter-widgets/controls",
            "_model_module_version": "1.5.0",
            "_model_name": "FloatProgressModel",
            "_view_count": null,
            "_view_module": "@jupyter-widgets/controls",
            "_view_module_version": "1.5.0",
            "_view_name": "ProgressView",
            "bar_style": "success",
            "description": "",
            "description_tooltip": null,
            "layout": "IPY_MODEL_ccf8ae894d6e462681e228e85e6ebab0",
            "max": 4542,
            "min": 0,
            "orientation": "horizontal",
            "style": "IPY_MODEL_2c70513d61514119941b31794b9f8456",
            "value": 4542
          }
        },
        "2ac8461a946049cdb500ca6610407e0d": {
          "model_module": "@jupyter-widgets/controls",
          "model_module_version": "1.5.0",
          "model_name": "FloatProgressModel",
          "state": {
            "_dom_classes": [],
            "_model_module": "@jupyter-widgets/controls",
            "_model_module_version": "1.5.0",
            "_model_name": "FloatProgressModel",
            "_view_count": null,
            "_view_module": "@jupyter-widgets/controls",
            "_view_module_version": "1.5.0",
            "_view_name": "ProgressView",
            "bar_style": "success",
            "description": "",
            "description_tooltip": null,
            "layout": "IPY_MODEL_f65e7ecce593428f8501331c266cf55a",
            "max": 9912422,
            "min": 0,
            "orientation": "horizontal",
            "style": "IPY_MODEL_3009c1cccd1340cebfe542178cbf5b67",
            "value": 9912422
          }
        },
        "2baf867c74684a668949157f860d787f": {
          "model_module": "@jupyter-widgets/controls",
          "model_module_version": "1.5.0",
          "model_name": "HTMLModel",
          "state": {
            "_dom_classes": [],
            "_model_module": "@jupyter-widgets/controls",
            "_model_module_version": "1.5.0",
            "_model_name": "HTMLModel",
            "_view_count": null,
            "_view_module": "@jupyter-widgets/controls",
            "_view_module_version": "1.5.0",
            "_view_name": "HTMLView",
            "description": "",
            "description_tooltip": null,
            "layout": "IPY_MODEL_8ca9b9f721744b2a81a5324a1f2b7979",
            "placeholder": "​",
            "style": "IPY_MODEL_606bf0dd633747f49e771964e6ebb13b",
            "value": "100%"
          }
        },
        "2c70513d61514119941b31794b9f8456": {
          "model_module": "@jupyter-widgets/controls",
          "model_module_version": "1.5.0",
          "model_name": "ProgressStyleModel",
          "state": {
            "_model_module": "@jupyter-widgets/controls",
            "_model_module_version": "1.5.0",
            "_model_name": "ProgressStyleModel",
            "_view_count": null,
            "_view_module": "@jupyter-widgets/base",
            "_view_module_version": "1.2.0",
            "_view_name": "StyleView",
            "bar_color": null,
            "description_width": ""
          }
        },
        "2f80f4a9ce87498cacfc10816aee4f4d": {
          "model_module": "@jupyter-widgets/controls",
          "model_module_version": "1.5.0",
          "model_name": "HBoxModel",
          "state": {
            "_dom_classes": [],
            "_model_module": "@jupyter-widgets/controls",
            "_model_module_version": "1.5.0",
            "_model_name": "HBoxModel",
            "_view_count": null,
            "_view_module": "@jupyter-widgets/controls",
            "_view_module_version": "1.5.0",
            "_view_name": "HBoxView",
            "box_style": "",
            "children": [
              "IPY_MODEL_f45150ef52de4a89a48699427b35ac01",
              "IPY_MODEL_2ac8461a946049cdb500ca6610407e0d",
              "IPY_MODEL_aff0ae8dc3b04f918b95f7c00cef8f3e"
            ],
            "layout": "IPY_MODEL_5cfb7cdd2fd04b76a5e9f9959f6d045d"
          }
        },
        "3009c1cccd1340cebfe542178cbf5b67": {
          "model_module": "@jupyter-widgets/controls",
          "model_module_version": "1.5.0",
          "model_name": "ProgressStyleModel",
          "state": {
            "_model_module": "@jupyter-widgets/controls",
            "_model_module_version": "1.5.0",
            "_model_name": "ProgressStyleModel",
            "_view_count": null,
            "_view_module": "@jupyter-widgets/base",
            "_view_module_version": "1.2.0",
            "_view_name": "StyleView",
            "bar_color": null,
            "description_width": ""
          }
        },
        "43ce0cf768254b30bb2480690f4c679b": {
          "model_module": "@jupyter-widgets/controls",
          "model_module_version": "1.5.0",
          "model_name": "HTMLModel",
          "state": {
            "_dom_classes": [],
            "_model_module": "@jupyter-widgets/controls",
            "_model_module_version": "1.5.0",
            "_model_name": "HTMLModel",
            "_view_count": null,
            "_view_module": "@jupyter-widgets/controls",
            "_view_module_version": "1.5.0",
            "_view_name": "HTMLView",
            "description": "",
            "description_tooltip": null,
            "layout": "IPY_MODEL_ca5fbab5863540b797f897fd5f4edc26",
            "placeholder": "​",
            "style": "IPY_MODEL_6602edb978ee4a7aa956af740871316e",
            "value": "100%"
          }
        },
        "4bbc2954c731447f8e542c77efe35dc8": {
          "model_module": "@jupyter-widgets/controls",
          "model_module_version": "1.5.0",
          "model_name": "FloatProgressModel",
          "state": {
            "_dom_classes": [],
            "_model_module": "@jupyter-widgets/controls",
            "_model_module_version": "1.5.0",
            "_model_name": "FloatProgressModel",
            "_view_count": null,
            "_view_module": "@jupyter-widgets/controls",
            "_view_module_version": "1.5.0",
            "_view_name": "ProgressView",
            "bar_style": "success",
            "description": "",
            "description_tooltip": null,
            "layout": "IPY_MODEL_d6f46c21255f4984aeabf3c4e48b3916",
            "max": 1648877,
            "min": 0,
            "orientation": "horizontal",
            "style": "IPY_MODEL_73509aa8f4464070913f7e595808d8f2",
            "value": 1648877
          }
        },
        "4c085ea539ad462caf7f19fe8621a29a": {
          "model_module": "@jupyter-widgets/controls",
          "model_module_version": "1.5.0",
          "model_name": "DescriptionStyleModel",
          "state": {
            "_model_module": "@jupyter-widgets/controls",
            "_model_module_version": "1.5.0",
            "_model_name": "DescriptionStyleModel",
            "_view_count": null,
            "_view_module": "@jupyter-widgets/base",
            "_view_module_version": "1.2.0",
            "_view_name": "StyleView",
            "description_width": ""
          }
        },
        "5cfb7cdd2fd04b76a5e9f9959f6d045d": {
          "model_module": "@jupyter-widgets/base",
          "model_module_version": "1.2.0",
          "model_name": "LayoutModel",
          "state": {
            "_model_module": "@jupyter-widgets/base",
            "_model_module_version": "1.2.0",
            "_model_name": "LayoutModel",
            "_view_count": null,
            "_view_module": "@jupyter-widgets/base",
            "_view_module_version": "1.2.0",
            "_view_name": "LayoutView",
            "align_content": null,
            "align_items": null,
            "align_self": null,
            "border": null,
            "bottom": null,
            "display": null,
            "flex": null,
            "flex_flow": null,
            "grid_area": null,
            "grid_auto_columns": null,
            "grid_auto_flow": null,
            "grid_auto_rows": null,
            "grid_column": null,
            "grid_gap": null,
            "grid_row": null,
            "grid_template_areas": null,
            "grid_template_columns": null,
            "grid_template_rows": null,
            "height": null,
            "justify_content": null,
            "justify_items": null,
            "left": null,
            "margin": null,
            "max_height": null,
            "max_width": null,
            "min_height": null,
            "min_width": null,
            "object_fit": null,
            "object_position": null,
            "order": null,
            "overflow": null,
            "overflow_x": null,
            "overflow_y": null,
            "padding": null,
            "right": null,
            "top": null,
            "visibility": null,
            "width": null
          }
        },
        "5fa711f977be4cb4bff6f05ed34f1107": {
          "model_module": "@jupyter-widgets/controls",
          "model_module_version": "1.5.0",
          "model_name": "FloatProgressModel",
          "state": {
            "_dom_classes": [],
            "_model_module": "@jupyter-widgets/controls",
            "_model_module_version": "1.5.0",
            "_model_name": "FloatProgressModel",
            "_view_count": null,
            "_view_module": "@jupyter-widgets/controls",
            "_view_module_version": "1.5.0",
            "_view_name": "ProgressView",
            "bar_style": "success",
            "description": "",
            "description_tooltip": null,
            "layout": "IPY_MODEL_a31e22ff32a64f06836e55ef8db5333f",
            "max": 28881,
            "min": 0,
            "orientation": "horizontal",
            "style": "IPY_MODEL_77f82f8fc38f4bc98110170f7c0d7a47",
            "value": 28881
          }
        },
        "606bf0dd633747f49e771964e6ebb13b": {
          "model_module": "@jupyter-widgets/controls",
          "model_module_version": "1.5.0",
          "model_name": "DescriptionStyleModel",
          "state": {
            "_model_module": "@jupyter-widgets/controls",
            "_model_module_version": "1.5.0",
            "_model_name": "DescriptionStyleModel",
            "_view_count": null,
            "_view_module": "@jupyter-widgets/base",
            "_view_module_version": "1.2.0",
            "_view_name": "StyleView",
            "description_width": ""
          }
        },
        "6602edb978ee4a7aa956af740871316e": {
          "model_module": "@jupyter-widgets/controls",
          "model_module_version": "1.5.0",
          "model_name": "DescriptionStyleModel",
          "state": {
            "_model_module": "@jupyter-widgets/controls",
            "_model_module_version": "1.5.0",
            "_model_name": "DescriptionStyleModel",
            "_view_count": null,
            "_view_module": "@jupyter-widgets/base",
            "_view_module_version": "1.2.0",
            "_view_name": "StyleView",
            "description_width": ""
          }
        },
        "6a6ff67ce3a44b6bba544e74c6fa47b2": {
          "model_module": "@jupyter-widgets/controls",
          "model_module_version": "1.5.0",
          "model_name": "HTMLModel",
          "state": {
            "_dom_classes": [],
            "_model_module": "@jupyter-widgets/controls",
            "_model_module_version": "1.5.0",
            "_model_name": "HTMLModel",
            "_view_count": null,
            "_view_module": "@jupyter-widgets/controls",
            "_view_module_version": "1.5.0",
            "_view_name": "HTMLView",
            "description": "",
            "description_tooltip": null,
            "layout": "IPY_MODEL_0c0e062491574974842b74aa76a4aa73",
            "placeholder": "​",
            "style": "IPY_MODEL_a8618df3eac4463aa55d5298346af057",
            "value": " 4542/4542 [00:00&lt;00:00, 220186.42it/s]"
          }
        },
        "6dacbffb3c06435f9567120308bbe494": {
          "model_module": "@jupyter-widgets/base",
          "model_module_version": "1.2.0",
          "model_name": "LayoutModel",
          "state": {
            "_model_module": "@jupyter-widgets/base",
            "_model_module_version": "1.2.0",
            "_model_name": "LayoutModel",
            "_view_count": null,
            "_view_module": "@jupyter-widgets/base",
            "_view_module_version": "1.2.0",
            "_view_name": "LayoutView",
            "align_content": null,
            "align_items": null,
            "align_self": null,
            "border": null,
            "bottom": null,
            "display": null,
            "flex": null,
            "flex_flow": null,
            "grid_area": null,
            "grid_auto_columns": null,
            "grid_auto_flow": null,
            "grid_auto_rows": null,
            "grid_column": null,
            "grid_gap": null,
            "grid_row": null,
            "grid_template_areas": null,
            "grid_template_columns": null,
            "grid_template_rows": null,
            "height": null,
            "justify_content": null,
            "justify_items": null,
            "left": null,
            "margin": null,
            "max_height": null,
            "max_width": null,
            "min_height": null,
            "min_width": null,
            "object_fit": null,
            "object_position": null,
            "order": null,
            "overflow": null,
            "overflow_x": null,
            "overflow_y": null,
            "padding": null,
            "right": null,
            "top": null,
            "visibility": null,
            "width": null
          }
        },
        "6e5068e743b04183a885ef9717602fe5": {
          "model_module": "@jupyter-widgets/controls",
          "model_module_version": "1.5.0",
          "model_name": "HBoxModel",
          "state": {
            "_dom_classes": [],
            "_model_module": "@jupyter-widgets/controls",
            "_model_module_version": "1.5.0",
            "_model_name": "HBoxModel",
            "_view_count": null,
            "_view_module": "@jupyter-widgets/controls",
            "_view_module_version": "1.5.0",
            "_view_name": "HBoxView",
            "box_style": "",
            "children": [
              "IPY_MODEL_aa1aa049e531400d837dff1696c85e27",
              "IPY_MODEL_4bbc2954c731447f8e542c77efe35dc8",
              "IPY_MODEL_ec139f8334a145d1bebc8c0e1fac43cb"
            ],
            "layout": "IPY_MODEL_0c150c7b88314fd79ec09b2924057619"
          }
        },
        "73509aa8f4464070913f7e595808d8f2": {
          "model_module": "@jupyter-widgets/controls",
          "model_module_version": "1.5.0",
          "model_name": "ProgressStyleModel",
          "state": {
            "_model_module": "@jupyter-widgets/controls",
            "_model_module_version": "1.5.0",
            "_model_name": "ProgressStyleModel",
            "_view_count": null,
            "_view_module": "@jupyter-widgets/base",
            "_view_module_version": "1.2.0",
            "_view_name": "StyleView",
            "bar_color": null,
            "description_width": ""
          }
        },
        "770056e87b7a47c4abd12e90200f40d7": {
          "model_module": "@jupyter-widgets/base",
          "model_module_version": "1.2.0",
          "model_name": "LayoutModel",
          "state": {
            "_model_module": "@jupyter-widgets/base",
            "_model_module_version": "1.2.0",
            "_model_name": "LayoutModel",
            "_view_count": null,
            "_view_module": "@jupyter-widgets/base",
            "_view_module_version": "1.2.0",
            "_view_name": "LayoutView",
            "align_content": null,
            "align_items": null,
            "align_self": null,
            "border": null,
            "bottom": null,
            "display": null,
            "flex": null,
            "flex_flow": null,
            "grid_area": null,
            "grid_auto_columns": null,
            "grid_auto_flow": null,
            "grid_auto_rows": null,
            "grid_column": null,
            "grid_gap": null,
            "grid_row": null,
            "grid_template_areas": null,
            "grid_template_columns": null,
            "grid_template_rows": null,
            "height": null,
            "justify_content": null,
            "justify_items": null,
            "left": null,
            "margin": null,
            "max_height": null,
            "max_width": null,
            "min_height": null,
            "min_width": null,
            "object_fit": null,
            "object_position": null,
            "order": null,
            "overflow": null,
            "overflow_x": null,
            "overflow_y": null,
            "padding": null,
            "right": null,
            "top": null,
            "visibility": null,
            "width": null
          }
        },
        "77f82f8fc38f4bc98110170f7c0d7a47": {
          "model_module": "@jupyter-widgets/controls",
          "model_module_version": "1.5.0",
          "model_name": "ProgressStyleModel",
          "state": {
            "_model_module": "@jupyter-widgets/controls",
            "_model_module_version": "1.5.0",
            "_model_name": "ProgressStyleModel",
            "_view_count": null,
            "_view_module": "@jupyter-widgets/base",
            "_view_module_version": "1.2.0",
            "_view_name": "StyleView",
            "bar_color": null,
            "description_width": ""
          }
        },
        "891fb2b30fcc40f09f372d74dce1f454": {
          "model_module": "@jupyter-widgets/base",
          "model_module_version": "1.2.0",
          "model_name": "LayoutModel",
          "state": {
            "_model_module": "@jupyter-widgets/base",
            "_model_module_version": "1.2.0",
            "_model_name": "LayoutModel",
            "_view_count": null,
            "_view_module": "@jupyter-widgets/base",
            "_view_module_version": "1.2.0",
            "_view_name": "LayoutView",
            "align_content": null,
            "align_items": null,
            "align_self": null,
            "border": null,
            "bottom": null,
            "display": null,
            "flex": null,
            "flex_flow": null,
            "grid_area": null,
            "grid_auto_columns": null,
            "grid_auto_flow": null,
            "grid_auto_rows": null,
            "grid_column": null,
            "grid_gap": null,
            "grid_row": null,
            "grid_template_areas": null,
            "grid_template_columns": null,
            "grid_template_rows": null,
            "height": null,
            "justify_content": null,
            "justify_items": null,
            "left": null,
            "margin": null,
            "max_height": null,
            "max_width": null,
            "min_height": null,
            "min_width": null,
            "object_fit": null,
            "object_position": null,
            "order": null,
            "overflow": null,
            "overflow_x": null,
            "overflow_y": null,
            "padding": null,
            "right": null,
            "top": null,
            "visibility": null,
            "width": null
          }
        },
        "8ca9b9f721744b2a81a5324a1f2b7979": {
          "model_module": "@jupyter-widgets/base",
          "model_module_version": "1.2.0",
          "model_name": "LayoutModel",
          "state": {
            "_model_module": "@jupyter-widgets/base",
            "_model_module_version": "1.2.0",
            "_model_name": "LayoutModel",
            "_view_count": null,
            "_view_module": "@jupyter-widgets/base",
            "_view_module_version": "1.2.0",
            "_view_name": "LayoutView",
            "align_content": null,
            "align_items": null,
            "align_self": null,
            "border": null,
            "bottom": null,
            "display": null,
            "flex": null,
            "flex_flow": null,
            "grid_area": null,
            "grid_auto_columns": null,
            "grid_auto_flow": null,
            "grid_auto_rows": null,
            "grid_column": null,
            "grid_gap": null,
            "grid_row": null,
            "grid_template_areas": null,
            "grid_template_columns": null,
            "grid_template_rows": null,
            "height": null,
            "justify_content": null,
            "justify_items": null,
            "left": null,
            "margin": null,
            "max_height": null,
            "max_width": null,
            "min_height": null,
            "min_width": null,
            "object_fit": null,
            "object_position": null,
            "order": null,
            "overflow": null,
            "overflow_x": null,
            "overflow_y": null,
            "padding": null,
            "right": null,
            "top": null,
            "visibility": null,
            "width": null
          }
        },
        "95ee22912c4042d294888c0ab07ff902": {
          "model_module": "@jupyter-widgets/base",
          "model_module_version": "1.2.0",
          "model_name": "LayoutModel",
          "state": {
            "_model_module": "@jupyter-widgets/base",
            "_model_module_version": "1.2.0",
            "_model_name": "LayoutModel",
            "_view_count": null,
            "_view_module": "@jupyter-widgets/base",
            "_view_module_version": "1.2.0",
            "_view_name": "LayoutView",
            "align_content": null,
            "align_items": null,
            "align_self": null,
            "border": null,
            "bottom": null,
            "display": null,
            "flex": null,
            "flex_flow": null,
            "grid_area": null,
            "grid_auto_columns": null,
            "grid_auto_flow": null,
            "grid_auto_rows": null,
            "grid_column": null,
            "grid_gap": null,
            "grid_row": null,
            "grid_template_areas": null,
            "grid_template_columns": null,
            "grid_template_rows": null,
            "height": null,
            "justify_content": null,
            "justify_items": null,
            "left": null,
            "margin": null,
            "max_height": null,
            "max_width": null,
            "min_height": null,
            "min_width": null,
            "object_fit": null,
            "object_position": null,
            "order": null,
            "overflow": null,
            "overflow_x": null,
            "overflow_y": null,
            "padding": null,
            "right": null,
            "top": null,
            "visibility": null,
            "width": null
          }
        },
        "a31e22ff32a64f06836e55ef8db5333f": {
          "model_module": "@jupyter-widgets/base",
          "model_module_version": "1.2.0",
          "model_name": "LayoutModel",
          "state": {
            "_model_module": "@jupyter-widgets/base",
            "_model_module_version": "1.2.0",
            "_model_name": "LayoutModel",
            "_view_count": null,
            "_view_module": "@jupyter-widgets/base",
            "_view_module_version": "1.2.0",
            "_view_name": "LayoutView",
            "align_content": null,
            "align_items": null,
            "align_self": null,
            "border": null,
            "bottom": null,
            "display": null,
            "flex": null,
            "flex_flow": null,
            "grid_area": null,
            "grid_auto_columns": null,
            "grid_auto_flow": null,
            "grid_auto_rows": null,
            "grid_column": null,
            "grid_gap": null,
            "grid_row": null,
            "grid_template_areas": null,
            "grid_template_columns": null,
            "grid_template_rows": null,
            "height": null,
            "justify_content": null,
            "justify_items": null,
            "left": null,
            "margin": null,
            "max_height": null,
            "max_width": null,
            "min_height": null,
            "min_width": null,
            "object_fit": null,
            "object_position": null,
            "order": null,
            "overflow": null,
            "overflow_x": null,
            "overflow_y": null,
            "padding": null,
            "right": null,
            "top": null,
            "visibility": null,
            "width": null
          }
        },
        "a8618df3eac4463aa55d5298346af057": {
          "model_module": "@jupyter-widgets/controls",
          "model_module_version": "1.5.0",
          "model_name": "DescriptionStyleModel",
          "state": {
            "_model_module": "@jupyter-widgets/controls",
            "_model_module_version": "1.5.0",
            "_model_name": "DescriptionStyleModel",
            "_view_count": null,
            "_view_module": "@jupyter-widgets/base",
            "_view_module_version": "1.2.0",
            "_view_name": "StyleView",
            "description_width": ""
          }
        },
        "aa1aa049e531400d837dff1696c85e27": {
          "model_module": "@jupyter-widgets/controls",
          "model_module_version": "1.5.0",
          "model_name": "HTMLModel",
          "state": {
            "_dom_classes": [],
            "_model_module": "@jupyter-widgets/controls",
            "_model_module_version": "1.5.0",
            "_model_name": "HTMLModel",
            "_view_count": null,
            "_view_module": "@jupyter-widgets/controls",
            "_view_module_version": "1.5.0",
            "_view_name": "HTMLView",
            "description": "",
            "description_tooltip": null,
            "layout": "IPY_MODEL_891fb2b30fcc40f09f372d74dce1f454",
            "placeholder": "​",
            "style": "IPY_MODEL_22b6fe53bda2415e892c25de5c71b30c",
            "value": "100%"
          }
        },
        "af1219cab2264e1f90ba994cae276f14": {
          "model_module": "@jupyter-widgets/base",
          "model_module_version": "1.2.0",
          "model_name": "LayoutModel",
          "state": {
            "_model_module": "@jupyter-widgets/base",
            "_model_module_version": "1.2.0",
            "_model_name": "LayoutModel",
            "_view_count": null,
            "_view_module": "@jupyter-widgets/base",
            "_view_module_version": "1.2.0",
            "_view_name": "LayoutView",
            "align_content": null,
            "align_items": null,
            "align_self": null,
            "border": null,
            "bottom": null,
            "display": null,
            "flex": null,
            "flex_flow": null,
            "grid_area": null,
            "grid_auto_columns": null,
            "grid_auto_flow": null,
            "grid_auto_rows": null,
            "grid_column": null,
            "grid_gap": null,
            "grid_row": null,
            "grid_template_areas": null,
            "grid_template_columns": null,
            "grid_template_rows": null,
            "height": null,
            "justify_content": null,
            "justify_items": null,
            "left": null,
            "margin": null,
            "max_height": null,
            "max_width": null,
            "min_height": null,
            "min_width": null,
            "object_fit": null,
            "object_position": null,
            "order": null,
            "overflow": null,
            "overflow_x": null,
            "overflow_y": null,
            "padding": null,
            "right": null,
            "top": null,
            "visibility": null,
            "width": null
          }
        },
        "aff0ae8dc3b04f918b95f7c00cef8f3e": {
          "model_module": "@jupyter-widgets/controls",
          "model_module_version": "1.5.0",
          "model_name": "HTMLModel",
          "state": {
            "_dom_classes": [],
            "_model_module": "@jupyter-widgets/controls",
            "_model_module_version": "1.5.0",
            "_model_name": "HTMLModel",
            "_view_count": null,
            "_view_module": "@jupyter-widgets/controls",
            "_view_module_version": "1.5.0",
            "_view_name": "HTMLView",
            "description": "",
            "description_tooltip": null,
            "layout": "IPY_MODEL_95ee22912c4042d294888c0ab07ff902",
            "placeholder": "​",
            "style": "IPY_MODEL_e7743bd1602d41c2b0e199c1b673895a",
            "value": " 9912422/9912422 [00:00&lt;00:00, 11722899.96it/s]"
          }
        },
        "ca5fbab5863540b797f897fd5f4edc26": {
          "model_module": "@jupyter-widgets/base",
          "model_module_version": "1.2.0",
          "model_name": "LayoutModel",
          "state": {
            "_model_module": "@jupyter-widgets/base",
            "_model_module_version": "1.2.0",
            "_model_name": "LayoutModel",
            "_view_count": null,
            "_view_module": "@jupyter-widgets/base",
            "_view_module_version": "1.2.0",
            "_view_name": "LayoutView",
            "align_content": null,
            "align_items": null,
            "align_self": null,
            "border": null,
            "bottom": null,
            "display": null,
            "flex": null,
            "flex_flow": null,
            "grid_area": null,
            "grid_auto_columns": null,
            "grid_auto_flow": null,
            "grid_auto_rows": null,
            "grid_column": null,
            "grid_gap": null,
            "grid_row": null,
            "grid_template_areas": null,
            "grid_template_columns": null,
            "grid_template_rows": null,
            "height": null,
            "justify_content": null,
            "justify_items": null,
            "left": null,
            "margin": null,
            "max_height": null,
            "max_width": null,
            "min_height": null,
            "min_width": null,
            "object_fit": null,
            "object_position": null,
            "order": null,
            "overflow": null,
            "overflow_x": null,
            "overflow_y": null,
            "padding": null,
            "right": null,
            "top": null,
            "visibility": null,
            "width": null
          }
        },
        "ccf8ae894d6e462681e228e85e6ebab0": {
          "model_module": "@jupyter-widgets/base",
          "model_module_version": "1.2.0",
          "model_name": "LayoutModel",
          "state": {
            "_model_module": "@jupyter-widgets/base",
            "_model_module_version": "1.2.0",
            "_model_name": "LayoutModel",
            "_view_count": null,
            "_view_module": "@jupyter-widgets/base",
            "_view_module_version": "1.2.0",
            "_view_name": "LayoutView",
            "align_content": null,
            "align_items": null,
            "align_self": null,
            "border": null,
            "bottom": null,
            "display": null,
            "flex": null,
            "flex_flow": null,
            "grid_area": null,
            "grid_auto_columns": null,
            "grid_auto_flow": null,
            "grid_auto_rows": null,
            "grid_column": null,
            "grid_gap": null,
            "grid_row": null,
            "grid_template_areas": null,
            "grid_template_columns": null,
            "grid_template_rows": null,
            "height": null,
            "justify_content": null,
            "justify_items": null,
            "left": null,
            "margin": null,
            "max_height": null,
            "max_width": null,
            "min_height": null,
            "min_width": null,
            "object_fit": null,
            "object_position": null,
            "order": null,
            "overflow": null,
            "overflow_x": null,
            "overflow_y": null,
            "padding": null,
            "right": null,
            "top": null,
            "visibility": null,
            "width": null
          }
        },
        "d6f46c21255f4984aeabf3c4e48b3916": {
          "model_module": "@jupyter-widgets/base",
          "model_module_version": "1.2.0",
          "model_name": "LayoutModel",
          "state": {
            "_model_module": "@jupyter-widgets/base",
            "_model_module_version": "1.2.0",
            "_model_name": "LayoutModel",
            "_view_count": null,
            "_view_module": "@jupyter-widgets/base",
            "_view_module_version": "1.2.0",
            "_view_name": "LayoutView",
            "align_content": null,
            "align_items": null,
            "align_self": null,
            "border": null,
            "bottom": null,
            "display": null,
            "flex": null,
            "flex_flow": null,
            "grid_area": null,
            "grid_auto_columns": null,
            "grid_auto_flow": null,
            "grid_auto_rows": null,
            "grid_column": null,
            "grid_gap": null,
            "grid_row": null,
            "grid_template_areas": null,
            "grid_template_columns": null,
            "grid_template_rows": null,
            "height": null,
            "justify_content": null,
            "justify_items": null,
            "left": null,
            "margin": null,
            "max_height": null,
            "max_width": null,
            "min_height": null,
            "min_width": null,
            "object_fit": null,
            "object_position": null,
            "order": null,
            "overflow": null,
            "overflow_x": null,
            "overflow_y": null,
            "padding": null,
            "right": null,
            "top": null,
            "visibility": null,
            "width": null
          }
        },
        "d7eea7f097134ec0bb1a8b4c8675ea84": {
          "model_module": "@jupyter-widgets/base",
          "model_module_version": "1.2.0",
          "model_name": "LayoutModel",
          "state": {
            "_model_module": "@jupyter-widgets/base",
            "_model_module_version": "1.2.0",
            "_model_name": "LayoutModel",
            "_view_count": null,
            "_view_module": "@jupyter-widgets/base",
            "_view_module_version": "1.2.0",
            "_view_name": "LayoutView",
            "align_content": null,
            "align_items": null,
            "align_self": null,
            "border": null,
            "bottom": null,
            "display": null,
            "flex": null,
            "flex_flow": null,
            "grid_area": null,
            "grid_auto_columns": null,
            "grid_auto_flow": null,
            "grid_auto_rows": null,
            "grid_column": null,
            "grid_gap": null,
            "grid_row": null,
            "grid_template_areas": null,
            "grid_template_columns": null,
            "grid_template_rows": null,
            "height": null,
            "justify_content": null,
            "justify_items": null,
            "left": null,
            "margin": null,
            "max_height": null,
            "max_width": null,
            "min_height": null,
            "min_width": null,
            "object_fit": null,
            "object_position": null,
            "order": null,
            "overflow": null,
            "overflow_x": null,
            "overflow_y": null,
            "padding": null,
            "right": null,
            "top": null,
            "visibility": null,
            "width": null
          }
        },
        "e29b42787dec41dbbb0429f980a6e97f": {
          "model_module": "@jupyter-widgets/controls",
          "model_module_version": "1.5.0",
          "model_name": "DescriptionStyleModel",
          "state": {
            "_model_module": "@jupyter-widgets/controls",
            "_model_module_version": "1.5.0",
            "_model_name": "DescriptionStyleModel",
            "_view_count": null,
            "_view_module": "@jupyter-widgets/base",
            "_view_module_version": "1.2.0",
            "_view_name": "StyleView",
            "description_width": ""
          }
        },
        "e3724371bbd442da88d7edaf44beddd2": {
          "model_module": "@jupyter-widgets/controls",
          "model_module_version": "1.5.0",
          "model_name": "DescriptionStyleModel",
          "state": {
            "_model_module": "@jupyter-widgets/controls",
            "_model_module_version": "1.5.0",
            "_model_name": "DescriptionStyleModel",
            "_view_count": null,
            "_view_module": "@jupyter-widgets/base",
            "_view_module_version": "1.2.0",
            "_view_name": "StyleView",
            "description_width": ""
          }
        },
        "e7743bd1602d41c2b0e199c1b673895a": {
          "model_module": "@jupyter-widgets/controls",
          "model_module_version": "1.5.0",
          "model_name": "DescriptionStyleModel",
          "state": {
            "_model_module": "@jupyter-widgets/controls",
            "_model_module_version": "1.5.0",
            "_model_name": "DescriptionStyleModel",
            "_view_count": null,
            "_view_module": "@jupyter-widgets/base",
            "_view_module_version": "1.2.0",
            "_view_name": "StyleView",
            "description_width": ""
          }
        },
        "eaf9a51d40334de0a71a14fc0fdc95f0": {
          "model_module": "@jupyter-widgets/base",
          "model_module_version": "1.2.0",
          "model_name": "LayoutModel",
          "state": {
            "_model_module": "@jupyter-widgets/base",
            "_model_module_version": "1.2.0",
            "_model_name": "LayoutModel",
            "_view_count": null,
            "_view_module": "@jupyter-widgets/base",
            "_view_module_version": "1.2.0",
            "_view_name": "LayoutView",
            "align_content": null,
            "align_items": null,
            "align_self": null,
            "border": null,
            "bottom": null,
            "display": null,
            "flex": null,
            "flex_flow": null,
            "grid_area": null,
            "grid_auto_columns": null,
            "grid_auto_flow": null,
            "grid_auto_rows": null,
            "grid_column": null,
            "grid_gap": null,
            "grid_row": null,
            "grid_template_areas": null,
            "grid_template_columns": null,
            "grid_template_rows": null,
            "height": null,
            "justify_content": null,
            "justify_items": null,
            "left": null,
            "margin": null,
            "max_height": null,
            "max_width": null,
            "min_height": null,
            "min_width": null,
            "object_fit": null,
            "object_position": null,
            "order": null,
            "overflow": null,
            "overflow_x": null,
            "overflow_y": null,
            "padding": null,
            "right": null,
            "top": null,
            "visibility": null,
            "width": null
          }
        },
        "ec139f8334a145d1bebc8c0e1fac43cb": {
          "model_module": "@jupyter-widgets/controls",
          "model_module_version": "1.5.0",
          "model_name": "HTMLModel",
          "state": {
            "_dom_classes": [],
            "_model_module": "@jupyter-widgets/controls",
            "_model_module_version": "1.5.0",
            "_model_name": "HTMLModel",
            "_view_count": null,
            "_view_module": "@jupyter-widgets/controls",
            "_view_module_version": "1.5.0",
            "_view_name": "HTMLView",
            "description": "",
            "description_tooltip": null,
            "layout": "IPY_MODEL_770056e87b7a47c4abd12e90200f40d7",
            "placeholder": "​",
            "style": "IPY_MODEL_e3724371bbd442da88d7edaf44beddd2",
            "value": " 1648877/1648877 [00:00&lt;00:00, 7450284.07it/s]"
          }
        },
        "f45150ef52de4a89a48699427b35ac01": {
          "model_module": "@jupyter-widgets/controls",
          "model_module_version": "1.5.0",
          "model_name": "HTMLModel",
          "state": {
            "_dom_classes": [],
            "_model_module": "@jupyter-widgets/controls",
            "_model_module_version": "1.5.0",
            "_model_name": "HTMLModel",
            "_view_count": null,
            "_view_module": "@jupyter-widgets/controls",
            "_view_module_version": "1.5.0",
            "_view_name": "HTMLView",
            "description": "",
            "description_tooltip": null,
            "layout": "IPY_MODEL_af1219cab2264e1f90ba994cae276f14",
            "placeholder": "​",
            "style": "IPY_MODEL_4c085ea539ad462caf7f19fe8621a29a",
            "value": "100%"
          }
        },
        "f65e7ecce593428f8501331c266cf55a": {
          "model_module": "@jupyter-widgets/base",
          "model_module_version": "1.2.0",
          "model_name": "LayoutModel",
          "state": {
            "_model_module": "@jupyter-widgets/base",
            "_model_module_version": "1.2.0",
            "_model_name": "LayoutModel",
            "_view_count": null,
            "_view_module": "@jupyter-widgets/base",
            "_view_module_version": "1.2.0",
            "_view_name": "LayoutView",
            "align_content": null,
            "align_items": null,
            "align_self": null,
            "border": null,
            "bottom": null,
            "display": null,
            "flex": null,
            "flex_flow": null,
            "grid_area": null,
            "grid_auto_columns": null,
            "grid_auto_flow": null,
            "grid_auto_rows": null,
            "grid_column": null,
            "grid_gap": null,
            "grid_row": null,
            "grid_template_areas": null,
            "grid_template_columns": null,
            "grid_template_rows": null,
            "height": null,
            "justify_content": null,
            "justify_items": null,
            "left": null,
            "margin": null,
            "max_height": null,
            "max_width": null,
            "min_height": null,
            "min_width": null,
            "object_fit": null,
            "object_position": null,
            "order": null,
            "overflow": null,
            "overflow_x": null,
            "overflow_y": null,
            "padding": null,
            "right": null,
            "top": null,
            "visibility": null,
            "width": null
          }
        },
        "fb42f877e30f4191a5fd73ebff809c0a": {
          "model_module": "@jupyter-widgets/controls",
          "model_module_version": "1.5.0",
          "model_name": "HBoxModel",
          "state": {
            "_dom_classes": [],
            "_model_module": "@jupyter-widgets/controls",
            "_model_module_version": "1.5.0",
            "_model_name": "HBoxModel",
            "_view_count": null,
            "_view_module": "@jupyter-widgets/controls",
            "_view_module_version": "1.5.0",
            "_view_name": "HBoxView",
            "box_style": "",
            "children": [
              "IPY_MODEL_2baf867c74684a668949157f860d787f",
              "IPY_MODEL_5fa711f977be4cb4bff6f05ed34f1107",
              "IPY_MODEL_1253e590ac1c48caaf352806b6945636"
            ],
            "layout": "IPY_MODEL_eaf9a51d40334de0a71a14fc0fdc95f0"
          }
        }
      }
    }
  },
  "nbformat": 4,
  "nbformat_minor": 0
}
