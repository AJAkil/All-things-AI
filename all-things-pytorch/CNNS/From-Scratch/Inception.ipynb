{
 "cells": [
  {
   "cell_type": "code",
   "execution_count": 1,
   "metadata": {},
   "outputs": [
    {
     "name": "stderr",
     "output_type": "stream",
     "text": [
      "/home/akil/miniconda3/envs/torch/lib/python3.10/site-packages/tqdm/auto.py:22: TqdmWarning: IProgress not found. Please update jupyter and ipywidgets. See https://ipywidgets.readthedocs.io/en/stable/user_install.html\n",
      "  from .autonotebook import tqdm as notebook_tqdm\n"
     ]
    }
   ],
   "source": [
    "\n",
    "import torch\n",
    "import torch.nn as nn"
   ]
  },
  {
   "cell_type": "code",
   "execution_count": 2,
   "metadata": {},
   "outputs": [
    {
     "data": {
      "text/plain": [
       "device(type='cuda')"
      ]
     },
     "execution_count": 2,
     "metadata": {},
     "output_type": "execute_result"
    }
   ],
   "source": [
    "device = torch.device(\"cuda\" if torch.cuda.is_available() else \"cpu\")\n",
    "device"
   ]
  },
  {
   "cell_type": "code",
   "execution_count": 3,
   "metadata": {},
   "outputs": [],
   "source": [
    "class ConvBlock(nn.Module):\n",
    "    def __init__(self, in_channels, output_channels, kernel, stride, padding, debug=False):\n",
    "        super(ConvBlock, self).__init__()\n",
    "        self.conv = nn.Conv2d(in_channels, output_channels, kernel, stride, padding)\n",
    "        self.batchNorm = nn.BatchNorm2d(output_channels)\n",
    "        self.ReLU = nn.ReLU()\n",
    "        self.debug = debug\n",
    "        self.kernel = kernel\n",
    "    \n",
    "    def forward(self, x):\n",
    "        if self.debug:\n",
    "            print(f'Shape Before Convolution: {x.shape}')\n",
    "        \n",
    "        x = self.conv(x)\n",
    "        if self.debug:\n",
    "            print(f'Shape After Convolution with {self.kernel} x {self.kernel}: {x.shape}')\n",
    "        \n",
    "        x = self.batchNorm(x)\n",
    "        \n",
    "        x = self.ReLU(x)\n",
    "        \n",
    "        return x"
   ]
  },
  {
   "cell_type": "code",
   "execution_count": 4,
   "metadata": {},
   "outputs": [],
   "source": [
    "class InceptionBlock(nn.Module):\n",
    "    def __init__(self, input_channels, output_channel_list):\n",
    "        super(InceptionBlock, self).__init__()\n",
    "        self.path_1 = ConvBlock(input_channels, output_channel_list[0],1, 1, 0, False)\n",
    "        \n",
    "        self.path_2 = nn.Sequential(\n",
    "            ConvBlock(input_channels, output_channel_list[1], 1, 1, 0, False),\n",
    "            ConvBlock(output_channel_list[1], output_channel_list[2], 3, 1, 1, False)\n",
    "        )\n",
    "        \n",
    "        self.path_3 = nn.Sequential(\n",
    "            ConvBlock(input_channels, output_channel_list[3], 1, 1, 0, False),\n",
    "            ConvBlock(output_channel_list[3], output_channel_list[4], 5, 1, 2, False)\n",
    "        )\n",
    "        \n",
    "        self.path_4 = nn.Sequential(\n",
    "            nn.MaxPool2d(3, 1, 1),\n",
    "            ConvBlock(input_channels, output_channel_list[5], 1, 1, 0, False)\n",
    "        )\n",
    "        \n",
    "    def forward(self, x):\n",
    "        a = self.path_1(x)\n",
    "        b = self.path_2(x) \n",
    "        c = self.path_3(x) \n",
    "        d = self.path_4(x)\n",
    "        \n",
    "        # print(a.shape)\n",
    "        # print(b.shape)\n",
    "        # print(c.shape)\n",
    "        # print(d.shape)\n",
    "        \n",
    "        concatenated_tensor = torch.cat((a, b, c, d), dim=1)\n",
    "        #print(f'Shape After Concatenation {concatenated_tensor.shape}')\n",
    "        \n",
    "        return concatenated_tensor"
   ]
  },
  {
   "cell_type": "code",
   "execution_count": 5,
   "metadata": {},
   "outputs": [
    {
     "data": {
      "text/plain": [
       "torch.Size([32, 256, 224, 224])"
      ]
     },
     "execution_count": 5,
     "metadata": {},
     "output_type": "execute_result"
    }
   ],
   "source": [
    "InceptionBlock(3, [64, 96, 128, 16, 32, 32])(torch.randn(32, 3, 224, 224)).to(device).shape"
   ]
  },
  {
   "cell_type": "code",
   "execution_count": 6,
   "metadata": {},
   "outputs": [],
   "source": [
    "class GoogLeNet(nn.Module):\n",
    "    def __init__(self, input_channels):\n",
    "        super(GoogLeNet, self).__init__()\n",
    "        \n",
    "        self.conv1    = ConvBlock(input_channels, 64, 7, 2, 3)\n",
    "        self.maxpool1 = nn.MaxPool2d(3, 2, 1)\n",
    "        self.conv2    = ConvBlock(64, 192, 3, 1, 1)\n",
    "        self.maxpool2 = nn. MaxPool2d(3, 2, 1)\n",
    "        \n",
    "        self.inception3a = InceptionBlock(192, [64, 96, 128, 16, 32, 32])\n",
    "        self.inception3b = InceptionBlock(256, [128, 128, 192, 32, 96, 64])\n",
    "        self.maxpool3    = nn.MaxPool2d(3, 2, 1)\n",
    "        \n",
    "        self.inception4a = InceptionBlock(480, [192, 96, 208, 16, 48, 64])\n",
    "        self.inception4b = InceptionBlock(512, [160, 112, 224, 24, 64, 64])\n",
    "        self.inception4c = InceptionBlock(512, [128, 128, 256, 24, 64, 64])\n",
    "        self.inception4d = InceptionBlock(512, [112, 144, 288, 32, 64, 64])\n",
    "        self.inception4e = InceptionBlock(528, [256, 160, 320, 32, 128, 128])\n",
    "        self.maxpool4    = nn.MaxPool2d(3, 2, 1)\n",
    "        \n",
    "        self.inception5a = InceptionBlock(832, [256, 160, 320, 32, 128, 128])\n",
    "        self.inception5b = InceptionBlock(832, [384, 192, 384, 48, 128, 128])\n",
    "        \n",
    "        self.avgPool     = nn.AvgPool2d(7, 1)\n",
    "        self.dropout     = nn.Dropout(p=0.4)\n",
    "        self.linear       = nn.Linear(1024, 1000)\n",
    "    \n",
    "    def forward(self, x):\n",
    "        x = self.conv1(x)\n",
    "        x = self.maxpool1(x)\n",
    "        x = self.conv2(x)\n",
    "        x = self.maxpool2(x)\n",
    "        \n",
    "        x = self.inception3a(x)\n",
    "        x = self.inception3b(x)\n",
    "        x = self.maxpool3(x)\n",
    "        x = self.inception4a(x)\n",
    "        x = self.inception4b(x)\n",
    "        x = self.inception4c(x)\n",
    "        x = self.inception4d(x)\n",
    "        x = self.inception4e(x)\n",
    "        x = self.maxpool4(x)\n",
    "        \n",
    "        x = self.inception5a(x)\n",
    "        x = self.inception5b(x)\n",
    "        \n",
    "        x = self.avgPool(x)\n",
    "        x = self.dropout(x)\n",
    "        x = x.reshape(x.shape[0], -1)\n",
    "        x = self.linear(x)\n",
    "        \n",
    "        return x\n",
    "                "
   ]
  },
  {
   "cell_type": "code",
   "execution_count": 8,
   "metadata": {},
   "outputs": [
    {
     "name": "stdout",
     "output_type": "stream",
     "text": [
      "torch.Size([32, 1000])\n"
     ]
    }
   ],
   "source": [
    "googleNet = GoogLeNet(3)\n",
    "y = googleNet(torch.randn(32, 3, 224, 224)).to(\"cuda\")\n",
    "print(y.size())"
   ]
  },
  {
   "cell_type": "code",
   "execution_count": 17,
   "metadata": {},
   "outputs": [
    {
     "data": {
      "text/plain": [
       "torch.Size([28, 28, 192])"
      ]
     },
     "execution_count": 17,
     "metadata": {},
     "output_type": "execute_result"
    }
   ],
   "source": [
    "x = torch.FloatTensor(28,28, 64)\n",
    "y = torch.FloatTensor(28,28, 128)\n",
    "\n",
    "torch.cat((x, y) , dim=-1).shape\n"
   ]
  }
 ],
 "metadata": {
  "kernelspec": {
   "display_name": "torch",
   "language": "python",
   "name": "python3"
  },
  "language_info": {
   "codemirror_mode": {
    "name": "ipython",
    "version": 3
   },
   "file_extension": ".py",
   "mimetype": "text/x-python",
   "name": "python",
   "nbconvert_exporter": "python",
   "pygments_lexer": "ipython3",
   "version": "3.10.9"
  },
  "orig_nbformat": 4,
  "vscode": {
   "interpreter": {
    "hash": "a130be47778c8b0b395084eb2ff2c730ca43d4ba8c6593667b6bbb9e5c36be9b"
   }
  }
 },
 "nbformat": 4,
 "nbformat_minor": 2
}
