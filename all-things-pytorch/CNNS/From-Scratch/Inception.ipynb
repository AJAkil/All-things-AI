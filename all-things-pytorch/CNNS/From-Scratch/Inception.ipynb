{
 "cells": [
  {
   "cell_type": "code",
   "execution_count": 1,
   "metadata": {},
   "outputs": [
    {
     "name": "stderr",
     "output_type": "stream",
     "text": [
      "/home/akil/miniconda3/envs/torch/lib/python3.10/site-packages/tqdm/auto.py:22: TqdmWarning: IProgress not found. Please update jupyter and ipywidgets. See https://ipywidgets.readthedocs.io/en/stable/user_install.html\n",
      "  from .autonotebook import tqdm as notebook_tqdm\n"
     ]
    }
   ],
   "source": [
    "\n",
    "import torch\n",
    "import torch.nn as nn"
   ]
  },
  {
   "cell_type": "code",
   "execution_count": 2,
   "metadata": {},
   "outputs": [
    {
     "data": {
      "text/plain": [
       "device(type='cuda')"
      ]
     },
     "execution_count": 2,
     "metadata": {},
     "output_type": "execute_result"
    }
   ],
   "source": [
    "device = torch.device(\"cuda\" if torch.cuda.is_available() else \"cpu\")\n",
    "device"
   ]
  },
  {
   "cell_type": "code",
   "execution_count": 4,
   "metadata": {},
   "outputs": [],
   "source": [
    "class ConvBlock(nn.Module):\n",
    "    def __init__(self, in_channels, output_channels, kernel, stride, padding, debug=False):\n",
    "        super(ConvBlock, self).__init__()\n",
    "        self.conv = nn.Conv2d(in_channels, output_channels, kernel, stride, padding)\n",
    "        self.batchNorm = nn.BatchNorm2d(output_channels)\n",
    "        self.ReLU = nn.ReLU()\n",
    "        self.debug = debug\n",
    "        self.kernel = kernel\n",
    "    \n",
    "    def forward(self, x):\n",
    "        if self.debug:\n",
    "            print(f'Shape Before Convolution: {x.shape}')\n",
    "        \n",
    "        x = self.conv(x)\n",
    "        if self.debug:\n",
    "            print(f'Shape After Convolution with {self.kernel} x {self.kernel}: {x.shape}')\n",
    "        \n",
    "        x = self.batchNorm(x)\n",
    "        \n",
    "        x = self.ReLU(x)\n",
    "        \n",
    "        return x"
   ]
  },
  {
   "cell_type": "code",
   "execution_count": 5,
   "metadata": {},
   "outputs": [],
   "source": [
    "class InceptionBlock(nn.Module):\n",
    "    def __init__(self, input_channels, output_channel_list):\n",
    "        super(InceptionBlock, self).__init__()\n",
    "        self.path_1 = ConvBlock(input_channels, output_channel_list[0],1, 1, 0, True)\n",
    "        \n",
    "        self.path_2 = nn.Sequential(\n",
    "            ConvBlock(input_channels, output_channel_list[1], 1, 1, 0, True),\n",
    "            ConvBlock(output_channel_list[1], output_channel_list[2], 3, 1, 1, True)\n",
    "        )\n",
    "        \n",
    "        self.path_3 = nn.Sequential(\n",
    "            ConvBlock(input_channels, output_channel_list[3], 1, 1, 0, True),\n",
    "            ConvBlock(output_channel_list[3], output_channel_list[4], 5, 1, 2, True)\n",
    "        )\n",
    "        \n",
    "        self.path_4 = nn.Sequential(\n",
    "            nn.MaxPool2d(3, 1, 1),\n",
    "            ConvBlock(input_channels, output_channel_list[5], 1, 1, 0, True)\n",
    "        )\n",
    "        \n",
    "    def forward(self, x):\n",
    "        a = self.path_1(x)\n",
    "        b = self.path_2(x) \n",
    "        c = self.path_3(x) \n",
    "        d = self.path_4(x)\n",
    "        \n",
    "        print(a.shape)\n",
    "        print(b.shape)\n",
    "        print(c.shape)\n",
    "        print(d.shape)\n",
    "        \n",
    "        concatenated_tensor = torch.cat((a, b, c, d), dim=1)\n",
    "        print(f'Shape After Concatenation {concatenated_tensor.shape}')\n",
    "        \n",
    "        return concatenated_tensor"
   ]
  },
  {
   "cell_type": "code",
   "execution_count": 6,
   "metadata": {},
   "outputs": [
    {
     "name": "stdout",
     "output_type": "stream",
     "text": [
      "Shape Before Convolution: torch.Size([32, 3, 224, 224])\n",
      "Shape After Convolution with 1 x 1: torch.Size([32, 64, 224, 224])\n",
      "Shape Before Convolution: torch.Size([32, 3, 224, 224])\n",
      "Shape After Convolution with 1 x 1: torch.Size([32, 96, 224, 224])\n",
      "Shape Before Convolution: torch.Size([32, 96, 224, 224])\n",
      "Shape After Convolution with 3 x 3: torch.Size([32, 128, 224, 224])\n",
      "Shape Before Convolution: torch.Size([32, 3, 224, 224])\n",
      "Shape After Convolution with 1 x 1: torch.Size([32, 16, 224, 224])\n",
      "Shape Before Convolution: torch.Size([32, 16, 224, 224])\n",
      "Shape After Convolution with 5 x 5: torch.Size([32, 32, 224, 224])\n",
      "Shape Before Convolution: torch.Size([32, 3, 224, 224])\n",
      "Shape After Convolution with 1 x 1: torch.Size([32, 32, 224, 224])\n",
      "torch.Size([32, 64, 224, 224])\n",
      "torch.Size([32, 128, 224, 224])\n",
      "torch.Size([32, 32, 224, 224])\n",
      "torch.Size([32, 32, 224, 224])\n",
      "Shape After Concatenation torch.Size([32, 256, 224, 224])\n"
     ]
    },
    {
     "data": {
      "text/plain": [
       "torch.Size([32, 256, 224, 224])"
      ]
     },
     "execution_count": 6,
     "metadata": {},
     "output_type": "execute_result"
    }
   ],
   "source": [
    "InceptionBlock(3, [64, 96, 128, 16, 32, 32])(torch.randn(32, 3, 224, 224)).to(device).shape"
   ]
  },
  {
   "cell_type": "code",
   "execution_count": null,
   "metadata": {},
   "outputs": [],
   "source": [
    "class GoogLeNet(nn.Module):\n",
    "    def __init__(self, input_channels, output_channel_list):\n",
    "        pass"
   ]
  },
  {
   "cell_type": "code",
   "execution_count": null,
   "metadata": {},
   "outputs": [],
   "source": [
    "inception_block_out_channels = [\n",
    "    out_1_1,\n",
    "    out_red_3_3,\n",
    "    out_3_3,\n",
    "    out_red_5_5,\n",
    "    out_5_5,\n",
    "    out_pool_proj\n",
    "]"
   ]
  },
  {
   "cell_type": "code",
   "execution_count": 17,
   "metadata": {},
   "outputs": [
    {
     "data": {
      "text/plain": [
       "torch.Size([28, 28, 192])"
      ]
     },
     "execution_count": 17,
     "metadata": {},
     "output_type": "execute_result"
    }
   ],
   "source": [
    "x = torch.FloatTensor(28,28, 64)\n",
    "y = torch.FloatTensor(28,28, 128)\n",
    "\n",
    "torch.cat((x, y) , dim=-1).shape\n"
   ]
  },
  {
   "cell_type": "code",
   "execution_count": null,
   "metadata": {},
   "outputs": [],
   "source": []
  }
 ],
 "metadata": {
  "kernelspec": {
   "display_name": "torch",
   "language": "python",
   "name": "python3"
  },
  "language_info": {
   "codemirror_mode": {
    "name": "ipython",
    "version": 3
   },
   "file_extension": ".py",
   "mimetype": "text/x-python",
   "name": "python",
   "nbconvert_exporter": "python",
   "pygments_lexer": "ipython3",
   "version": "3.10.9"
  },
  "orig_nbformat": 4,
  "vscode": {
   "interpreter": {
    "hash": "a130be47778c8b0b395084eb2ff2c730ca43d4ba8c6593667b6bbb9e5c36be9b"
   }
  }
 },
 "nbformat": 4,
 "nbformat_minor": 2
}
