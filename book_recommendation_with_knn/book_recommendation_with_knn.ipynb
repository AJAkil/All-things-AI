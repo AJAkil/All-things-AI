{
  "nbformat": 4,
  "nbformat_minor": 0,
  "metadata": {
    "kernelspec": {
      "display_name": "Python 3",
      "language": "python",
      "name": "python3"
    },
    "language_info": {
      "codemirror_mode": {
        "name": "ipython",
        "version": 3
      },
      "file_extension": ".py",
      "mimetype": "text/x-python",
      "name": "python",
      "nbconvert_exporter": "python",
      "pygments_lexer": "ipython3",
      "version": "3.6.5"
    },
    "colab": {
      "name": "book_recommendation_with_knn.ipynb",
      "provenance": [],
      "collapsed_sections": [],
      "include_colab_link": true
    }
  },
  "cells": [
    {
      "cell_type": "markdown",
      "metadata": {
        "id": "view-in-github",
        "colab_type": "text"
      },
      "source": [
        "<a href=\"https://colab.research.google.com/github/AJAkil/Book_recommendation/blob/master/book_recommendation_with_knn.ipynb\" target=\"_parent\"><img src=\"https://colab.research.google.com/assets/colab-badge.svg\" alt=\"Open In Colab\"/></a>"
      ]
    },
    {
      "cell_type": "markdown",
      "metadata": {
        "id": "YOdnVLe406K0",
        "colab_type": "text"
      },
      "source": [
        "# Book Recommendation Engine with KNN(5)\n",
        "### A simple Book recommendation Engine that can recommend 5 books based on the rating of the books."
      ]
    },
    {
      "cell_type": "code",
      "metadata": {
        "id": "Y1onB6kUvo4Z",
        "colab_type": "code",
        "colab": {}
      },
      "source": [
        "# import libraries (you may add additional imports but you may not have to)\n",
        "import numpy as np\n",
        "import pandas as pd\n",
        "from scipy.sparse import csr_matrix\n",
        "from sklearn.neighbors import NearestNeighbors\n",
        "import matplotlib.pyplot as plt"
      ],
      "execution_count": 169,
      "outputs": []
    },
    {
      "cell_type": "markdown",
      "metadata": {
        "id": "1QzFIKMU1JHb",
        "colab_type": "text"
      },
      "source": [
        "This project was a part of freecode camp so I collected the data from their cdn"
      ]
    },
    {
      "cell_type": "code",
      "metadata": {
        "id": "iAQGqqO_vo4d",
        "colab_type": "code",
        "colab": {
          "base_uri": "https://localhost:8080/",
          "height": 289
        },
        "outputId": "cab54c7a-2087-49ff-cce0-1193bb7df089"
      },
      "source": [
        "# get data files\n",
        "!wget https://cdn.freecodecamp.org/project-data/books/book-crossings.zip --no-check-certificate\n",
        "\n",
        "!unzip book-crossings.zip\n",
        "\n",
        "books_filename = 'BX-Books.csv'\n",
        "ratings_filename = 'BX-Book-Ratings.csv'"
      ],
      "execution_count": 170,
      "outputs": [
        {
          "output_type": "stream",
          "text": [
            "--2020-08-15 17:11:52--  https://cdn.freecodecamp.org/project-data/books/book-crossings.zip\n",
            "Resolving cdn.freecodecamp.org (cdn.freecodecamp.org)... 104.248.60.43, 159.65.216.232, 2604:a880:400:d1::89c:7001, ...\n",
            "Connecting to cdn.freecodecamp.org (cdn.freecodecamp.org)|104.248.60.43|:443... connected.\n",
            "HTTP request sent, awaiting response... 200 OK\n",
            "Length: 26085508 (25M) [application/zip]\n",
            "Saving to: ‘book-crossings.zip.1’\n",
            "\n",
            "book-crossings.zip. 100%[===================>]  24.88M  3.30MB/s    in 7.6s    \n",
            "\n",
            "2020-08-15 17:12:00 (3.28 MB/s) - ‘book-crossings.zip.1’ saved [26085508/26085508]\n",
            "\n",
            "Archive:  book-crossings.zip\n",
            "replace BX-Book-Ratings.csv? [y]es, [n]o, [A]ll, [N]one, [r]ename: n\n",
            "replace BX-Books.csv? [y]es, [n]o, [A]ll, [N]one, [r]ename: n\n",
            "replace BX-Users.csv? [y]es, [n]o, [A]ll, [N]one, [r]ename: n\n"
          ],
          "name": "stdout"
        }
      ]
    },
    {
      "cell_type": "markdown",
      "metadata": {
        "id": "j3xN14H81Spa",
        "colab_type": "text"
      },
      "source": [
        "# Loading and Merging the Dataframes"
      ]
    },
    {
      "cell_type": "code",
      "metadata": {
        "id": "NClILWOiEd6Q",
        "colab_type": "code",
        "colab": {}
      },
      "source": [
        "# import csv data into dataframes\n",
        "df_books = pd.read_csv(\n",
        "    books_filename,\n",
        "    encoding = \"ISO-8859-1\",\n",
        "    sep=\";\",\n",
        "    header=0,\n",
        "    names=['isbn', 'title', 'author'],\n",
        "    usecols=['isbn', 'title', 'author'],\n",
        "    dtype={'isbn': 'str', 'title': 'str', 'author': 'str'})\n",
        "\n",
        "df_ratings = pd.read_csv(\n",
        "    ratings_filename,\n",
        "    encoding = \"ISO-8859-1\",\n",
        "    sep=\";\",\n",
        "    header=0,\n",
        "    names=['user', 'isbn', 'rating'],\n",
        "    usecols=['user', 'isbn', 'rating'],\n",
        "    dtype={'user': 'int32', 'isbn': 'str', 'rating': 'float32'})"
      ],
      "execution_count": 171,
      "outputs": []
    },
    {
      "cell_type": "code",
      "metadata": {
        "id": "xAcXjkCFCh0A",
        "colab_type": "code",
        "colab": {
          "base_uri": "https://localhost:8080/",
          "height": 195
        },
        "outputId": "23254cb7-12ca-434d-ceba-bd38225413c8"
      },
      "source": [
        "# Exploring the data-frames\n",
        "df_books.head(5)"
      ],
      "execution_count": 172,
      "outputs": [
        {
          "output_type": "execute_result",
          "data": {
            "text/html": [
              "<div>\n",
              "<style scoped>\n",
              "    .dataframe tbody tr th:only-of-type {\n",
              "        vertical-align: middle;\n",
              "    }\n",
              "\n",
              "    .dataframe tbody tr th {\n",
              "        vertical-align: top;\n",
              "    }\n",
              "\n",
              "    .dataframe thead th {\n",
              "        text-align: right;\n",
              "    }\n",
              "</style>\n",
              "<table border=\"1\" class=\"dataframe\">\n",
              "  <thead>\n",
              "    <tr style=\"text-align: right;\">\n",
              "      <th></th>\n",
              "      <th>isbn</th>\n",
              "      <th>title</th>\n",
              "      <th>author</th>\n",
              "    </tr>\n",
              "  </thead>\n",
              "  <tbody>\n",
              "    <tr>\n",
              "      <th>0</th>\n",
              "      <td>0195153448</td>\n",
              "      <td>Classical Mythology</td>\n",
              "      <td>Mark P. O. Morford</td>\n",
              "    </tr>\n",
              "    <tr>\n",
              "      <th>1</th>\n",
              "      <td>0002005018</td>\n",
              "      <td>Clara Callan</td>\n",
              "      <td>Richard Bruce Wright</td>\n",
              "    </tr>\n",
              "    <tr>\n",
              "      <th>2</th>\n",
              "      <td>0060973129</td>\n",
              "      <td>Decision in Normandy</td>\n",
              "      <td>Carlo D'Este</td>\n",
              "    </tr>\n",
              "    <tr>\n",
              "      <th>3</th>\n",
              "      <td>0374157065</td>\n",
              "      <td>Flu: The Story of the Great Influenza Pandemic...</td>\n",
              "      <td>Gina Bari Kolata</td>\n",
              "    </tr>\n",
              "    <tr>\n",
              "      <th>4</th>\n",
              "      <td>0393045218</td>\n",
              "      <td>The Mummies of Urumchi</td>\n",
              "      <td>E. J. W. Barber</td>\n",
              "    </tr>\n",
              "  </tbody>\n",
              "</table>\n",
              "</div>"
            ],
            "text/plain": [
              "         isbn  ...                author\n",
              "0  0195153448  ...    Mark P. O. Morford\n",
              "1  0002005018  ...  Richard Bruce Wright\n",
              "2  0060973129  ...          Carlo D'Este\n",
              "3  0374157065  ...      Gina Bari Kolata\n",
              "4  0393045218  ...       E. J. W. Barber\n",
              "\n",
              "[5 rows x 3 columns]"
            ]
          },
          "metadata": {
            "tags": []
          },
          "execution_count": 172
        }
      ]
    },
    {
      "cell_type": "code",
      "metadata": {
        "id": "fxsu-Qy-Io1i",
        "colab_type": "code",
        "colab": {
          "base_uri": "https://localhost:8080/",
          "height": 195
        },
        "outputId": "c83eda66-cf71-4bf6-8f45-0525dd0c0382"
      },
      "source": [
        "df_ratings.head()"
      ],
      "execution_count": 173,
      "outputs": [
        {
          "output_type": "execute_result",
          "data": {
            "text/html": [
              "<div>\n",
              "<style scoped>\n",
              "    .dataframe tbody tr th:only-of-type {\n",
              "        vertical-align: middle;\n",
              "    }\n",
              "\n",
              "    .dataframe tbody tr th {\n",
              "        vertical-align: top;\n",
              "    }\n",
              "\n",
              "    .dataframe thead th {\n",
              "        text-align: right;\n",
              "    }\n",
              "</style>\n",
              "<table border=\"1\" class=\"dataframe\">\n",
              "  <thead>\n",
              "    <tr style=\"text-align: right;\">\n",
              "      <th></th>\n",
              "      <th>user</th>\n",
              "      <th>isbn</th>\n",
              "      <th>rating</th>\n",
              "    </tr>\n",
              "  </thead>\n",
              "  <tbody>\n",
              "    <tr>\n",
              "      <th>0</th>\n",
              "      <td>276725</td>\n",
              "      <td>034545104X</td>\n",
              "      <td>0.0</td>\n",
              "    </tr>\n",
              "    <tr>\n",
              "      <th>1</th>\n",
              "      <td>276726</td>\n",
              "      <td>0155061224</td>\n",
              "      <td>5.0</td>\n",
              "    </tr>\n",
              "    <tr>\n",
              "      <th>2</th>\n",
              "      <td>276727</td>\n",
              "      <td>0446520802</td>\n",
              "      <td>0.0</td>\n",
              "    </tr>\n",
              "    <tr>\n",
              "      <th>3</th>\n",
              "      <td>276729</td>\n",
              "      <td>052165615X</td>\n",
              "      <td>3.0</td>\n",
              "    </tr>\n",
              "    <tr>\n",
              "      <th>4</th>\n",
              "      <td>276729</td>\n",
              "      <td>0521795028</td>\n",
              "      <td>6.0</td>\n",
              "    </tr>\n",
              "  </tbody>\n",
              "</table>\n",
              "</div>"
            ],
            "text/plain": [
              "     user        isbn  rating\n",
              "0  276725  034545104X     0.0\n",
              "1  276726  0155061224     5.0\n",
              "2  276727  0446520802     0.0\n",
              "3  276729  052165615X     3.0\n",
              "4  276729  0521795028     6.0"
            ]
          },
          "metadata": {
            "tags": []
          },
          "execution_count": 173
        }
      ]
    },
    {
      "cell_type": "code",
      "metadata": {
        "id": "nvp4sf2FJJnn",
        "colab_type": "code",
        "colab": {}
      },
      "source": [
        "# Merging the data frames on the isbn column\n",
        "combined_df = pd.merge(df_books, df_ratings, on='isbn')\n",
        "\n",
        "combined_df.drop(['author'], axis=1, inplace=True)"
      ],
      "execution_count": 174,
      "outputs": []
    },
    {
      "cell_type": "code",
      "metadata": {
        "id": "83SS0AS-LVkL",
        "colab_type": "code",
        "colab": {
          "base_uri": "https://localhost:8080/",
          "height": 195
        },
        "outputId": "0ad90d7e-30cb-4d17-9878-98a02ff5249e"
      },
      "source": [
        "combined_df.head()"
      ],
      "execution_count": 175,
      "outputs": [
        {
          "output_type": "execute_result",
          "data": {
            "text/html": [
              "<div>\n",
              "<style scoped>\n",
              "    .dataframe tbody tr th:only-of-type {\n",
              "        vertical-align: middle;\n",
              "    }\n",
              "\n",
              "    .dataframe tbody tr th {\n",
              "        vertical-align: top;\n",
              "    }\n",
              "\n",
              "    .dataframe thead th {\n",
              "        text-align: right;\n",
              "    }\n",
              "</style>\n",
              "<table border=\"1\" class=\"dataframe\">\n",
              "  <thead>\n",
              "    <tr style=\"text-align: right;\">\n",
              "      <th></th>\n",
              "      <th>isbn</th>\n",
              "      <th>title</th>\n",
              "      <th>user</th>\n",
              "      <th>rating</th>\n",
              "    </tr>\n",
              "  </thead>\n",
              "  <tbody>\n",
              "    <tr>\n",
              "      <th>0</th>\n",
              "      <td>0195153448</td>\n",
              "      <td>Classical Mythology</td>\n",
              "      <td>2</td>\n",
              "      <td>0.0</td>\n",
              "    </tr>\n",
              "    <tr>\n",
              "      <th>1</th>\n",
              "      <td>0002005018</td>\n",
              "      <td>Clara Callan</td>\n",
              "      <td>8</td>\n",
              "      <td>5.0</td>\n",
              "    </tr>\n",
              "    <tr>\n",
              "      <th>2</th>\n",
              "      <td>0002005018</td>\n",
              "      <td>Clara Callan</td>\n",
              "      <td>11400</td>\n",
              "      <td>0.0</td>\n",
              "    </tr>\n",
              "    <tr>\n",
              "      <th>3</th>\n",
              "      <td>0002005018</td>\n",
              "      <td>Clara Callan</td>\n",
              "      <td>11676</td>\n",
              "      <td>8.0</td>\n",
              "    </tr>\n",
              "    <tr>\n",
              "      <th>4</th>\n",
              "      <td>0002005018</td>\n",
              "      <td>Clara Callan</td>\n",
              "      <td>41385</td>\n",
              "      <td>0.0</td>\n",
              "    </tr>\n",
              "  </tbody>\n",
              "</table>\n",
              "</div>"
            ],
            "text/plain": [
              "         isbn                title   user  rating\n",
              "0  0195153448  Classical Mythology      2     0.0\n",
              "1  0002005018         Clara Callan      8     5.0\n",
              "2  0002005018         Clara Callan  11400     0.0\n",
              "3  0002005018         Clara Callan  11676     8.0\n",
              "4  0002005018         Clara Callan  41385     0.0"
            ]
          },
          "metadata": {
            "tags": []
          },
          "execution_count": 175
        }
      ]
    },
    {
      "cell_type": "code",
      "metadata": {
        "id": "El51mcBjMEcP",
        "colab_type": "code",
        "colab": {}
      },
      "source": [
        "len(combined_df)\n",
        "# dropping any row that has a null value\n",
        "combined_df.dropna(inplace=True)"
      ],
      "execution_count": 176,
      "outputs": []
    },
    {
      "cell_type": "markdown",
      "metadata": {
        "id": "hHyIi0nM1byz",
        "colab_type": "text"
      },
      "source": [
        "# Filtering the dataset based on number of ratings of book"
      ]
    },
    {
      "cell_type": "markdown",
      "metadata": {
        "id": "yCWM7d5fOrCo",
        "colab_type": "text"
      },
      "source": [
        "Since we have so many data in the data set, we may need to filter out books based on the total number of ratings. So we groupby the dataframe by title and find out the total number of rating for each of the unique books."
      ]
    },
    {
      "cell_type": "code",
      "metadata": {
        "id": "dJOpxNLMO7Z6",
        "colab_type": "code",
        "colab": {
          "base_uri": "https://localhost:8080/",
          "height": 195
        },
        "outputId": "876dee8d-f476-4969-8cc7-916872e72380"
      },
      "source": [
        "# we group by the booktilte and take total rating in account\n",
        "df_total_rating = (combined_df.groupby(by=['title'])['rating'].count().\n",
        "                   reset_index().\n",
        "                   rename(columns={'rating':'total_rating_count'})\n",
        "                   [['title','total_rating_count']]\n",
        "                   )\n",
        "\n",
        "df_total_rating.head()"
      ],
      "execution_count": 177,
      "outputs": [
        {
          "output_type": "execute_result",
          "data": {
            "text/html": [
              "<div>\n",
              "<style scoped>\n",
              "    .dataframe tbody tr th:only-of-type {\n",
              "        vertical-align: middle;\n",
              "    }\n",
              "\n",
              "    .dataframe tbody tr th {\n",
              "        vertical-align: top;\n",
              "    }\n",
              "\n",
              "    .dataframe thead th {\n",
              "        text-align: right;\n",
              "    }\n",
              "</style>\n",
              "<table border=\"1\" class=\"dataframe\">\n",
              "  <thead>\n",
              "    <tr style=\"text-align: right;\">\n",
              "      <th></th>\n",
              "      <th>title</th>\n",
              "      <th>total_rating_count</th>\n",
              "    </tr>\n",
              "  </thead>\n",
              "  <tbody>\n",
              "    <tr>\n",
              "      <th>0</th>\n",
              "      <td>A Light in the Storm: The Civil War Diary of ...</td>\n",
              "      <td>4</td>\n",
              "    </tr>\n",
              "    <tr>\n",
              "      <th>1</th>\n",
              "      <td>Always Have Popsicles</td>\n",
              "      <td>1</td>\n",
              "    </tr>\n",
              "    <tr>\n",
              "      <th>2</th>\n",
              "      <td>Apple Magic (The Collector's series)</td>\n",
              "      <td>1</td>\n",
              "    </tr>\n",
              "    <tr>\n",
              "      <th>3</th>\n",
              "      <td>Ask Lily (Young Women of Faith: Lily Series, ...</td>\n",
              "      <td>1</td>\n",
              "    </tr>\n",
              "    <tr>\n",
              "      <th>4</th>\n",
              "      <td>Beyond IBM: Leadership Marketing and Finance ...</td>\n",
              "      <td>1</td>\n",
              "    </tr>\n",
              "  </tbody>\n",
              "</table>\n",
              "</div>"
            ],
            "text/plain": [
              "                                               title  total_rating_count\n",
              "0   A Light in the Storm: The Civil War Diary of ...                   4\n",
              "1                              Always Have Popsicles                   1\n",
              "2               Apple Magic (The Collector's series)                   1\n",
              "3   Ask Lily (Young Women of Faith: Lily Series, ...                   1\n",
              "4   Beyond IBM: Leadership Marketing and Finance ...                   1"
            ]
          },
          "metadata": {
            "tags": []
          },
          "execution_count": 177
        }
      ]
    },
    {
      "cell_type": "markdown",
      "metadata": {
        "id": "mSON9_ks1lI9",
        "colab_type": "text"
      },
      "source": [
        "We then combine the original dataframe with the pivot table we constructed"
      ]
    },
    {
      "cell_type": "code",
      "metadata": {
        "id": "Y_cM3eDtSW3c",
        "colab_type": "code",
        "colab": {
          "base_uri": "https://localhost:8080/",
          "height": 195
        },
        "outputId": "ba8ee058-80bf-4d84-ad53-8d00374fd419"
      },
      "source": [
        "# We now combine this dataframe with our original one\n",
        "combined_new_df = combined_df.merge(df_total_rating, left_on='title', right_on='title', how='inner')\n",
        "combined_new_df.head()"
      ],
      "execution_count": 178,
      "outputs": [
        {
          "output_type": "execute_result",
          "data": {
            "text/html": [
              "<div>\n",
              "<style scoped>\n",
              "    .dataframe tbody tr th:only-of-type {\n",
              "        vertical-align: middle;\n",
              "    }\n",
              "\n",
              "    .dataframe tbody tr th {\n",
              "        vertical-align: top;\n",
              "    }\n",
              "\n",
              "    .dataframe thead th {\n",
              "        text-align: right;\n",
              "    }\n",
              "</style>\n",
              "<table border=\"1\" class=\"dataframe\">\n",
              "  <thead>\n",
              "    <tr style=\"text-align: right;\">\n",
              "      <th></th>\n",
              "      <th>isbn</th>\n",
              "      <th>title</th>\n",
              "      <th>user</th>\n",
              "      <th>rating</th>\n",
              "      <th>total_rating_count</th>\n",
              "    </tr>\n",
              "  </thead>\n",
              "  <tbody>\n",
              "    <tr>\n",
              "      <th>0</th>\n",
              "      <td>0195153448</td>\n",
              "      <td>Classical Mythology</td>\n",
              "      <td>2</td>\n",
              "      <td>0.0</td>\n",
              "      <td>2</td>\n",
              "    </tr>\n",
              "    <tr>\n",
              "      <th>1</th>\n",
              "      <td>0801319536</td>\n",
              "      <td>Classical Mythology</td>\n",
              "      <td>269782</td>\n",
              "      <td>7.0</td>\n",
              "      <td>2</td>\n",
              "    </tr>\n",
              "    <tr>\n",
              "      <th>2</th>\n",
              "      <td>0002005018</td>\n",
              "      <td>Clara Callan</td>\n",
              "      <td>8</td>\n",
              "      <td>5.0</td>\n",
              "      <td>14</td>\n",
              "    </tr>\n",
              "    <tr>\n",
              "      <th>3</th>\n",
              "      <td>0002005018</td>\n",
              "      <td>Clara Callan</td>\n",
              "      <td>11400</td>\n",
              "      <td>0.0</td>\n",
              "      <td>14</td>\n",
              "    </tr>\n",
              "    <tr>\n",
              "      <th>4</th>\n",
              "      <td>0002005018</td>\n",
              "      <td>Clara Callan</td>\n",
              "      <td>11676</td>\n",
              "      <td>8.0</td>\n",
              "      <td>14</td>\n",
              "    </tr>\n",
              "  </tbody>\n",
              "</table>\n",
              "</div>"
            ],
            "text/plain": [
              "         isbn                title    user  rating  total_rating_count\n",
              "0  0195153448  Classical Mythology       2     0.0                   2\n",
              "1  0801319536  Classical Mythology  269782     7.0                   2\n",
              "2  0002005018         Clara Callan       8     5.0                  14\n",
              "3  0002005018         Clara Callan   11400     0.0                  14\n",
              "4  0002005018         Clara Callan   11676     8.0                  14"
            ]
          },
          "metadata": {
            "tags": []
          },
          "execution_count": 178
        }
      ]
    },
    {
      "cell_type": "code",
      "metadata": {
        "id": "nq1dI42gUXYV",
        "colab_type": "code",
        "colab": {
          "base_uri": "https://localhost:8080/",
          "height": 170
        },
        "outputId": "e023c084-2bbc-475e-81c4-b938173940b6"
      },
      "source": [
        "# We search the descriptive statistics of the rating pivot table\n",
        "df_total_rating['total_rating_count'].describe()"
      ],
      "execution_count": 194,
      "outputs": [
        {
          "output_type": "execute_result",
          "data": {
            "text/plain": [
              "count    241090.000000\n",
              "mean          4.277137\n",
              "std          16.738045\n",
              "min           1.000000\n",
              "25%           1.000000\n",
              "50%           1.000000\n",
              "75%           3.000000\n",
              "max        2502.000000\n",
              "Name: total_rating_count, dtype: float64"
            ]
          },
          "metadata": {
            "tags": []
          },
          "execution_count": 194
        }
      ]
    },
    {
      "cell_type": "markdown",
      "metadata": {
        "id": "uGme-NGqVZzf",
        "colab_type": "text"
      },
      "source": [
        "So we see that the median book has been rated only once. So we need to explore the different quantiles to have an idea how to select the threshhold to filter rows based on total rating."
      ]
    },
    {
      "cell_type": "code",
      "metadata": {
        "id": "rzUxloDTVyFf",
        "colab_type": "code",
        "colab": {
          "base_uri": "https://localhost:8080/",
          "height": 85
        },
        "outputId": "83d7387b-f6c9-42a6-c1ab-f7f6ffa9ab0a"
      },
      "source": [
        "df_total_rating['total_rating_count'].quantile([.25,.5,.75])"
      ],
      "execution_count": 180,
      "outputs": [
        {
          "output_type": "execute_result",
          "data": {
            "text/plain": [
              "0.25    1.0\n",
              "0.50    1.0\n",
              "0.75    3.0\n",
              "Name: total_rating_count, dtype: float64"
            ]
          },
          "metadata": {
            "tags": []
          },
          "execution_count": 180
        }
      ]
    },
    {
      "cell_type": "markdown",
      "metadata": {
        "id": "Oasfeoxy15td",
        "colab_type": "text"
      },
      "source": [
        "Let's explore the upper quantile"
      ]
    },
    {
      "cell_type": "code",
      "metadata": {
        "id": "PDc-MOt-WK0Z",
        "colab_type": "code",
        "colab": {
          "base_uri": "https://localhost:8080/",
          "height": 221
        },
        "outputId": "ff2507e4-4429-40b6-9c63-5b993794047e"
      },
      "source": [
        "df_total_rating['total_rating_count'].quantile(np.arange(0.99,1,0.001))"
      ],
      "execution_count": 181,
      "outputs": [
        {
          "output_type": "execute_result",
          "data": {
            "text/plain": [
              "0.990      50.000\n",
              "0.991      54.000\n",
              "0.992      60.000\n",
              "0.993      66.000\n",
              "0.994      73.000\n",
              "0.995      83.000\n",
              "0.996      96.000\n",
              "0.997     117.000\n",
              "0.998     150.000\n",
              "0.999     220.911\n",
              "1.000    2502.000\n",
              "Name: total_rating_count, dtype: float64"
            ]
          },
          "metadata": {
            "tags": []
          },
          "execution_count": 181
        }
      ]
    },
    {
      "cell_type": "markdown",
      "metadata": {
        "id": "ApBFaAosXVt1",
        "colab_type": "text"
      },
      "source": [
        "So it seems that only a small portion of the data distribution has a higher number of rating. Particularly, 1% books have a rating 50 or more. So we can keep the threshold to be 100 for the total rating. This would reduce the size of our data set."
      ]
    },
    {
      "cell_type": "code",
      "metadata": {
        "id": "B_XFypWfWKy2",
        "colab_type": "code",
        "colab": {
          "base_uri": "https://localhost:8080/",
          "height": 34
        },
        "outputId": "8fb8ff3f-801d-431f-cffb-fbfbd32151e9"
      },
      "source": [
        "threshhold = 100\n",
        "combined_new_df = combined_new_df[combined_new_df['total_rating_count'] >= threshhold]\n",
        "len(combined_new_df)"
      ],
      "execution_count": 195,
      "outputs": [
        {
          "output_type": "execute_result",
          "data": {
            "text/plain": [
              "183799"
            ]
          },
          "metadata": {
            "tags": []
          },
          "execution_count": 195
        }
      ]
    },
    {
      "cell_type": "code",
      "metadata": {
        "id": "yME_6WsIcQlH",
        "colab_type": "code",
        "colab": {
          "base_uri": "https://localhost:8080/",
          "height": 197
        },
        "outputId": "65e0cba0-71da-4149-9b63-0e34b35167d4"
      },
      "source": [
        "combined_new_df.head()"
      ],
      "execution_count": 196,
      "outputs": [
        {
          "output_type": "execute_result",
          "data": {
            "text/html": [
              "<div>\n",
              "<style scoped>\n",
              "    .dataframe tbody tr th:only-of-type {\n",
              "        vertical-align: middle;\n",
              "    }\n",
              "\n",
              "    .dataframe tbody tr th {\n",
              "        vertical-align: top;\n",
              "    }\n",
              "\n",
              "    .dataframe thead th {\n",
              "        text-align: right;\n",
              "    }\n",
              "</style>\n",
              "<table border=\"1\" class=\"dataframe\">\n",
              "  <thead>\n",
              "    <tr style=\"text-align: right;\">\n",
              "      <th></th>\n",
              "      <th>isbn</th>\n",
              "      <th>title</th>\n",
              "      <th>user</th>\n",
              "      <th>rating</th>\n",
              "      <th>total_rating_count</th>\n",
              "    </tr>\n",
              "  </thead>\n",
              "  <tbody>\n",
              "    <tr>\n",
              "      <th>31</th>\n",
              "      <td>0399135782</td>\n",
              "      <td>The Kitchen God's Wife</td>\n",
              "      <td>8</td>\n",
              "      <td>0.0</td>\n",
              "      <td>311</td>\n",
              "    </tr>\n",
              "    <tr>\n",
              "      <th>32</th>\n",
              "      <td>0399135782</td>\n",
              "      <td>The Kitchen God's Wife</td>\n",
              "      <td>11676</td>\n",
              "      <td>9.0</td>\n",
              "      <td>311</td>\n",
              "    </tr>\n",
              "    <tr>\n",
              "      <th>33</th>\n",
              "      <td>0399135782</td>\n",
              "      <td>The Kitchen God's Wife</td>\n",
              "      <td>29526</td>\n",
              "      <td>9.0</td>\n",
              "      <td>311</td>\n",
              "    </tr>\n",
              "    <tr>\n",
              "      <th>34</th>\n",
              "      <td>0399135782</td>\n",
              "      <td>The Kitchen God's Wife</td>\n",
              "      <td>36836</td>\n",
              "      <td>0.0</td>\n",
              "      <td>311</td>\n",
              "    </tr>\n",
              "    <tr>\n",
              "      <th>35</th>\n",
              "      <td>0399135782</td>\n",
              "      <td>The Kitchen God's Wife</td>\n",
              "      <td>46398</td>\n",
              "      <td>9.0</td>\n",
              "      <td>311</td>\n",
              "    </tr>\n",
              "  </tbody>\n",
              "</table>\n",
              "</div>"
            ],
            "text/plain": [
              "          isbn                   title   user  rating  total_rating_count\n",
              "31  0399135782  The Kitchen God's Wife      8     0.0                 311\n",
              "32  0399135782  The Kitchen God's Wife  11676     9.0                 311\n",
              "33  0399135782  The Kitchen God's Wife  29526     9.0                 311\n",
              "34  0399135782  The Kitchen God's Wife  36836     0.0                 311\n",
              "35  0399135782  The Kitchen God's Wife  46398     9.0                 311"
            ]
          },
          "metadata": {
            "tags": []
          },
          "execution_count": 196
        }
      ]
    },
    {
      "cell_type": "markdown",
      "metadata": {
        "id": "-rX9duhQd4Or",
        "colab_type": "text"
      },
      "source": [
        "# Filtering the dataset based on number of user rating\n",
        "Since there are lot's of users with very low rating, so just like the previous book rating, we would like to filter the dataset based on the number of ratings given by the user. "
      ]
    },
    {
      "cell_type": "code",
      "metadata": {
        "id": "KoL-tZiRayrn",
        "colab_type": "code",
        "colab": {
          "base_uri": "https://localhost:8080/",
          "height": 197
        },
        "outputId": "424bd74e-ee86-41a7-8fac-44aec3576336"
      },
      "source": [
        "# We convert the user unique ratings to a data frame\n",
        "user_rating_count_df = combined_new_df['user'].value_counts().rename_axis('user').reset_index(name='counts')\n",
        "user_rating_count_df.head(5)"
      ],
      "execution_count": 184,
      "outputs": [
        {
          "output_type": "execute_result",
          "data": {
            "text/html": [
              "<div>\n",
              "<style scoped>\n",
              "    .dataframe tbody tr th:only-of-type {\n",
              "        vertical-align: middle;\n",
              "    }\n",
              "\n",
              "    .dataframe tbody tr th {\n",
              "        vertical-align: top;\n",
              "    }\n",
              "\n",
              "    .dataframe thead th {\n",
              "        text-align: right;\n",
              "    }\n",
              "</style>\n",
              "<table border=\"1\" class=\"dataframe\">\n",
              "  <thead>\n",
              "    <tr style=\"text-align: right;\">\n",
              "      <th></th>\n",
              "      <th>user</th>\n",
              "      <th>counts</th>\n",
              "    </tr>\n",
              "  </thead>\n",
              "  <tbody>\n",
              "    <tr>\n",
              "      <th>0</th>\n",
              "      <td>11676</td>\n",
              "      <td>1173</td>\n",
              "    </tr>\n",
              "    <tr>\n",
              "      <th>1</th>\n",
              "      <td>35859</td>\n",
              "      <td>521</td>\n",
              "    </tr>\n",
              "    <tr>\n",
              "      <th>2</th>\n",
              "      <td>76352</td>\n",
              "      <td>433</td>\n",
              "    </tr>\n",
              "    <tr>\n",
              "      <th>3</th>\n",
              "      <td>16795</td>\n",
              "      <td>426</td>\n",
              "    </tr>\n",
              "    <tr>\n",
              "      <th>4</th>\n",
              "      <td>153662</td>\n",
              "      <td>396</td>\n",
              "    </tr>\n",
              "  </tbody>\n",
              "</table>\n",
              "</div>"
            ],
            "text/plain": [
              "     user  counts\n",
              "0   11676    1173\n",
              "1   35859     521\n",
              "2   76352     433\n",
              "3   16795     426\n",
              "4  153662     396"
            ]
          },
          "metadata": {
            "tags": []
          },
          "execution_count": 184
        }
      ]
    },
    {
      "cell_type": "markdown",
      "metadata": {
        "id": "r2HFM59O2D0U",
        "colab_type": "text"
      },
      "source": [
        "We explore the quantile ranges for the counts again"
      ]
    },
    {
      "cell_type": "code",
      "metadata": {
        "id": "baReJ4Cx2IFw",
        "colab_type": "code",
        "colab": {
          "base_uri": "https://localhost:8080/",
          "height": 85
        },
        "outputId": "5dbba4bc-4965-4d1c-f5d0-44b9abcf26bc"
      },
      "source": [
        "user_rating_count_df['counts'].quantile([.25,.5,.75])"
      ],
      "execution_count": 197,
      "outputs": [
        {
          "output_type": "execute_result",
          "data": {
            "text/plain": [
              "0.25    1.0\n",
              "0.50    1.0\n",
              "0.75    3.0\n",
              "Name: counts, dtype: float64"
            ]
          },
          "metadata": {
            "tags": []
          },
          "execution_count": 197
        }
      ]
    },
    {
      "cell_type": "code",
      "metadata": {
        "id": "GPqR5jXe2OL_",
        "colab_type": "code",
        "colab": {
          "base_uri": "https://localhost:8080/",
          "height": 221
        },
        "outputId": "d532a34e-cb74-47f1-dd93-c776d477718d"
      },
      "source": [
        "user_rating_count_df['counts'].quantile(np.arange(.99,1.0,.001))"
      ],
      "execution_count": 213,
      "outputs": [
        {
          "output_type": "execute_result",
          "data": {
            "text/plain": [
              "0.990      70.000\n",
              "0.991      74.000\n",
              "0.992      80.000\n",
              "0.993      88.000\n",
              "0.994      97.000\n",
              "0.995     105.000\n",
              "0.996     117.000\n",
              "0.997     137.000\n",
              "0.998     170.214\n",
              "0.999     212.869\n",
              "1.000    1173.000\n",
              "Name: counts, dtype: float64"
            ]
          },
          "metadata": {
            "tags": []
          },
          "execution_count": 213
        }
      ]
    },
    {
      "cell_type": "markdown",
      "metadata": {
        "id": "7emZzmdl2o9K",
        "colab_type": "text"
      },
      "source": [
        "We again see an interesting trend in the data distribution here. The top 1% of the distribution if users have a rating of 70 or more. So A good threshold to choose may be 200."
      ]
    },
    {
      "cell_type": "code",
      "metadata": {
        "id": "ZX6MDqW0a-Zt",
        "colab_type": "code",
        "colab": {}
      },
      "source": [
        "# Then we merge the dataframe to a previous data frame\n",
        "final_df = combined_new_df.merge(user_rating_count_df,how='left')"
      ],
      "execution_count": 214,
      "outputs": []
    },
    {
      "cell_type": "markdown",
      "metadata": {
        "id": "6tLVySHdfgWC",
        "colab_type": "text"
      },
      "source": [
        "So we set the threshold to be 200 for gaining statistical signifance for our data set."
      ]
    },
    {
      "cell_type": "code",
      "metadata": {
        "id": "CX0-WjRkdd4n",
        "colab_type": "code",
        "colab": {
          "base_uri": "https://localhost:8080/",
          "height": 34
        },
        "outputId": "ea899b5b-7fd9-4894-9038-b37373cbe6b4"
      },
      "source": [
        "# We filter the final datafraame with a threshold of the total number of ratings\n",
        "# to be greater or equal to 200\n",
        "threshhold = 200\n",
        "final_df = final_df[final_df['counts'] >= threshhold]\n",
        "len(final_df)"
      ],
      "execution_count": 215,
      "outputs": [
        {
          "output_type": "execute_result",
          "data": {
            "text/plain": [
              "14890"
            ]
          },
          "metadata": {
            "tags": []
          },
          "execution_count": 215
        }
      ]
    },
    {
      "cell_type": "code",
      "metadata": {
        "id": "kltvoCqmiMfZ",
        "colab_type": "code",
        "colab": {}
      },
      "source": [
        "final_pivot = final_df.pivot_table(index='title',columns='user',values='rating').fillna(0)\n",
        "final_pivot_matrix = csr_matrix(final_pivot.values)"
      ],
      "execution_count": 216,
      "outputs": []
    },
    {
      "cell_type": "code",
      "metadata": {
        "id": "ScYEpvGUk7HV",
        "colab_type": "code",
        "colab": {
          "base_uri": "https://localhost:8080/",
          "height": 68
        },
        "outputId": "d09f6e00-d8af-494c-e8c1-9213b72b0ed1"
      },
      "source": [
        "# Building the model\n",
        "model = NearestNeighbors(n_neighbors=5,metric='cosine')\n",
        "model.fit(final_pivot_matrix)"
      ],
      "execution_count": 217,
      "outputs": [
        {
          "output_type": "execute_result",
          "data": {
            "text/plain": [
              "NearestNeighbors(algorithm='auto', leaf_size=30, metric='cosine',\n",
              "                 metric_params=None, n_jobs=None, n_neighbors=5, p=2,\n",
              "                 radius=1.0)"
            ]
          },
          "metadata": {
            "tags": []
          },
          "execution_count": 217
        }
      ]
    },
    {
      "cell_type": "code",
      "metadata": {
        "id": "sXQoirGknIP6",
        "colab_type": "code",
        "colab": {
          "base_uri": "https://localhost:8080/",
          "height": 34
        },
        "outputId": "b4860634-e1e9-4889-e969-05c8ec833026"
      },
      "source": [
        "book_names = final_pivot.index.to_list()"
      ],
      "execution_count": 232,
      "outputs": [
        {
          "output_type": "execute_result",
          "data": {
            "text/plain": [
              "914"
            ]
          },
          "metadata": {
            "tags": []
          },
          "execution_count": 232
        }
      ]
    },
    {
      "cell_type": "code",
      "metadata": {
        "id": "f5ZUd-L1SQz7",
        "colab_type": "code",
        "colab": {}
      },
      "source": [
        "# function to return recommended books\n",
        "def get_recommends(book = \"\"):\n",
        "  distances, indices = model.kneighbors(final_pivot.loc[book,:].values.reshape(1,-1), n_neighbors=6)\n",
        "  recommended_books = []\n",
        "  recommended_books.append(book)\n",
        "  books = []\n",
        "\n",
        "  for i in range(1, len(distances.flatten())):\n",
        "    books.append([final_pivot.index[indices.flatten()[i]], distances.flatten()[i]])\n",
        "\n",
        "  recommended_books.append(books)\n",
        "  return recommended_books"
      ],
      "execution_count": 192,
      "outputs": []
    },
    {
      "cell_type": "markdown",
      "metadata": {
        "id": "CyjWFTrq5zm5",
        "colab_type": "text"
      },
      "source": [
        "Now you can play around with some recommendations as you like"
      ]
    },
    {
      "cell_type": "code",
      "metadata": {
        "id": "Ke2E_GGkqLrh",
        "colab_type": "code",
        "colab": {
          "base_uri": "https://localhost:8080/",
          "height": 136
        },
        "outputId": "02ee84fc-d473-4735-ec16-463ebf8542c7"
      },
      "source": [
        "import pprint as pp\n",
        "pp.pprint(get_recommends(\"Harry Potter and the Goblet of Fire (Book 4)\"))"
      ],
      "execution_count": 230,
      "outputs": [
        {
          "output_type": "stream",
          "text": [
            "['Harry Potter and the Goblet of Fire (Book 4)',\n",
            " [[\"Harry Potter and the Sorcerer's Stone (Harry Potter (Paperback))\",\n",
            "   0.19848251],\n",
            "  ['Secrets', 0.2397002],\n",
            "  ['Harry Potter and the Chamber of Secrets (Book 2)', 0.24839234],\n",
            "  ['Harry Potter and the Prisoner of Azkaban (Book 3)', 0.28263128],\n",
            "  ['Night Whispers', 0.3156348]]]\n"
          ],
          "name": "stdout"
        }
      ]
    },
    {
      "cell_type": "code",
      "metadata": {
        "id": "AoCbGde826a7",
        "colab_type": "code",
        "colab": {
          "base_uri": "https://localhost:8080/",
          "height": 119
        },
        "outputId": "415a7cf4-ec70-4cb5-9ad7-bc6c9c943323"
      },
      "source": [
        "pp.pprint(get_recommends(\"The Shining\"))"
      ],
      "execution_count": 231,
      "outputs": [
        {
          "output_type": "stream",
          "text": [
            "['The Shining',\n",
            " [['Pet Sematary', 0.36982954],\n",
            "  ['It', 0.38520074],\n",
            "  ['Different Seasons', 0.39143884],\n",
            "  ['The Girl Who Loved Tom Gordon : A Novel', 0.42693406],\n",
            "  ['Skeleton Crew', 0.4291672]]]\n"
          ],
          "name": "stdout"
        }
      ]
    },
    {
      "cell_type": "code",
      "metadata": {
        "id": "k9zgVTku57kd",
        "colab_type": "code",
        "colab": {}
      },
      "source": [
        "import random as rd\n",
        "\n",
        "def show_recommendations(no_of_reco=5):\n",
        "  for i in range(no_of_reco):\n",
        "    pp.pprint(get_recommends(book_names[rd.randint(0,len(book_names))]))\n"
      ],
      "execution_count": 242,
      "outputs": []
    },
    {
      "cell_type": "code",
      "metadata": {
        "id": "un1QFkiz7H2S",
        "colab_type": "code",
        "colab": {
          "base_uri": "https://localhost:8080/",
          "height": 324
        },
        "outputId": "d3acc10f-c819-46bd-f3f2-ca848875204d"
      },
      "source": [
        "show_recommendations(3)"
      ],
      "execution_count": 243,
      "outputs": [
        {
          "output_type": "stream",
          "text": [
            "['Cold Fire',\n",
            " [['Dragon Tears', 0.13622105],\n",
            "  ['Still Waters', 0.13622105],\n",
            "  ['Long After Midnight', 0.13622105],\n",
            "  ['The House of Thunder', 0.13622105],\n",
            "  ['The Crush', 0.18654317]]]\n",
            "['Mr. Murder',\n",
            " [['Mr. Murder', 0.0],\n",
            "  ['The Key to Midnight', 0.0],\n",
            "  ['The Right Hand of Evil', 0.0],\n",
            "  ['Coming Home', 0.0],\n",
            "  ['Guilty Pleasures (Anita Blake Vampire Hunter (Paperback))', 0.07152331]]]\n",
            "['The Bad Place',\n",
            " [['The Apprentice', 0.1268717],\n",
            "  ['The Laws of Our Fathers', 0.2407434],\n",
            "  ['Move to Strike', 0.24462712],\n",
            "  ['Shattered', 0.34417015],\n",
            "  ['Long After Midnight', 0.34920865]]]\n"
          ],
          "name": "stdout"
        }
      ]
    },
    {
      "cell_type": "code",
      "metadata": {
        "id": "MmXoxEhG6uvJ",
        "colab_type": "code",
        "colab": {}
      },
      "source": [
        ""
      ],
      "execution_count": null,
      "outputs": []
    }
  ]
}