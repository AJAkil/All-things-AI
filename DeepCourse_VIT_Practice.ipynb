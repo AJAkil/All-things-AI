{
  "nbformat": 4,
  "nbformat_minor": 0,
  "metadata": {
    "colab": {
      "provenance": [],
      "authorship_tag": "ABX9TyNXwFSJ81Bvfx0FwprnmVlz",
      "include_colab_link": true
    },
    "kernelspec": {
      "name": "python3",
      "display_name": "Python 3"
    },
    "language_info": {
      "name": "python"
    },
    "accelerator": "GPU",
    "gpuClass": "standard",
    "widgets": {
      "application/vnd.jupyter.widget-state+json": {
        "0de0d247c93c4636b28b5de756fee499": {
          "model_module": "@jupyter-widgets/controls",
          "model_name": "HBoxModel",
          "model_module_version": "1.5.0",
          "state": {
            "_dom_classes": [],
            "_model_module": "@jupyter-widgets/controls",
            "_model_module_version": "1.5.0",
            "_model_name": "HBoxModel",
            "_view_count": null,
            "_view_module": "@jupyter-widgets/controls",
            "_view_module_version": "1.5.0",
            "_view_name": "HBoxView",
            "box_style": "",
            "children": [
              "IPY_MODEL_31ccb7cac63c4ba1b11e671ae6c9c3c1",
              "IPY_MODEL_79da501be253483580784f1637e76117",
              "IPY_MODEL_f175fd74ea2144eab5f10cc438917e12"
            ],
            "layout": "IPY_MODEL_825e3ef14bd24b7e93cb5042fd55f02a"
          }
        },
        "31ccb7cac63c4ba1b11e671ae6c9c3c1": {
          "model_module": "@jupyter-widgets/controls",
          "model_name": "HTMLModel",
          "model_module_version": "1.5.0",
          "state": {
            "_dom_classes": [],
            "_model_module": "@jupyter-widgets/controls",
            "_model_module_version": "1.5.0",
            "_model_name": "HTMLModel",
            "_view_count": null,
            "_view_module": "@jupyter-widgets/controls",
            "_view_module_version": "1.5.0",
            "_view_name": "HTMLView",
            "description": "",
            "description_tooltip": null,
            "layout": "IPY_MODEL_d6b883344d544b2fb257aef4c0c50091",
            "placeholder": "​",
            "style": "IPY_MODEL_705cceb15b3f45afbc0b1900880a07fa",
            "value": "100%"
          }
        },
        "79da501be253483580784f1637e76117": {
          "model_module": "@jupyter-widgets/controls",
          "model_name": "FloatProgressModel",
          "model_module_version": "1.5.0",
          "state": {
            "_dom_classes": [],
            "_model_module": "@jupyter-widgets/controls",
            "_model_module_version": "1.5.0",
            "_model_name": "FloatProgressModel",
            "_view_count": null,
            "_view_module": "@jupyter-widgets/controls",
            "_view_module_version": "1.5.0",
            "_view_name": "ProgressView",
            "bar_style": "success",
            "description": "",
            "description_tooltip": null,
            "layout": "IPY_MODEL_3c22967c646447e099b002711595a948",
            "max": 9912422,
            "min": 0,
            "orientation": "horizontal",
            "style": "IPY_MODEL_37a6ca01e4e34cac87a577fd76588c97",
            "value": 9912422
          }
        },
        "f175fd74ea2144eab5f10cc438917e12": {
          "model_module": "@jupyter-widgets/controls",
          "model_name": "HTMLModel",
          "model_module_version": "1.5.0",
          "state": {
            "_dom_classes": [],
            "_model_module": "@jupyter-widgets/controls",
            "_model_module_version": "1.5.0",
            "_model_name": "HTMLModel",
            "_view_count": null,
            "_view_module": "@jupyter-widgets/controls",
            "_view_module_version": "1.5.0",
            "_view_name": "HTMLView",
            "description": "",
            "description_tooltip": null,
            "layout": "IPY_MODEL_667dc13bebae4cde88058447796f3d42",
            "placeholder": "​",
            "style": "IPY_MODEL_bf727cc5866d4fd4b3738de1699bf09f",
            "value": " 9912422/9912422 [00:00&lt;00:00, 40596836.64it/s]"
          }
        },
        "825e3ef14bd24b7e93cb5042fd55f02a": {
          "model_module": "@jupyter-widgets/base",
          "model_name": "LayoutModel",
          "model_module_version": "1.2.0",
          "state": {
            "_model_module": "@jupyter-widgets/base",
            "_model_module_version": "1.2.0",
            "_model_name": "LayoutModel",
            "_view_count": null,
            "_view_module": "@jupyter-widgets/base",
            "_view_module_version": "1.2.0",
            "_view_name": "LayoutView",
            "align_content": null,
            "align_items": null,
            "align_self": null,
            "border": null,
            "bottom": null,
            "display": null,
            "flex": null,
            "flex_flow": null,
            "grid_area": null,
            "grid_auto_columns": null,
            "grid_auto_flow": null,
            "grid_auto_rows": null,
            "grid_column": null,
            "grid_gap": null,
            "grid_row": null,
            "grid_template_areas": null,
            "grid_template_columns": null,
            "grid_template_rows": null,
            "height": null,
            "justify_content": null,
            "justify_items": null,
            "left": null,
            "margin": null,
            "max_height": null,
            "max_width": null,
            "min_height": null,
            "min_width": null,
            "object_fit": null,
            "object_position": null,
            "order": null,
            "overflow": null,
            "overflow_x": null,
            "overflow_y": null,
            "padding": null,
            "right": null,
            "top": null,
            "visibility": null,
            "width": null
          }
        },
        "d6b883344d544b2fb257aef4c0c50091": {
          "model_module": "@jupyter-widgets/base",
          "model_name": "LayoutModel",
          "model_module_version": "1.2.0",
          "state": {
            "_model_module": "@jupyter-widgets/base",
            "_model_module_version": "1.2.0",
            "_model_name": "LayoutModel",
            "_view_count": null,
            "_view_module": "@jupyter-widgets/base",
            "_view_module_version": "1.2.0",
            "_view_name": "LayoutView",
            "align_content": null,
            "align_items": null,
            "align_self": null,
            "border": null,
            "bottom": null,
            "display": null,
            "flex": null,
            "flex_flow": null,
            "grid_area": null,
            "grid_auto_columns": null,
            "grid_auto_flow": null,
            "grid_auto_rows": null,
            "grid_column": null,
            "grid_gap": null,
            "grid_row": null,
            "grid_template_areas": null,
            "grid_template_columns": null,
            "grid_template_rows": null,
            "height": null,
            "justify_content": null,
            "justify_items": null,
            "left": null,
            "margin": null,
            "max_height": null,
            "max_width": null,
            "min_height": null,
            "min_width": null,
            "object_fit": null,
            "object_position": null,
            "order": null,
            "overflow": null,
            "overflow_x": null,
            "overflow_y": null,
            "padding": null,
            "right": null,
            "top": null,
            "visibility": null,
            "width": null
          }
        },
        "705cceb15b3f45afbc0b1900880a07fa": {
          "model_module": "@jupyter-widgets/controls",
          "model_name": "DescriptionStyleModel",
          "model_module_version": "1.5.0",
          "state": {
            "_model_module": "@jupyter-widgets/controls",
            "_model_module_version": "1.5.0",
            "_model_name": "DescriptionStyleModel",
            "_view_count": null,
            "_view_module": "@jupyter-widgets/base",
            "_view_module_version": "1.2.0",
            "_view_name": "StyleView",
            "description_width": ""
          }
        },
        "3c22967c646447e099b002711595a948": {
          "model_module": "@jupyter-widgets/base",
          "model_name": "LayoutModel",
          "model_module_version": "1.2.0",
          "state": {
            "_model_module": "@jupyter-widgets/base",
            "_model_module_version": "1.2.0",
            "_model_name": "LayoutModel",
            "_view_count": null,
            "_view_module": "@jupyter-widgets/base",
            "_view_module_version": "1.2.0",
            "_view_name": "LayoutView",
            "align_content": null,
            "align_items": null,
            "align_self": null,
            "border": null,
            "bottom": null,
            "display": null,
            "flex": null,
            "flex_flow": null,
            "grid_area": null,
            "grid_auto_columns": null,
            "grid_auto_flow": null,
            "grid_auto_rows": null,
            "grid_column": null,
            "grid_gap": null,
            "grid_row": null,
            "grid_template_areas": null,
            "grid_template_columns": null,
            "grid_template_rows": null,
            "height": null,
            "justify_content": null,
            "justify_items": null,
            "left": null,
            "margin": null,
            "max_height": null,
            "max_width": null,
            "min_height": null,
            "min_width": null,
            "object_fit": null,
            "object_position": null,
            "order": null,
            "overflow": null,
            "overflow_x": null,
            "overflow_y": null,
            "padding": null,
            "right": null,
            "top": null,
            "visibility": null,
            "width": null
          }
        },
        "37a6ca01e4e34cac87a577fd76588c97": {
          "model_module": "@jupyter-widgets/controls",
          "model_name": "ProgressStyleModel",
          "model_module_version": "1.5.0",
          "state": {
            "_model_module": "@jupyter-widgets/controls",
            "_model_module_version": "1.5.0",
            "_model_name": "ProgressStyleModel",
            "_view_count": null,
            "_view_module": "@jupyter-widgets/base",
            "_view_module_version": "1.2.0",
            "_view_name": "StyleView",
            "bar_color": null,
            "description_width": ""
          }
        },
        "667dc13bebae4cde88058447796f3d42": {
          "model_module": "@jupyter-widgets/base",
          "model_name": "LayoutModel",
          "model_module_version": "1.2.0",
          "state": {
            "_model_module": "@jupyter-widgets/base",
            "_model_module_version": "1.2.0",
            "_model_name": "LayoutModel",
            "_view_count": null,
            "_view_module": "@jupyter-widgets/base",
            "_view_module_version": "1.2.0",
            "_view_name": "LayoutView",
            "align_content": null,
            "align_items": null,
            "align_self": null,
            "border": null,
            "bottom": null,
            "display": null,
            "flex": null,
            "flex_flow": null,
            "grid_area": null,
            "grid_auto_columns": null,
            "grid_auto_flow": null,
            "grid_auto_rows": null,
            "grid_column": null,
            "grid_gap": null,
            "grid_row": null,
            "grid_template_areas": null,
            "grid_template_columns": null,
            "grid_template_rows": null,
            "height": null,
            "justify_content": null,
            "justify_items": null,
            "left": null,
            "margin": null,
            "max_height": null,
            "max_width": null,
            "min_height": null,
            "min_width": null,
            "object_fit": null,
            "object_position": null,
            "order": null,
            "overflow": null,
            "overflow_x": null,
            "overflow_y": null,
            "padding": null,
            "right": null,
            "top": null,
            "visibility": null,
            "width": null
          }
        },
        "bf727cc5866d4fd4b3738de1699bf09f": {
          "model_module": "@jupyter-widgets/controls",
          "model_name": "DescriptionStyleModel",
          "model_module_version": "1.5.0",
          "state": {
            "_model_module": "@jupyter-widgets/controls",
            "_model_module_version": "1.5.0",
            "_model_name": "DescriptionStyleModel",
            "_view_count": null,
            "_view_module": "@jupyter-widgets/base",
            "_view_module_version": "1.2.0",
            "_view_name": "StyleView",
            "description_width": ""
          }
        },
        "08ce0e9d713c440c8469538d869498a5": {
          "model_module": "@jupyter-widgets/controls",
          "model_name": "HBoxModel",
          "model_module_version": "1.5.0",
          "state": {
            "_dom_classes": [],
            "_model_module": "@jupyter-widgets/controls",
            "_model_module_version": "1.5.0",
            "_model_name": "HBoxModel",
            "_view_count": null,
            "_view_module": "@jupyter-widgets/controls",
            "_view_module_version": "1.5.0",
            "_view_name": "HBoxView",
            "box_style": "",
            "children": [
              "IPY_MODEL_d5ee7ad84d464821b79e261b832ee662",
              "IPY_MODEL_ba10584261304d75a7dcecbc1b4d02c3",
              "IPY_MODEL_9bb4323c028d4a02a06c674bfb39fac4"
            ],
            "layout": "IPY_MODEL_67a66444526b494aa16f021c1dd06362"
          }
        },
        "d5ee7ad84d464821b79e261b832ee662": {
          "model_module": "@jupyter-widgets/controls",
          "model_name": "HTMLModel",
          "model_module_version": "1.5.0",
          "state": {
            "_dom_classes": [],
            "_model_module": "@jupyter-widgets/controls",
            "_model_module_version": "1.5.0",
            "_model_name": "HTMLModel",
            "_view_count": null,
            "_view_module": "@jupyter-widgets/controls",
            "_view_module_version": "1.5.0",
            "_view_name": "HTMLView",
            "description": "",
            "description_tooltip": null,
            "layout": "IPY_MODEL_8785403b574e40abb991fe5d7af4d73a",
            "placeholder": "​",
            "style": "IPY_MODEL_386ea94757024da1b2e1c0fd206ac867",
            "value": "100%"
          }
        },
        "ba10584261304d75a7dcecbc1b4d02c3": {
          "model_module": "@jupyter-widgets/controls",
          "model_name": "FloatProgressModel",
          "model_module_version": "1.5.0",
          "state": {
            "_dom_classes": [],
            "_model_module": "@jupyter-widgets/controls",
            "_model_module_version": "1.5.0",
            "_model_name": "FloatProgressModel",
            "_view_count": null,
            "_view_module": "@jupyter-widgets/controls",
            "_view_module_version": "1.5.0",
            "_view_name": "ProgressView",
            "bar_style": "success",
            "description": "",
            "description_tooltip": null,
            "layout": "IPY_MODEL_440ecf6273df4ab6aea53ab69a6d165a",
            "max": 28881,
            "min": 0,
            "orientation": "horizontal",
            "style": "IPY_MODEL_ce1e2be799304cda9bfd0aad90f75754",
            "value": 28881
          }
        },
        "9bb4323c028d4a02a06c674bfb39fac4": {
          "model_module": "@jupyter-widgets/controls",
          "model_name": "HTMLModel",
          "model_module_version": "1.5.0",
          "state": {
            "_dom_classes": [],
            "_model_module": "@jupyter-widgets/controls",
            "_model_module_version": "1.5.0",
            "_model_name": "HTMLModel",
            "_view_count": null,
            "_view_module": "@jupyter-widgets/controls",
            "_view_module_version": "1.5.0",
            "_view_name": "HTMLView",
            "description": "",
            "description_tooltip": null,
            "layout": "IPY_MODEL_b1e94e0973b14ff0bbcd9fcfb3fd7bad",
            "placeholder": "​",
            "style": "IPY_MODEL_7365b979a22449a298b103b330bd0bd3",
            "value": " 28881/28881 [00:00&lt;00:00, 1679617.50it/s]"
          }
        },
        "67a66444526b494aa16f021c1dd06362": {
          "model_module": "@jupyter-widgets/base",
          "model_name": "LayoutModel",
          "model_module_version": "1.2.0",
          "state": {
            "_model_module": "@jupyter-widgets/base",
            "_model_module_version": "1.2.0",
            "_model_name": "LayoutModel",
            "_view_count": null,
            "_view_module": "@jupyter-widgets/base",
            "_view_module_version": "1.2.0",
            "_view_name": "LayoutView",
            "align_content": null,
            "align_items": null,
            "align_self": null,
            "border": null,
            "bottom": null,
            "display": null,
            "flex": null,
            "flex_flow": null,
            "grid_area": null,
            "grid_auto_columns": null,
            "grid_auto_flow": null,
            "grid_auto_rows": null,
            "grid_column": null,
            "grid_gap": null,
            "grid_row": null,
            "grid_template_areas": null,
            "grid_template_columns": null,
            "grid_template_rows": null,
            "height": null,
            "justify_content": null,
            "justify_items": null,
            "left": null,
            "margin": null,
            "max_height": null,
            "max_width": null,
            "min_height": null,
            "min_width": null,
            "object_fit": null,
            "object_position": null,
            "order": null,
            "overflow": null,
            "overflow_x": null,
            "overflow_y": null,
            "padding": null,
            "right": null,
            "top": null,
            "visibility": null,
            "width": null
          }
        },
        "8785403b574e40abb991fe5d7af4d73a": {
          "model_module": "@jupyter-widgets/base",
          "model_name": "LayoutModel",
          "model_module_version": "1.2.0",
          "state": {
            "_model_module": "@jupyter-widgets/base",
            "_model_module_version": "1.2.0",
            "_model_name": "LayoutModel",
            "_view_count": null,
            "_view_module": "@jupyter-widgets/base",
            "_view_module_version": "1.2.0",
            "_view_name": "LayoutView",
            "align_content": null,
            "align_items": null,
            "align_self": null,
            "border": null,
            "bottom": null,
            "display": null,
            "flex": null,
            "flex_flow": null,
            "grid_area": null,
            "grid_auto_columns": null,
            "grid_auto_flow": null,
            "grid_auto_rows": null,
            "grid_column": null,
            "grid_gap": null,
            "grid_row": null,
            "grid_template_areas": null,
            "grid_template_columns": null,
            "grid_template_rows": null,
            "height": null,
            "justify_content": null,
            "justify_items": null,
            "left": null,
            "margin": null,
            "max_height": null,
            "max_width": null,
            "min_height": null,
            "min_width": null,
            "object_fit": null,
            "object_position": null,
            "order": null,
            "overflow": null,
            "overflow_x": null,
            "overflow_y": null,
            "padding": null,
            "right": null,
            "top": null,
            "visibility": null,
            "width": null
          }
        },
        "386ea94757024da1b2e1c0fd206ac867": {
          "model_module": "@jupyter-widgets/controls",
          "model_name": "DescriptionStyleModel",
          "model_module_version": "1.5.0",
          "state": {
            "_model_module": "@jupyter-widgets/controls",
            "_model_module_version": "1.5.0",
            "_model_name": "DescriptionStyleModel",
            "_view_count": null,
            "_view_module": "@jupyter-widgets/base",
            "_view_module_version": "1.2.0",
            "_view_name": "StyleView",
            "description_width": ""
          }
        },
        "440ecf6273df4ab6aea53ab69a6d165a": {
          "model_module": "@jupyter-widgets/base",
          "model_name": "LayoutModel",
          "model_module_version": "1.2.0",
          "state": {
            "_model_module": "@jupyter-widgets/base",
            "_model_module_version": "1.2.0",
            "_model_name": "LayoutModel",
            "_view_count": null,
            "_view_module": "@jupyter-widgets/base",
            "_view_module_version": "1.2.0",
            "_view_name": "LayoutView",
            "align_content": null,
            "align_items": null,
            "align_self": null,
            "border": null,
            "bottom": null,
            "display": null,
            "flex": null,
            "flex_flow": null,
            "grid_area": null,
            "grid_auto_columns": null,
            "grid_auto_flow": null,
            "grid_auto_rows": null,
            "grid_column": null,
            "grid_gap": null,
            "grid_row": null,
            "grid_template_areas": null,
            "grid_template_columns": null,
            "grid_template_rows": null,
            "height": null,
            "justify_content": null,
            "justify_items": null,
            "left": null,
            "margin": null,
            "max_height": null,
            "max_width": null,
            "min_height": null,
            "min_width": null,
            "object_fit": null,
            "object_position": null,
            "order": null,
            "overflow": null,
            "overflow_x": null,
            "overflow_y": null,
            "padding": null,
            "right": null,
            "top": null,
            "visibility": null,
            "width": null
          }
        },
        "ce1e2be799304cda9bfd0aad90f75754": {
          "model_module": "@jupyter-widgets/controls",
          "model_name": "ProgressStyleModel",
          "model_module_version": "1.5.0",
          "state": {
            "_model_module": "@jupyter-widgets/controls",
            "_model_module_version": "1.5.0",
            "_model_name": "ProgressStyleModel",
            "_view_count": null,
            "_view_module": "@jupyter-widgets/base",
            "_view_module_version": "1.2.0",
            "_view_name": "StyleView",
            "bar_color": null,
            "description_width": ""
          }
        },
        "b1e94e0973b14ff0bbcd9fcfb3fd7bad": {
          "model_module": "@jupyter-widgets/base",
          "model_name": "LayoutModel",
          "model_module_version": "1.2.0",
          "state": {
            "_model_module": "@jupyter-widgets/base",
            "_model_module_version": "1.2.0",
            "_model_name": "LayoutModel",
            "_view_count": null,
            "_view_module": "@jupyter-widgets/base",
            "_view_module_version": "1.2.0",
            "_view_name": "LayoutView",
            "align_content": null,
            "align_items": null,
            "align_self": null,
            "border": null,
            "bottom": null,
            "display": null,
            "flex": null,
            "flex_flow": null,
            "grid_area": null,
            "grid_auto_columns": null,
            "grid_auto_flow": null,
            "grid_auto_rows": null,
            "grid_column": null,
            "grid_gap": null,
            "grid_row": null,
            "grid_template_areas": null,
            "grid_template_columns": null,
            "grid_template_rows": null,
            "height": null,
            "justify_content": null,
            "justify_items": null,
            "left": null,
            "margin": null,
            "max_height": null,
            "max_width": null,
            "min_height": null,
            "min_width": null,
            "object_fit": null,
            "object_position": null,
            "order": null,
            "overflow": null,
            "overflow_x": null,
            "overflow_y": null,
            "padding": null,
            "right": null,
            "top": null,
            "visibility": null,
            "width": null
          }
        },
        "7365b979a22449a298b103b330bd0bd3": {
          "model_module": "@jupyter-widgets/controls",
          "model_name": "DescriptionStyleModel",
          "model_module_version": "1.5.0",
          "state": {
            "_model_module": "@jupyter-widgets/controls",
            "_model_module_version": "1.5.0",
            "_model_name": "DescriptionStyleModel",
            "_view_count": null,
            "_view_module": "@jupyter-widgets/base",
            "_view_module_version": "1.2.0",
            "_view_name": "StyleView",
            "description_width": ""
          }
        },
        "a07c5f6f14ab40358fe8430ef4256728": {
          "model_module": "@jupyter-widgets/controls",
          "model_name": "HBoxModel",
          "model_module_version": "1.5.0",
          "state": {
            "_dom_classes": [],
            "_model_module": "@jupyter-widgets/controls",
            "_model_module_version": "1.5.0",
            "_model_name": "HBoxModel",
            "_view_count": null,
            "_view_module": "@jupyter-widgets/controls",
            "_view_module_version": "1.5.0",
            "_view_name": "HBoxView",
            "box_style": "",
            "children": [
              "IPY_MODEL_1dd4aafbeed849fda6fbdf6f84fc7d62",
              "IPY_MODEL_a5ee9def8e9e448eb04177f8057a50ad",
              "IPY_MODEL_22f3a457d20d418dbf95c26cfa63d703"
            ],
            "layout": "IPY_MODEL_eaaef42d08934b82a7044ad64dece687"
          }
        },
        "1dd4aafbeed849fda6fbdf6f84fc7d62": {
          "model_module": "@jupyter-widgets/controls",
          "model_name": "HTMLModel",
          "model_module_version": "1.5.0",
          "state": {
            "_dom_classes": [],
            "_model_module": "@jupyter-widgets/controls",
            "_model_module_version": "1.5.0",
            "_model_name": "HTMLModel",
            "_view_count": null,
            "_view_module": "@jupyter-widgets/controls",
            "_view_module_version": "1.5.0",
            "_view_name": "HTMLView",
            "description": "",
            "description_tooltip": null,
            "layout": "IPY_MODEL_2c073e6087d04838bc5dd40ba939a57a",
            "placeholder": "​",
            "style": "IPY_MODEL_a4d4fb1d263e44c1860486c8d564dae4",
            "value": "100%"
          }
        },
        "a5ee9def8e9e448eb04177f8057a50ad": {
          "model_module": "@jupyter-widgets/controls",
          "model_name": "FloatProgressModel",
          "model_module_version": "1.5.0",
          "state": {
            "_dom_classes": [],
            "_model_module": "@jupyter-widgets/controls",
            "_model_module_version": "1.5.0",
            "_model_name": "FloatProgressModel",
            "_view_count": null,
            "_view_module": "@jupyter-widgets/controls",
            "_view_module_version": "1.5.0",
            "_view_name": "ProgressView",
            "bar_style": "success",
            "description": "",
            "description_tooltip": null,
            "layout": "IPY_MODEL_b30c93b0a34b4b62b72ba66c942e8574",
            "max": 1648877,
            "min": 0,
            "orientation": "horizontal",
            "style": "IPY_MODEL_31375698fbfb497a80d6a1f70df536d6",
            "value": 1648877
          }
        },
        "22f3a457d20d418dbf95c26cfa63d703": {
          "model_module": "@jupyter-widgets/controls",
          "model_name": "HTMLModel",
          "model_module_version": "1.5.0",
          "state": {
            "_dom_classes": [],
            "_model_module": "@jupyter-widgets/controls",
            "_model_module_version": "1.5.0",
            "_model_name": "HTMLModel",
            "_view_count": null,
            "_view_module": "@jupyter-widgets/controls",
            "_view_module_version": "1.5.0",
            "_view_name": "HTMLView",
            "description": "",
            "description_tooltip": null,
            "layout": "IPY_MODEL_6053a6e9a2f44ffa9de4e31e01cc237d",
            "placeholder": "​",
            "style": "IPY_MODEL_e949c1cc42844737975ae2f1fccce7e2",
            "value": " 1648877/1648877 [00:00&lt;00:00, 20546747.55it/s]"
          }
        },
        "eaaef42d08934b82a7044ad64dece687": {
          "model_module": "@jupyter-widgets/base",
          "model_name": "LayoutModel",
          "model_module_version": "1.2.0",
          "state": {
            "_model_module": "@jupyter-widgets/base",
            "_model_module_version": "1.2.0",
            "_model_name": "LayoutModel",
            "_view_count": null,
            "_view_module": "@jupyter-widgets/base",
            "_view_module_version": "1.2.0",
            "_view_name": "LayoutView",
            "align_content": null,
            "align_items": null,
            "align_self": null,
            "border": null,
            "bottom": null,
            "display": null,
            "flex": null,
            "flex_flow": null,
            "grid_area": null,
            "grid_auto_columns": null,
            "grid_auto_flow": null,
            "grid_auto_rows": null,
            "grid_column": null,
            "grid_gap": null,
            "grid_row": null,
            "grid_template_areas": null,
            "grid_template_columns": null,
            "grid_template_rows": null,
            "height": null,
            "justify_content": null,
            "justify_items": null,
            "left": null,
            "margin": null,
            "max_height": null,
            "max_width": null,
            "min_height": null,
            "min_width": null,
            "object_fit": null,
            "object_position": null,
            "order": null,
            "overflow": null,
            "overflow_x": null,
            "overflow_y": null,
            "padding": null,
            "right": null,
            "top": null,
            "visibility": null,
            "width": null
          }
        },
        "2c073e6087d04838bc5dd40ba939a57a": {
          "model_module": "@jupyter-widgets/base",
          "model_name": "LayoutModel",
          "model_module_version": "1.2.0",
          "state": {
            "_model_module": "@jupyter-widgets/base",
            "_model_module_version": "1.2.0",
            "_model_name": "LayoutModel",
            "_view_count": null,
            "_view_module": "@jupyter-widgets/base",
            "_view_module_version": "1.2.0",
            "_view_name": "LayoutView",
            "align_content": null,
            "align_items": null,
            "align_self": null,
            "border": null,
            "bottom": null,
            "display": null,
            "flex": null,
            "flex_flow": null,
            "grid_area": null,
            "grid_auto_columns": null,
            "grid_auto_flow": null,
            "grid_auto_rows": null,
            "grid_column": null,
            "grid_gap": null,
            "grid_row": null,
            "grid_template_areas": null,
            "grid_template_columns": null,
            "grid_template_rows": null,
            "height": null,
            "justify_content": null,
            "justify_items": null,
            "left": null,
            "margin": null,
            "max_height": null,
            "max_width": null,
            "min_height": null,
            "min_width": null,
            "object_fit": null,
            "object_position": null,
            "order": null,
            "overflow": null,
            "overflow_x": null,
            "overflow_y": null,
            "padding": null,
            "right": null,
            "top": null,
            "visibility": null,
            "width": null
          }
        },
        "a4d4fb1d263e44c1860486c8d564dae4": {
          "model_module": "@jupyter-widgets/controls",
          "model_name": "DescriptionStyleModel",
          "model_module_version": "1.5.0",
          "state": {
            "_model_module": "@jupyter-widgets/controls",
            "_model_module_version": "1.5.0",
            "_model_name": "DescriptionStyleModel",
            "_view_count": null,
            "_view_module": "@jupyter-widgets/base",
            "_view_module_version": "1.2.0",
            "_view_name": "StyleView",
            "description_width": ""
          }
        },
        "b30c93b0a34b4b62b72ba66c942e8574": {
          "model_module": "@jupyter-widgets/base",
          "model_name": "LayoutModel",
          "model_module_version": "1.2.0",
          "state": {
            "_model_module": "@jupyter-widgets/base",
            "_model_module_version": "1.2.0",
            "_model_name": "LayoutModel",
            "_view_count": null,
            "_view_module": "@jupyter-widgets/base",
            "_view_module_version": "1.2.0",
            "_view_name": "LayoutView",
            "align_content": null,
            "align_items": null,
            "align_self": null,
            "border": null,
            "bottom": null,
            "display": null,
            "flex": null,
            "flex_flow": null,
            "grid_area": null,
            "grid_auto_columns": null,
            "grid_auto_flow": null,
            "grid_auto_rows": null,
            "grid_column": null,
            "grid_gap": null,
            "grid_row": null,
            "grid_template_areas": null,
            "grid_template_columns": null,
            "grid_template_rows": null,
            "height": null,
            "justify_content": null,
            "justify_items": null,
            "left": null,
            "margin": null,
            "max_height": null,
            "max_width": null,
            "min_height": null,
            "min_width": null,
            "object_fit": null,
            "object_position": null,
            "order": null,
            "overflow": null,
            "overflow_x": null,
            "overflow_y": null,
            "padding": null,
            "right": null,
            "top": null,
            "visibility": null,
            "width": null
          }
        },
        "31375698fbfb497a80d6a1f70df536d6": {
          "model_module": "@jupyter-widgets/controls",
          "model_name": "ProgressStyleModel",
          "model_module_version": "1.5.0",
          "state": {
            "_model_module": "@jupyter-widgets/controls",
            "_model_module_version": "1.5.0",
            "_model_name": "ProgressStyleModel",
            "_view_count": null,
            "_view_module": "@jupyter-widgets/base",
            "_view_module_version": "1.2.0",
            "_view_name": "StyleView",
            "bar_color": null,
            "description_width": ""
          }
        },
        "6053a6e9a2f44ffa9de4e31e01cc237d": {
          "model_module": "@jupyter-widgets/base",
          "model_name": "LayoutModel",
          "model_module_version": "1.2.0",
          "state": {
            "_model_module": "@jupyter-widgets/base",
            "_model_module_version": "1.2.0",
            "_model_name": "LayoutModel",
            "_view_count": null,
            "_view_module": "@jupyter-widgets/base",
            "_view_module_version": "1.2.0",
            "_view_name": "LayoutView",
            "align_content": null,
            "align_items": null,
            "align_self": null,
            "border": null,
            "bottom": null,
            "display": null,
            "flex": null,
            "flex_flow": null,
            "grid_area": null,
            "grid_auto_columns": null,
            "grid_auto_flow": null,
            "grid_auto_rows": null,
            "grid_column": null,
            "grid_gap": null,
            "grid_row": null,
            "grid_template_areas": null,
            "grid_template_columns": null,
            "grid_template_rows": null,
            "height": null,
            "justify_content": null,
            "justify_items": null,
            "left": null,
            "margin": null,
            "max_height": null,
            "max_width": null,
            "min_height": null,
            "min_width": null,
            "object_fit": null,
            "object_position": null,
            "order": null,
            "overflow": null,
            "overflow_x": null,
            "overflow_y": null,
            "padding": null,
            "right": null,
            "top": null,
            "visibility": null,
            "width": null
          }
        },
        "e949c1cc42844737975ae2f1fccce7e2": {
          "model_module": "@jupyter-widgets/controls",
          "model_name": "DescriptionStyleModel",
          "model_module_version": "1.5.0",
          "state": {
            "_model_module": "@jupyter-widgets/controls",
            "_model_module_version": "1.5.0",
            "_model_name": "DescriptionStyleModel",
            "_view_count": null,
            "_view_module": "@jupyter-widgets/base",
            "_view_module_version": "1.2.0",
            "_view_name": "StyleView",
            "description_width": ""
          }
        },
        "b79e60d903a9401c957ab6628b50955f": {
          "model_module": "@jupyter-widgets/controls",
          "model_name": "HBoxModel",
          "model_module_version": "1.5.0",
          "state": {
            "_dom_classes": [],
            "_model_module": "@jupyter-widgets/controls",
            "_model_module_version": "1.5.0",
            "_model_name": "HBoxModel",
            "_view_count": null,
            "_view_module": "@jupyter-widgets/controls",
            "_view_module_version": "1.5.0",
            "_view_name": "HBoxView",
            "box_style": "",
            "children": [
              "IPY_MODEL_2e0bfa0056e14d4c9cbb53d3fa2d7059",
              "IPY_MODEL_5537354ff6034d76a9ad060055e410cc",
              "IPY_MODEL_fdba2256e733420ab13ae16ff1024c67"
            ],
            "layout": "IPY_MODEL_9fd87748487f41b6bb3431b07785f0f1"
          }
        },
        "2e0bfa0056e14d4c9cbb53d3fa2d7059": {
          "model_module": "@jupyter-widgets/controls",
          "model_name": "HTMLModel",
          "model_module_version": "1.5.0",
          "state": {
            "_dom_classes": [],
            "_model_module": "@jupyter-widgets/controls",
            "_model_module_version": "1.5.0",
            "_model_name": "HTMLModel",
            "_view_count": null,
            "_view_module": "@jupyter-widgets/controls",
            "_view_module_version": "1.5.0",
            "_view_name": "HTMLView",
            "description": "",
            "description_tooltip": null,
            "layout": "IPY_MODEL_c41071dae0be4c88aa6f384776bcc654",
            "placeholder": "​",
            "style": "IPY_MODEL_a5393ce25964493bb828b3ba9f43fe58",
            "value": "100%"
          }
        },
        "5537354ff6034d76a9ad060055e410cc": {
          "model_module": "@jupyter-widgets/controls",
          "model_name": "FloatProgressModel",
          "model_module_version": "1.5.0",
          "state": {
            "_dom_classes": [],
            "_model_module": "@jupyter-widgets/controls",
            "_model_module_version": "1.5.0",
            "_model_name": "FloatProgressModel",
            "_view_count": null,
            "_view_module": "@jupyter-widgets/controls",
            "_view_module_version": "1.5.0",
            "_view_name": "ProgressView",
            "bar_style": "success",
            "description": "",
            "description_tooltip": null,
            "layout": "IPY_MODEL_960303474da54e1cbf23a13337374c77",
            "max": 4542,
            "min": 0,
            "orientation": "horizontal",
            "style": "IPY_MODEL_6d8d5b8abad9461e9fb270b9b1c9462e",
            "value": 4542
          }
        },
        "fdba2256e733420ab13ae16ff1024c67": {
          "model_module": "@jupyter-widgets/controls",
          "model_name": "HTMLModel",
          "model_module_version": "1.5.0",
          "state": {
            "_dom_classes": [],
            "_model_module": "@jupyter-widgets/controls",
            "_model_module_version": "1.5.0",
            "_model_name": "HTMLModel",
            "_view_count": null,
            "_view_module": "@jupyter-widgets/controls",
            "_view_module_version": "1.5.0",
            "_view_name": "HTMLView",
            "description": "",
            "description_tooltip": null,
            "layout": "IPY_MODEL_7356bb36b98242498ad6228a685a1ed4",
            "placeholder": "​",
            "style": "IPY_MODEL_803b7ae3503d4085b1383067351774dd",
            "value": " 4542/4542 [00:00&lt;00:00, 254757.74it/s]"
          }
        },
        "9fd87748487f41b6bb3431b07785f0f1": {
          "model_module": "@jupyter-widgets/base",
          "model_name": "LayoutModel",
          "model_module_version": "1.2.0",
          "state": {
            "_model_module": "@jupyter-widgets/base",
            "_model_module_version": "1.2.0",
            "_model_name": "LayoutModel",
            "_view_count": null,
            "_view_module": "@jupyter-widgets/base",
            "_view_module_version": "1.2.0",
            "_view_name": "LayoutView",
            "align_content": null,
            "align_items": null,
            "align_self": null,
            "border": null,
            "bottom": null,
            "display": null,
            "flex": null,
            "flex_flow": null,
            "grid_area": null,
            "grid_auto_columns": null,
            "grid_auto_flow": null,
            "grid_auto_rows": null,
            "grid_column": null,
            "grid_gap": null,
            "grid_row": null,
            "grid_template_areas": null,
            "grid_template_columns": null,
            "grid_template_rows": null,
            "height": null,
            "justify_content": null,
            "justify_items": null,
            "left": null,
            "margin": null,
            "max_height": null,
            "max_width": null,
            "min_height": null,
            "min_width": null,
            "object_fit": null,
            "object_position": null,
            "order": null,
            "overflow": null,
            "overflow_x": null,
            "overflow_y": null,
            "padding": null,
            "right": null,
            "top": null,
            "visibility": null,
            "width": null
          }
        },
        "c41071dae0be4c88aa6f384776bcc654": {
          "model_module": "@jupyter-widgets/base",
          "model_name": "LayoutModel",
          "model_module_version": "1.2.0",
          "state": {
            "_model_module": "@jupyter-widgets/base",
            "_model_module_version": "1.2.0",
            "_model_name": "LayoutModel",
            "_view_count": null,
            "_view_module": "@jupyter-widgets/base",
            "_view_module_version": "1.2.0",
            "_view_name": "LayoutView",
            "align_content": null,
            "align_items": null,
            "align_self": null,
            "border": null,
            "bottom": null,
            "display": null,
            "flex": null,
            "flex_flow": null,
            "grid_area": null,
            "grid_auto_columns": null,
            "grid_auto_flow": null,
            "grid_auto_rows": null,
            "grid_column": null,
            "grid_gap": null,
            "grid_row": null,
            "grid_template_areas": null,
            "grid_template_columns": null,
            "grid_template_rows": null,
            "height": null,
            "justify_content": null,
            "justify_items": null,
            "left": null,
            "margin": null,
            "max_height": null,
            "max_width": null,
            "min_height": null,
            "min_width": null,
            "object_fit": null,
            "object_position": null,
            "order": null,
            "overflow": null,
            "overflow_x": null,
            "overflow_y": null,
            "padding": null,
            "right": null,
            "top": null,
            "visibility": null,
            "width": null
          }
        },
        "a5393ce25964493bb828b3ba9f43fe58": {
          "model_module": "@jupyter-widgets/controls",
          "model_name": "DescriptionStyleModel",
          "model_module_version": "1.5.0",
          "state": {
            "_model_module": "@jupyter-widgets/controls",
            "_model_module_version": "1.5.0",
            "_model_name": "DescriptionStyleModel",
            "_view_count": null,
            "_view_module": "@jupyter-widgets/base",
            "_view_module_version": "1.2.0",
            "_view_name": "StyleView",
            "description_width": ""
          }
        },
        "960303474da54e1cbf23a13337374c77": {
          "model_module": "@jupyter-widgets/base",
          "model_name": "LayoutModel",
          "model_module_version": "1.2.0",
          "state": {
            "_model_module": "@jupyter-widgets/base",
            "_model_module_version": "1.2.0",
            "_model_name": "LayoutModel",
            "_view_count": null,
            "_view_module": "@jupyter-widgets/base",
            "_view_module_version": "1.2.0",
            "_view_name": "LayoutView",
            "align_content": null,
            "align_items": null,
            "align_self": null,
            "border": null,
            "bottom": null,
            "display": null,
            "flex": null,
            "flex_flow": null,
            "grid_area": null,
            "grid_auto_columns": null,
            "grid_auto_flow": null,
            "grid_auto_rows": null,
            "grid_column": null,
            "grid_gap": null,
            "grid_row": null,
            "grid_template_areas": null,
            "grid_template_columns": null,
            "grid_template_rows": null,
            "height": null,
            "justify_content": null,
            "justify_items": null,
            "left": null,
            "margin": null,
            "max_height": null,
            "max_width": null,
            "min_height": null,
            "min_width": null,
            "object_fit": null,
            "object_position": null,
            "order": null,
            "overflow": null,
            "overflow_x": null,
            "overflow_y": null,
            "padding": null,
            "right": null,
            "top": null,
            "visibility": null,
            "width": null
          }
        },
        "6d8d5b8abad9461e9fb270b9b1c9462e": {
          "model_module": "@jupyter-widgets/controls",
          "model_name": "ProgressStyleModel",
          "model_module_version": "1.5.0",
          "state": {
            "_model_module": "@jupyter-widgets/controls",
            "_model_module_version": "1.5.0",
            "_model_name": "ProgressStyleModel",
            "_view_count": null,
            "_view_module": "@jupyter-widgets/base",
            "_view_module_version": "1.2.0",
            "_view_name": "StyleView",
            "bar_color": null,
            "description_width": ""
          }
        },
        "7356bb36b98242498ad6228a685a1ed4": {
          "model_module": "@jupyter-widgets/base",
          "model_name": "LayoutModel",
          "model_module_version": "1.2.0",
          "state": {
            "_model_module": "@jupyter-widgets/base",
            "_model_module_version": "1.2.0",
            "_model_name": "LayoutModel",
            "_view_count": null,
            "_view_module": "@jupyter-widgets/base",
            "_view_module_version": "1.2.0",
            "_view_name": "LayoutView",
            "align_content": null,
            "align_items": null,
            "align_self": null,
            "border": null,
            "bottom": null,
            "display": null,
            "flex": null,
            "flex_flow": null,
            "grid_area": null,
            "grid_auto_columns": null,
            "grid_auto_flow": null,
            "grid_auto_rows": null,
            "grid_column": null,
            "grid_gap": null,
            "grid_row": null,
            "grid_template_areas": null,
            "grid_template_columns": null,
            "grid_template_rows": null,
            "height": null,
            "justify_content": null,
            "justify_items": null,
            "left": null,
            "margin": null,
            "max_height": null,
            "max_width": null,
            "min_height": null,
            "min_width": null,
            "object_fit": null,
            "object_position": null,
            "order": null,
            "overflow": null,
            "overflow_x": null,
            "overflow_y": null,
            "padding": null,
            "right": null,
            "top": null,
            "visibility": null,
            "width": null
          }
        },
        "803b7ae3503d4085b1383067351774dd": {
          "model_module": "@jupyter-widgets/controls",
          "model_name": "DescriptionStyleModel",
          "model_module_version": "1.5.0",
          "state": {
            "_model_module": "@jupyter-widgets/controls",
            "_model_module_version": "1.5.0",
            "_model_name": "DescriptionStyleModel",
            "_view_count": null,
            "_view_module": "@jupyter-widgets/base",
            "_view_module_version": "1.2.0",
            "_view_name": "StyleView",
            "description_width": ""
          }
        }
      }
    }
  },
  "cells": [
    {
      "cell_type": "markdown",
      "metadata": {
        "id": "view-in-github",
        "colab_type": "text"
      },
      "source": [
        "<a href=\"https://colab.research.google.com/github/AJAkil/All-things-AI/blob/master/DeepCourse_VIT_Practice.ipynb\" target=\"_parent\"><img src=\"https://colab.research.google.com/assets/colab-badge.svg\" alt=\"Open In Colab\"/></a>"
      ]
    },
    {
      "cell_type": "code",
      "execution_count": 1,
      "metadata": {
        "colab": {
          "base_uri": "https://localhost:8080/"
        },
        "id": "r6f1r7PNiJrh",
        "outputId": "2811f408-3b01-4548-8a8f-6c346b7956af"
      },
      "outputs": [
        {
          "output_type": "stream",
          "name": "stdout",
          "text": [
            "Populating the interactive namespace from numpy and matplotlib\n"
          ]
        }
      ],
      "source": [
        "%pylab inline"
      ]
    },
    {
      "cell_type": "code",
      "source": [
        "import pickle\n",
        "import math\n",
        "\n",
        "import numpy as np\n",
        "import torch\n",
        "from torch import nn\n",
        "from torch.nn import functional as F\n",
        "from torch.utils.data import DataLoader\n",
        "from torchvision.datasets import ImageFolder\n",
        "from torchvision import transforms\n",
        "import torchvision.utils as vutils\n",
        "import torchvision\n",
        "from PIL import Image"
      ],
      "metadata": {
        "id": "IneFFEjxi2bI"
      },
      "execution_count": 2,
      "outputs": []
    },
    {
      "cell_type": "code",
      "source": [
        "transform = transforms.Compose([\n",
        "  transforms.ToTensor()\n",
        "])\n",
        "\n",
        "train_dataset = torchvision.datasets.MNIST('.', train=True, download=True, transform=transform)\n",
        "test_dataset = torchvision.datasets.MNIST('.', train=False, download=True, transform=transform)\n",
        "\n",
        "\n",
        "train_loader = DataLoader(train_dataset, batch_size=128, shuffle=True)\n",
        "test_loader = DataLoader(test_dataset, batch_size=128)"
      ],
      "metadata": {
        "colab": {
          "base_uri": "https://localhost:8080/",
          "height": 423,
          "referenced_widgets": [
            "0de0d247c93c4636b28b5de756fee499",
            "31ccb7cac63c4ba1b11e671ae6c9c3c1",
            "79da501be253483580784f1637e76117",
            "f175fd74ea2144eab5f10cc438917e12",
            "825e3ef14bd24b7e93cb5042fd55f02a",
            "d6b883344d544b2fb257aef4c0c50091",
            "705cceb15b3f45afbc0b1900880a07fa",
            "3c22967c646447e099b002711595a948",
            "37a6ca01e4e34cac87a577fd76588c97",
            "667dc13bebae4cde88058447796f3d42",
            "bf727cc5866d4fd4b3738de1699bf09f",
            "08ce0e9d713c440c8469538d869498a5",
            "d5ee7ad84d464821b79e261b832ee662",
            "ba10584261304d75a7dcecbc1b4d02c3",
            "9bb4323c028d4a02a06c674bfb39fac4",
            "67a66444526b494aa16f021c1dd06362",
            "8785403b574e40abb991fe5d7af4d73a",
            "386ea94757024da1b2e1c0fd206ac867",
            "440ecf6273df4ab6aea53ab69a6d165a",
            "ce1e2be799304cda9bfd0aad90f75754",
            "b1e94e0973b14ff0bbcd9fcfb3fd7bad",
            "7365b979a22449a298b103b330bd0bd3",
            "a07c5f6f14ab40358fe8430ef4256728",
            "1dd4aafbeed849fda6fbdf6f84fc7d62",
            "a5ee9def8e9e448eb04177f8057a50ad",
            "22f3a457d20d418dbf95c26cfa63d703",
            "eaaef42d08934b82a7044ad64dece687",
            "2c073e6087d04838bc5dd40ba939a57a",
            "a4d4fb1d263e44c1860486c8d564dae4",
            "b30c93b0a34b4b62b72ba66c942e8574",
            "31375698fbfb497a80d6a1f70df536d6",
            "6053a6e9a2f44ffa9de4e31e01cc237d",
            "e949c1cc42844737975ae2f1fccce7e2",
            "b79e60d903a9401c957ab6628b50955f",
            "2e0bfa0056e14d4c9cbb53d3fa2d7059",
            "5537354ff6034d76a9ad060055e410cc",
            "fdba2256e733420ab13ae16ff1024c67",
            "9fd87748487f41b6bb3431b07785f0f1",
            "c41071dae0be4c88aa6f384776bcc654",
            "a5393ce25964493bb828b3ba9f43fe58",
            "960303474da54e1cbf23a13337374c77",
            "6d8d5b8abad9461e9fb270b9b1c9462e",
            "7356bb36b98242498ad6228a685a1ed4",
            "803b7ae3503d4085b1383067351774dd"
          ]
        },
        "id": "Zp-1DXbyjACL",
        "outputId": "6e334d3b-b64c-4df3-b8a1-f69b2fa799be"
      },
      "execution_count": 3,
      "outputs": [
        {
          "output_type": "stream",
          "name": "stdout",
          "text": [
            "Downloading http://yann.lecun.com/exdb/mnist/train-images-idx3-ubyte.gz\n",
            "Downloading http://yann.lecun.com/exdb/mnist/train-images-idx3-ubyte.gz to ./MNIST/raw/train-images-idx3-ubyte.gz\n"
          ]
        },
        {
          "output_type": "display_data",
          "data": {
            "text/plain": [
              "  0%|          | 0/9912422 [00:00<?, ?it/s]"
            ],
            "application/vnd.jupyter.widget-view+json": {
              "version_major": 2,
              "version_minor": 0,
              "model_id": "0de0d247c93c4636b28b5de756fee499"
            }
          },
          "metadata": {}
        },
        {
          "output_type": "stream",
          "name": "stdout",
          "text": [
            "Extracting ./MNIST/raw/train-images-idx3-ubyte.gz to ./MNIST/raw\n",
            "\n",
            "Downloading http://yann.lecun.com/exdb/mnist/train-labels-idx1-ubyte.gz\n",
            "Downloading http://yann.lecun.com/exdb/mnist/train-labels-idx1-ubyte.gz to ./MNIST/raw/train-labels-idx1-ubyte.gz\n"
          ]
        },
        {
          "output_type": "display_data",
          "data": {
            "text/plain": [
              "  0%|          | 0/28881 [00:00<?, ?it/s]"
            ],
            "application/vnd.jupyter.widget-view+json": {
              "version_major": 2,
              "version_minor": 0,
              "model_id": "08ce0e9d713c440c8469538d869498a5"
            }
          },
          "metadata": {}
        },
        {
          "output_type": "stream",
          "name": "stdout",
          "text": [
            "Extracting ./MNIST/raw/train-labels-idx1-ubyte.gz to ./MNIST/raw\n",
            "\n",
            "Downloading http://yann.lecun.com/exdb/mnist/t10k-images-idx3-ubyte.gz\n",
            "Downloading http://yann.lecun.com/exdb/mnist/t10k-images-idx3-ubyte.gz to ./MNIST/raw/t10k-images-idx3-ubyte.gz\n"
          ]
        },
        {
          "output_type": "display_data",
          "data": {
            "text/plain": [
              "  0%|          | 0/1648877 [00:00<?, ?it/s]"
            ],
            "application/vnd.jupyter.widget-view+json": {
              "version_major": 2,
              "version_minor": 0,
              "model_id": "a07c5f6f14ab40358fe8430ef4256728"
            }
          },
          "metadata": {}
        },
        {
          "output_type": "stream",
          "name": "stdout",
          "text": [
            "Extracting ./MNIST/raw/t10k-images-idx3-ubyte.gz to ./MNIST/raw\n",
            "\n",
            "Downloading http://yann.lecun.com/exdb/mnist/t10k-labels-idx1-ubyte.gz\n",
            "Downloading http://yann.lecun.com/exdb/mnist/t10k-labels-idx1-ubyte.gz to ./MNIST/raw/t10k-labels-idx1-ubyte.gz\n"
          ]
        },
        {
          "output_type": "display_data",
          "data": {
            "text/plain": [
              "  0%|          | 0/4542 [00:00<?, ?it/s]"
            ],
            "application/vnd.jupyter.widget-view+json": {
              "version_major": 2,
              "version_minor": 0,
              "model_id": "b79e60d903a9401c957ab6628b50955f"
            }
          },
          "metadata": {}
        },
        {
          "output_type": "stream",
          "name": "stdout",
          "text": [
            "Extracting ./MNIST/raw/t10k-labels-idx1-ubyte.gz to ./MNIST/raw\n",
            "\n"
          ]
        }
      ]
    },
    {
      "cell_type": "code",
      "source": [
        "real_batch = next(iter(train_loader))\n",
        "real_batch[1].shape"
      ],
      "metadata": {
        "colab": {
          "base_uri": "https://localhost:8080/"
        },
        "id": "-KHhpht6moID",
        "outputId": "fde5f579-54c1-47d2-b4a1-bcdd546dd5e7"
      },
      "execution_count": 4,
      "outputs": [
        {
          "output_type": "execute_result",
          "data": {
            "text/plain": [
              "torch.Size([128])"
            ]
          },
          "metadata": {},
          "execution_count": 4
        }
      ]
    },
    {
      "cell_type": "code",
      "source": [
        "real_batch = next(iter(train_loader))\n",
        "plt.figure(figsize=(8,8))\n",
        "plt.axis(\"off\")\n",
        "plt.title(\"Real Images\")\n",
        "plt.imshow(vutils.make_grid(real_batch[0][:64], normalize=True).permute(1,2,0))\n",
        "plt.show()"
      ],
      "metadata": {
        "colab": {
          "base_uri": "https://localhost:8080/",
          "height": 482
        },
        "id": "aKykkUn0meEb",
        "outputId": "dfc6f243-e19f-4d20-a7ce-df6094965667"
      },
      "execution_count": 5,
      "outputs": [
        {
          "output_type": "display_data",
          "data": {
            "text/plain": [
              "<Figure size 576x576 with 1 Axes>"
            ],
            "image/png": "[encoded data removed]"
          },
          "metadata": {
            "needs_background": "light"
          }
        }
      ]
    },
    {
      "cell_type": "code",
      "source": [
        "class PatchEmbed(nn.Module):\n",
        "  def __init__(self, in_chan=1, patch_size=7, embed_dim=128):\n",
        "    super().__init__()\n",
        "    self.projection = nn.Conv2d(in_chan, embed_dim, kernel_size=patch_size, stride=patch_size)\n",
        "\n",
        "  def forward(self, x):\n",
        "    x = self.projection(x)\n",
        "\n",
        "    B, C, H, W = x.shape\n",
        "\n",
        "    # reshaping to (batch_size, nb_tokens, embedding_dim)\n",
        "    x = x.permute(0,2,3,1).reshape([B, H*W, C])\n",
        "\n",
        "    return x"
      ],
      "metadata": {
        "id": "7Ij1jE0UnOXw"
      },
      "execution_count": 6,
      "outputs": []
    },
    {
      "cell_type": "code",
      "source": [
        "PatchEmbed()(torch.randn(32, 1, 28, 28)).shape"
      ],
      "metadata": {
        "colab": {
          "base_uri": "https://localhost:8080/"
        },
        "id": "WP0RziYppSWx",
        "outputId": "45085f2f-a6bf-41bd-8c30-cc71f4ece91e"
      },
      "execution_count": 7,
      "outputs": [
        {
          "output_type": "execute_result",
          "data": {
            "text/plain": [
              "torch.Size([32, 16, 128])"
            ]
          },
          "metadata": {},
          "execution_count": 7
        }
      ]
    },
    {
      "cell_type": "code",
      "source": [
        "# Execute this cell to see the solution, but try to do it by yourself before!\n",
        "!wget https://raw.githubusercontent.com/arthurdouillard/deepcourse/master/static/code/transf/patch.py\n",
        "%pycat patch.py"
      ],
      "metadata": {
        "colab": {
          "base_uri": "https://localhost:8080/"
        },
        "id": "ynW6OEytpcVI",
        "outputId": "13c3f262-ae0a-47ee-fc50-0c67ce380c19"
      },
      "execution_count": 8,
      "outputs": [
        {
          "output_type": "stream",
          "name": "stdout",
          "text": [
            "--2023-03-12 17:27:10--  https://raw.githubusercontent.com/arthurdouillard/deepcourse/master/static/code/transf/patch.py\n",
            "Resolving raw.githubusercontent.com (raw.githubusercontent.com)... 185.199.108.133, 185.199.109.133, 185.199.110.133, ...\n",
            "Connecting to raw.githubusercontent.com (raw.githubusercontent.com)|185.199.108.133|:443... connected.\n",
            "HTTP request sent, awaiting response... 200 OK\n",
            "Length: 521 [text/plain]\n",
            "Saving to: ‘patch.py’\n",
            "\n",
            "\rpatch.py              0%[                    ]       0  --.-KB/s               \rpatch.py            100%[===================>]     521  --.-KB/s    in 0s      \n",
            "\n",
            "2023-03-12 17:27:10 (29.5 MB/s) - ‘patch.py’ saved [521/521]\n",
            "\n"
          ]
        }
      ]
    },
    {
      "cell_type": "code",
      "source": [
        "class MLP(nn.Module):\n",
        "  def __init__(self, in_features, hid_features):\n",
        "    super().__init__()\n",
        "    self.linear = nn.Linear(in_features, hid_features)\n",
        "    self.GELU = nn.GELU()\n",
        "    self.linear_2 = nn.Linear(hid_features, in_features)\n",
        "\n",
        "  def forward(self, x):\n",
        "    x = self.linear_2(self.GELU(self.linear(x)))\n",
        "    return x\n",
        "\n"
      ],
      "metadata": {
        "id": "RoqEOtF2pwZ4"
      },
      "execution_count": 27,
      "outputs": []
    },
    {
      "cell_type": "code",
      "source": [
        "MLP(128, 512)(torch.randn(32, 16, 128)).shape"
      ],
      "metadata": {
        "colab": {
          "base_uri": "https://localhost:8080/"
        },
        "id": "mxyt6szMqu5e",
        "outputId": "59300ac1-aa91-4779-d8c0-ece162693e22"
      },
      "execution_count": 10,
      "outputs": [
        {
          "output_type": "execute_result",
          "data": {
            "text/plain": [
              "torch.Size([32, 16, 128])"
            ]
          },
          "metadata": {},
          "execution_count": 10
        }
      ]
    },
    {
      "cell_type": "code",
      "source": [
        "# Execute this cell to see the solution, but try to do it by yourself before!\n",
        "!wget https://raw.githubusercontent.com/arthurdouillard/deepcourse/master/static/code/transf/mlp.py\n",
        "%pycat mlp.py"
      ],
      "metadata": {
        "colab": {
          "base_uri": "https://localhost:8080/"
        },
        "id": "gjvmm7D5oiO0",
        "outputId": "6bd453c3-f46e-4bdf-e467-a1e34bbbec52"
      },
      "execution_count": 11,
      "outputs": [
        {
          "output_type": "stream",
          "name": "stdout",
          "text": [
            "--2023-03-12 17:27:10--  https://raw.githubusercontent.com/arthurdouillard/deepcourse/master/static/code/transf/mlp.py\n",
            "Resolving raw.githubusercontent.com (raw.githubusercontent.com)... 185.199.108.133, 185.199.109.133, 185.199.110.133, ...\n",
            "Connecting to raw.githubusercontent.com (raw.githubusercontent.com)|185.199.108.133|:443... connected.\n",
            "HTTP request sent, awaiting response... 200 OK\n",
            "Length: 309 [text/plain]\n",
            "Saving to: ‘mlp.py’\n",
            "\n",
            "\rmlp.py                0%[                    ]       0  --.-KB/s               \rmlp.py              100%[===================>]     309  --.-KB/s    in 0s      \n",
            "\n",
            "2023-03-12 17:27:10 (16.7 MB/s) - ‘mlp.py’ saved [309/309]\n",
            "\n"
          ]
        }
      ]
    },
    {
      "cell_type": "code",
      "source": [
        "class SelfAttention(nn.Module):\n",
        "  def __init__(self, embed_dim):\n",
        "    super().__init__()\n",
        "    self.query_transform = nn.Linear(embed_dim, embed_dim, bias=False)\n",
        "    self.key_transform   = nn.Linear(embed_dim, embed_dim, bias=False)\n",
        "    self.value_transform = nn.Linear(embed_dim, embed_dim, bias=False)\n",
        "    self.scale = embed_dim**-0.5\n",
        "    self.linear = nn.Linear(embed_dim, embed_dim)\n",
        "  \n",
        "  def forward(self, x):\n",
        "    B, N, C = x.shape\n",
        "\n",
        "    q = self.query_transform(x)\n",
        "    k = self.key_transform(x)\n",
        "    v = self.value_transform(x)\n",
        "    #print(v.shape)\n",
        "\n",
        "    attention = torch.matmul(q, k.transpose(1,2)) * self.scale\n",
        "    #print(attention.shape)\n",
        "    attention = torch.softmax(attention, dim = -1)\n",
        "    x = torch.matmul(attention, v)\n",
        "    return self.linear(x)\n"
      ],
      "metadata": {
        "id": "ndTBxh0Wq4nS"
      },
      "execution_count": 28,
      "outputs": []
    },
    {
      "cell_type": "code",
      "source": [
        "SelfAttention(128)(torch.randn(32, 16, 128)).shape"
      ],
      "metadata": {
        "colab": {
          "base_uri": "https://localhost:8080/"
        },
        "id": "tUa4KWwEt8Bk",
        "outputId": "35571a9b-6945-4ec6-a8f5-6e1f066088d2"
      },
      "execution_count": 13,
      "outputs": [
        {
          "output_type": "stream",
          "name": "stdout",
          "text": [
            "torch.Size([32, 16, 128])\n",
            "torch.Size([32, 16, 16])\n"
          ]
        },
        {
          "output_type": "execute_result",
          "data": {
            "text/plain": [
              "torch.Size([32, 16, 128])"
            ]
          },
          "metadata": {},
          "execution_count": 13
        }
      ]
    },
    {
      "cell_type": "code",
      "source": [
        "x = torch.randn(3,3)\n",
        "print(x)\n",
        "print(x.shape)\n",
        "\n",
        "torch.softmax(x, dim = -1)"
      ],
      "metadata": {
        "colab": {
          "base_uri": "https://localhost:8080/"
        },
        "id": "K_5qPtBMgWGd",
        "outputId": "6d2de57d-eb1f-446d-f163-24158e75c429"
      },
      "execution_count": 14,
      "outputs": [
        {
          "output_type": "stream",
          "name": "stdout",
          "text": [
            "tensor([[ 0.1710, -0.0284,  0.7758],\n",
            "        [-0.3946, -0.1757,  1.7481],\n",
            "        [-0.1024, -0.2392, -0.2992]])\n",
            "torch.Size([3, 3])\n"
          ]
        },
        {
          "output_type": "execute_result",
          "data": {
            "text/plain": [
              "tensor([[0.2740, 0.2244, 0.5016],\n",
              "        [0.0929, 0.1156, 0.7915],\n",
              "        [0.3713, 0.3238, 0.3049]])"
            ]
          },
          "metadata": {},
          "execution_count": 14
        }
      ]
    },
    {
      "cell_type": "code",
      "source": [
        "# Execute this cell to see the solution, but try to do it by yourself before!\n",
        "!wget https://raw.githubusercontent.com/arthurdouillard/deepcourse/master/static/code/transf/sa.py\n",
        "%pycat sa.py"
      ],
      "metadata": {
        "colab": {
          "base_uri": "https://localhost:8080/"
        },
        "id": "LJML12fprQpg",
        "outputId": "9db38d7d-9614-4afd-a6e2-cd2ef6888e25"
      },
      "execution_count": 15,
      "outputs": [
        {
          "output_type": "stream",
          "name": "stdout",
          "text": [
            "--2023-03-12 17:27:10--  https://raw.githubusercontent.com/arthurdouillard/deepcourse/master/static/code/transf/sa.py\n",
            "Resolving raw.githubusercontent.com (raw.githubusercontent.com)... 185.199.108.133, 185.199.109.133, 185.199.110.133, ...\n",
            "Connecting to raw.githubusercontent.com (raw.githubusercontent.com)|185.199.108.133|:443... connected.\n",
            "HTTP request sent, awaiting response... 200 OK\n",
            "Length: 642 [text/plain]\n",
            "Saving to: ‘sa.py’\n",
            "\n",
            "sa.py               100%[===================>]     642  --.-KB/s    in 0s      \n",
            "\n",
            "2023-03-12 17:27:10 (52.7 MB/s) - ‘sa.py’ saved [642/642]\n",
            "\n"
          ]
        }
      ]
    },
    {
      "cell_type": "code",
      "source": [
        "class Block(nn.Module):\n",
        "  def __init__(self, embed_dim, mlp_ratio=4):\n",
        "    super().__init__()\n",
        "    self.layer_norm_1 = nn.LayerNorm(embed_dim)\n",
        "    self.layer_norm_2 = nn.LayerNorm(embed_dim)\n",
        "\n",
        "    self.mlp = MLP(embed_dim, embed_dim * mlp_ratio)\n",
        "    self.self_attention = SelfAttention(embed_dim)\n",
        "  \n",
        "  def forward(self, x):\n",
        "    x = x + self.self_attention(self.layer_norm_1(x))\n",
        "    # print(x.shape)\n",
        "    x = x + self.mlp(self.layer_norm_2(x))\n",
        "    return x\n",
        "\n",
        "    return x"
      ],
      "metadata": {
        "id": "fApWeYw3i9Ke"
      },
      "execution_count": 29,
      "outputs": []
    },
    {
      "cell_type": "code",
      "source": [
        "class Block(nn.Module):\n",
        "  def __init__(self, embed_dim, mlp_ratio=4):\n",
        "    super().__init__()\n",
        "\n",
        "    self.attention = SelfAttention(embed_dim)\n",
        "    self.norm1 = nn.LayerNorm(embed_dim)\n",
        "    self.mlp = MLP(embed_dim, embed_dim * mlp_ratio)\n",
        "    self.norm2 = nn.LayerNorm(embed_dim)\n",
        "\n",
        "  def forward(self, x):\n",
        "    x = x + self.attention(self.norm1(x))\n",
        "    x = x + self.mlp(self.norm2(x))\n",
        "    return x"
      ],
      "metadata": {
        "id": "Pno5UZGdoXEr"
      },
      "execution_count": 30,
      "outputs": []
    },
    {
      "cell_type": "code",
      "source": [
        "Block(128)(torch.randn(32, 16, 128)).shape"
      ],
      "metadata": {
        "colab": {
          "base_uri": "https://localhost:8080/"
        },
        "id": "qrp0pqEimVl-",
        "outputId": "9dca7a0f-75a0-4e72-aeef-73960fbbcac9"
      },
      "execution_count": 18,
      "outputs": [
        {
          "output_type": "stream",
          "name": "stdout",
          "text": [
            "torch.Size([32, 16, 128])\n",
            "torch.Size([32, 16, 16])\n"
          ]
        },
        {
          "output_type": "execute_result",
          "data": {
            "text/plain": [
              "torch.Size([32, 16, 128])"
            ]
          },
          "metadata": {},
          "execution_count": 18
        }
      ]
    },
    {
      "cell_type": "code",
      "source": [
        "# Execute this cell to see the solution, but try to do it by yourself before!\n",
        "!wget https://raw.githubusercontent.com/arthurdouillard/deepcourse/master/static/code/transf/block.py\n",
        "%pycat block.py"
      ],
      "metadata": {
        "colab": {
          "base_uri": "https://localhost:8080/"
        },
        "id": "UVSSuK9mkbTJ",
        "outputId": "4673ab4b-9267-43a0-d273-6ec517bc6ddd"
      },
      "execution_count": 19,
      "outputs": [
        {
          "output_type": "stream",
          "name": "stdout",
          "text": [
            "--2023-03-12 17:27:11--  https://raw.githubusercontent.com/arthurdouillard/deepcourse/master/static/code/transf/block.py\n",
            "Resolving raw.githubusercontent.com (raw.githubusercontent.com)... 185.199.108.133, 185.199.109.133, 185.199.110.133, ...\n",
            "Connecting to raw.githubusercontent.com (raw.githubusercontent.com)|185.199.108.133|:443... connected.\n",
            "HTTP request sent, awaiting response... 200 OK\n",
            "Length: 391 [text/plain]\n",
            "Saving to: ‘block.py’\n",
            "\n",
            "block.py            100%[===================>]     391  --.-KB/s    in 0s      \n",
            "\n",
            "2023-03-12 17:27:11 (27.8 MB/s) - ‘block.py’ saved [391/391]\n",
            "\n"
          ]
        }
      ]
    },
    {
      "cell_type": "code",
      "source": [
        "class ViT(nn.Module):\n",
        "  def __init__(self, embed_dim, nb_transformer_blocks, patch_size, nb_classes=10):\n",
        "    super().__init__()\n",
        "\n",
        "    num_patches = (28 // patch_size) ** 2\n",
        "\n",
        "    self.class_token = nn.Parameter(torch.randn(1, 1, embed_dim))\n",
        "    self.pos_embed = nn.Parameter(torch.randn(1, num_patches + 1, embed_dim))\n",
        "    self.patch_embed = PatchEmbed(patch_size=patch_size, embed_dim=embed_dim)\n",
        "\n",
        "    blocks = [Block(embed_dim) for _ in range(nb_transformer_blocks)]\n",
        "\n",
        "    self.blocks = nn.Sequential(*blocks)\n",
        "    self.norm = nn.LayerNorm(embed_dim)\n",
        "    self.head = nn.Linear(embed_dim, nb_classes)\n",
        "\n",
        "  def forward(self, x):\n",
        "    \n",
        "    #print(x.shape)\n",
        "    x = self.patch_embed(x)\n",
        "    #print(x.shape)\n",
        "\n",
        "    class_token = self.class_token.expand(x.shape[0], -1, -1)\n",
        "    #print('class token shape:', class_token.shape)\n",
        "\n",
        "    x = torch.cat((class_token, x), dim=1)\n",
        "    #print('x shape after concatenating with class token: ', x.shape)\n",
        "    #print('pos embeddings shape: ', self.pos_embed.shape)\n",
        "    x = x + self.pos_embed # broadcasting (1, 17, 128) to (batch_size, 16, 128)\n",
        "    #print('x shape after concatenating with positional embedding: ', x.shape)\n",
        "    x = self.blocks(x)\n",
        "    x = self.norm(x)\n",
        "\n",
        "    return self.head(x[:, 0]) # taking all batch and the class token(first embedding) from them\n",
        "\n"
      ],
      "metadata": {
        "id": "Cnvglu6dlMK5"
      },
      "execution_count": 31,
      "outputs": []
    },
    {
      "cell_type": "code",
      "source": [
        "ViT(128, 3, 7)(torch.randn(32, 1, 28, 28)).shape"
      ],
      "metadata": {
        "colab": {
          "base_uri": "https://localhost:8080/"
        },
        "id": "DU0rqLXmrAb3",
        "outputId": "07aca63d-075b-42e9-9934-590fd62012fc"
      },
      "execution_count": 21,
      "outputs": [
        {
          "output_type": "stream",
          "name": "stdout",
          "text": [
            "torch.Size([32, 17, 128])\n",
            "torch.Size([32, 17, 17])\n",
            "torch.Size([32, 17, 128])\n",
            "torch.Size([32, 17, 17])\n",
            "torch.Size([32, 17, 128])\n",
            "torch.Size([32, 17, 17])\n"
          ]
        },
        {
          "output_type": "execute_result",
          "data": {
            "text/plain": [
              "torch.Size([32, 10])"
            ]
          },
          "metadata": {},
          "execution_count": 21
        }
      ]
    },
    {
      "cell_type": "code",
      "source": [
        "@torch.no_grad()\n",
        "def eval_model(model, loader):\n",
        "  model.eval()\n",
        "  acc = 0.\n",
        "  c = 0\n",
        "\n",
        "  for x, y in loader:\n",
        "    x, y = x.cuda(), y.cuda()\n",
        "    yhat = model(x)\n",
        "\n",
        "    acc += torch.sum(yhat.argmax(dim=1) == y).cpu().item()\n",
        "    c += len(x)\n",
        "\n",
        "  model.train()\n",
        "  return round(100 * acc / c, 2)"
      ],
      "metadata": {
        "id": "pDTp4IPf17-P"
      },
      "execution_count": 25,
      "outputs": []
    },
    {
      "cell_type": "code",
      "source": [
        "epochs = 10\n",
        "\n",
        "embed_dim = 32\n",
        "patch_size = 7\n",
        "nb_blocks = 2\n",
        "\n",
        "model = ViT(embed_dim, nb_blocks, patch_size).cuda()\n",
        "\n",
        "opt = torch.optim.Adam(model.parameters())\n",
        "\n",
        "for epoch in range(epochs):\n",
        "  train_loss = 0.\n",
        "  for x, y in train_loader:\n",
        "    x, y = x.cuda(), y.cuda()\n",
        "\n",
        "    opt.zero_grad()\n",
        "    yhat = model(x)\n",
        "    loss = F.cross_entropy(yhat, y)\n",
        "    loss.backward()\n",
        "\n",
        "    opt.step()\n",
        "\n",
        "    train_loss += loss.item()\n",
        "\n",
        "  print(f\"--- Epoch {epoch} ---\")\n",
        "  print(f\"Train loss: {train_loss / len(train_loader)}\")\n",
        "acc = eval_model(model, test_loader)\n",
        "print(f\"Test accuracy: {acc}\")\n",
        "  "
      ],
      "metadata": {
        "colab": {
          "base_uri": "https://localhost:8080/"
        },
        "id": "LdVhyuO12_ws",
        "outputId": "e7e75efd-ac0c-4638-b2e1-5b49ff888cb2"
      },
      "execution_count": 32,
      "outputs": [
        {
          "output_type": "stream",
          "name": "stdout",
          "text": [
            "--- Epoch 0 ---\n",
            "Train loss: 0.8216630220413208\n",
            "--- Epoch 1 ---\n",
            "Train loss: 0.2735871227978389\n",
            "--- Epoch 2 ---\n",
            "Train loss: 0.20257049737009666\n",
            "--- Epoch 3 ---\n",
            "Train loss: 0.16572319043438827\n",
            "--- Epoch 4 ---\n",
            "Train loss: 0.14504306997730534\n",
            "--- Epoch 5 ---\n",
            "Train loss: 0.12559870976422513\n",
            "--- Epoch 6 ---\n",
            "Train loss: 0.11495266786849956\n",
            "--- Epoch 7 ---\n",
            "Train loss: 0.1027607403949761\n",
            "--- Epoch 8 ---\n",
            "Train loss: 0.09682309263741284\n",
            "--- Epoch 9 ---\n",
            "Train loss: 0.08963767874604667\n",
            "Test accuracy: 97.11\n"
          ]
        }
      ]
    },
    {
      "cell_type": "code",
      "source": [
        "class MultiHeadsSelfAttention(nn.Module):\n",
        "  def __init__(self, embed_dim, num_heads):\n",
        "    super().__init__()\n",
        "\n",
        "    head_dim = embed_dim // num_heads\n",
        "    self.scale = head_dim ** -0.5\n",
        "    self.num_heads = num_heads\n",
        "\n",
        "    self.q = nn.Linear(embed_dim, embed_dim, bias=False)\n",
        "    self.k = nn.Linear(embed_dim, embed_dim, bias=False)\n",
        "    self.v = nn.Linear(embed_dim, embed_dim, bias=False)\n",
        "    self.projection = nn.Linear(embed_dim, embed_dim)\n",
        "\n",
        "  def forward(self, x):\n",
        "    B, N, C = x.shape\n",
        "    print(B, N, C)\n",
        "  \n",
        "    q = self.q(x)\n",
        "    k = self.k(x)\n",
        "    v = self.v(x)\n",
        "    print(q.shape)\n",
        "\n",
        "    q = q.reshape(B, N, C // self.num_heads, self.num_heads)\n",
        "    k = k.reshape(B, N, C // self.num_heads, self.num_heads)\n",
        "    v = v.reshape(B, N, C // self.num_heads, self.num_heads)\n",
        "    \n",
        "    x = q.permute(0, 2, 1, 3)\n",
        "    x = k.permute(0, 2, 1, 3)\n",
        "    x = v.permute(0, 2, 1, 3)\n",
        "\n",
        "    attention = torch.matmul(q, k.transpose(2,3)) * self.scale\n",
        "    #print(attention.shape)\n",
        "    attention = torch.softmax(attention, dim = -1)\n",
        "    x = torch.matmul(attention, v)\n",
        "\n",
        "    x = x.permute(0, 2, 1, 3)\n",
        "    x = x.reshape(B, N, C)\n",
        "    x = self.projection(x)\n",
        "    return x\n",
        "\n",
        "\n",
        "MultiHeadsSelfAttention(6, 2)(torch.randn(32, 16, 6)).shape"
      ],
      "metadata": {
        "colab": {
          "base_uri": "https://localhost:8080/"
        },
        "id": "dvCyzhJv4laa",
        "outputId": "36bbbbed-c99e-4c90-cbaf-f4c26a477e83"
      },
      "execution_count": 48,
      "outputs": [
        {
          "output_type": "stream",
          "name": "stdout",
          "text": [
            "32 16 6\n",
            "torch.Size([32, 16, 6])\n"
          ]
        },
        {
          "output_type": "execute_result",
          "data": {
            "text/plain": [
              "torch.Size([32, 16, 6])"
            ]
          },
          "metadata": {},
          "execution_count": 48
        }
      ]
    },
    {
      "cell_type": "code",
      "source": [
        "# Execute this cell to see the solution, but try to do it by yourself before!\n",
        "!wget https://raw.githubusercontent.com/arthurdouillard/deepcourse/master/static/code/transf/mhsa.py\n",
        "%pycat mhsa.py"
      ],
      "metadata": {
        "colab": {
          "base_uri": "https://localhost:8080/"
        },
        "id": "TwiPUYZc4ll6",
        "outputId": "7acff8aa-44c7-409d-810e-07a5d1afad35"
      },
      "execution_count": 47,
      "outputs": [
        {
          "output_type": "stream",
          "name": "stdout",
          "text": [
            "--2023-03-12 17:51:30--  https://raw.githubusercontent.com/arthurdouillard/deepcourse/master/static/code/transf/mhsa.py\n",
            "Resolving raw.githubusercontent.com (raw.githubusercontent.com)... 185.199.108.133, 185.199.109.133, 185.199.110.133, ...\n",
            "Connecting to raw.githubusercontent.com (raw.githubusercontent.com)|185.199.108.133|:443... connected.\n",
            "HTTP request sent, awaiting response... 200 OK\n",
            "Length: 1079 (1.1K) [text/plain]\n",
            "Saving to: ‘mhsa.py.9’\n",
            "\n",
            "\rmhsa.py.9             0%[                    ]       0  --.-KB/s               \rmhsa.py.9           100%[===================>]   1.05K  --.-KB/s    in 0s      \n",
            "\n",
            "2023-03-12 17:51:30 (72.6 MB/s) - ‘mhsa.py.9’ saved [1079/1079]\n",
            "\n"
          ]
        }
      ]
    }
  ]
}